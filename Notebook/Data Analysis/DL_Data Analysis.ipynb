{
 "cells": [
  {
   "cell_type": "markdown",
   "metadata": {
    "id": "3RautrYI18m7"
   },
   "source": [
    "# Deep Learning Fundamentals - LU01-B Lab Exercise\n",
    "\n",
    "## 2.0 Structured data analysis using Pandas"
   ]
  },
  {
   "cell_type": "markdown",
   "metadata": {
    "id": "TtTqamzj18m8"
   },
   "source": [
    "The purpose of this lab exercise is to demonstrate the analyzing of categorical data and to transform them to numerical format using different methods. The steps selects the categorical columns and their respective data to a separate array for demonstration purpose."
   ]
  },
  {
   "cell_type": "markdown",
   "metadata": {
    "id": "DzRWoSFk18m8"
   },
   "source": [
    "## 2.1 Import required package and load data from file into pandas dataframe"
   ]
  },
  {
   "cell_type": "code",
   "execution_count": 1,
   "metadata": {
    "colab": {
     "base_uri": "https://localhost:8080/",
     "height": 88
    },
    "executionInfo": {
     "elapsed": 1852,
     "status": "ok",
     "timestamp": 1601451150050,
     "user": {
      "displayName": "Shannen Ang",
      "photoUrl": "https://lh3.googleusercontent.com/a-/AOh14Gij4dJOVMwcjFhPJEz7npDxgg-ASHzpFf5XkyU8jQ=s64",
      "userId": "04024065041896518848"
     },
     "user_tz": -480
    },
    "id": "JNkYEFT918m9",
    "outputId": "bfd349b6-d6ce-4005-bb02-00e9fe6994ad"
   },
   "outputs": [
    {
     "name": "stdout",
     "output_type": "stream",
     "text": [
      "object     43\n",
      "float64    21\n",
      "int64      16\n",
      "dtype: int64\n"
     ]
    }
   ],
   "source": [
    "import pandas as pd\n",
    "import numpy as np\n",
    "\n",
    "# Import the data using the file path. sep is the separator format in the file\n",
    "data = pd.read_csv('Ames_Housing_Sales.csv', sep=',')\n",
    "\n",
    "# Count the number of fields for different types of data in the dataframe\n",
    "print(data.dtypes.value_counts())"
   ]
  },
  {
   "cell_type": "markdown",
   "metadata": {
    "id": "kgp-FZaQ18nA"
   },
   "source": [
    "## 2.2 Analyze data types in the dataframe\n",
    "To identify which are the categorical data in the dataset, we can analyze it through the data types of all the fields in the dataframe."
   ]
  },
  {
   "cell_type": "code",
   "execution_count": 2,
   "metadata": {
    "colab": {
     "base_uri": "https://localhost:8080/",
     "height": 230
    },
    "executionInfo": {
     "elapsed": 1835,
     "status": "ok",
     "timestamp": 1601451150051,
     "user": {
      "displayName": "Shannen Ang",
      "photoUrl": "https://lh3.googleusercontent.com/a-/AOh14Gij4dJOVMwcjFhPJEz7npDxgg-ASHzpFf5XkyU8jQ=s64",
      "userId": "04024065041896518848"
     },
     "user_tz": -480
    },
    "id": "MdcPXxae18nB",
    "outputId": "5046015c-e0fd-441f-b657-f215db97d65b"
   },
   "outputs": [
    {
     "name": "stdout",
     "output_type": "stream",
     "text": [
      "1stFlrSF        float64\n",
      "2ndFlrSF        float64\n",
      "3SsnPorch       float64\n",
      "Alley            object\n",
      "BedroomAbvGr      int64\n",
      "                 ...   \n",
      "WoodDeckSF      float64\n",
      "YearBuilt         int64\n",
      "YearRemodAdd      int64\n",
      "YrSold            int64\n",
      "SalePrice       float64\n",
      "Length: 80, dtype: object\n"
     ]
    }
   ],
   "source": [
    "# Datafield and the types in the dataframe\n",
    "print(data.dtypes)"
   ]
  },
  {
   "cell_type": "code",
   "execution_count": 3,
   "metadata": {
    "colab": {
     "base_uri": "https://localhost:8080/",
     "height": 1000
    },
    "executionInfo": {
     "elapsed": 1820,
     "status": "ok",
     "timestamp": 1601451150052,
     "user": {
      "displayName": "Shannen Ang",
      "photoUrl": "https://lh3.googleusercontent.com/a-/AOh14Gij4dJOVMwcjFhPJEz7npDxgg-ASHzpFf5XkyU8jQ=s64",
      "userId": "04024065041896518848"
     },
     "user_tz": -480
    },
    "id": "GmdXkb1U18nE",
    "outputId": "37ae0f1d-d860-4d53-a6dc-04435c1a6ca5"
   },
   "outputs": [
    {
     "name": "stdout",
     "output_type": "stream",
     "text": [
      "<class 'pandas.core.frame.DataFrame'>\n",
      "RangeIndex: 1379 entries, 0 to 1378\n",
      "Data columns (total 80 columns):\n",
      " #   Column         Non-Null Count  Dtype  \n",
      "---  ------         --------------  -----  \n",
      " 0   1stFlrSF       1379 non-null   float64\n",
      " 1   2ndFlrSF       1379 non-null   float64\n",
      " 2   3SsnPorch      1379 non-null   float64\n",
      " 3   Alley          1379 non-null   object \n",
      " 4   BedroomAbvGr   1379 non-null   int64  \n",
      " 5   BldgType       1379 non-null   object \n",
      " 6   BsmtCond       1379 non-null   object \n",
      " 7   BsmtExposure   1379 non-null   object \n",
      " 8   BsmtFinSF1     1379 non-null   float64\n",
      " 9   BsmtFinSF2     1379 non-null   float64\n",
      " 10  BsmtFinType1   1379 non-null   object \n",
      " 11  BsmtFinType2   1379 non-null   object \n",
      " 12  BsmtFullBath   1379 non-null   int64  \n",
      " 13  BsmtHalfBath   1379 non-null   int64  \n",
      " 14  BsmtQual       1379 non-null   object \n",
      " 15  BsmtUnfSF      1379 non-null   float64\n",
      " 16  CentralAir     1379 non-null   object \n",
      " 17  Condition1     1379 non-null   object \n",
      " 18  Condition2     1379 non-null   object \n",
      " 19  Electrical     1379 non-null   object \n",
      " 20  EnclosedPorch  1379 non-null   float64\n",
      " 21  ExterCond      1379 non-null   object \n",
      " 22  ExterQual      1379 non-null   object \n",
      " 23  Exterior1st    1379 non-null   object \n",
      " 24  Exterior2nd    1379 non-null   object \n",
      " 25  Fence          1379 non-null   object \n",
      " 26  FireplaceQu    1379 non-null   object \n",
      " 27  Fireplaces     1379 non-null   int64  \n",
      " 28  Foundation     1379 non-null   object \n",
      " 29  FullBath       1379 non-null   int64  \n",
      " 30  Functional     1379 non-null   object \n",
      " 31  GarageArea     1379 non-null   float64\n",
      " 32  GarageCars     1379 non-null   int64  \n",
      " 33  GarageCond     1379 non-null   object \n",
      " 34  GarageFinish   1379 non-null   object \n",
      " 35  GarageQual     1379 non-null   object \n",
      " 36  GarageType     1379 non-null   object \n",
      " 37  GarageYrBlt    1379 non-null   float64\n",
      " 38  GrLivArea      1379 non-null   float64\n",
      " 39  HalfBath       1379 non-null   int64  \n",
      " 40  Heating        1379 non-null   object \n",
      " 41  HeatingQC      1379 non-null   object \n",
      " 42  HouseStyle     1379 non-null   object \n",
      " 43  KitchenAbvGr   1379 non-null   int64  \n",
      " 44  KitchenQual    1379 non-null   object \n",
      " 45  LandContour    1379 non-null   object \n",
      " 46  LandSlope      1379 non-null   object \n",
      " 47  LotArea        1379 non-null   float64\n",
      " 48  LotConfig      1379 non-null   object \n",
      " 49  LotFrontage    1379 non-null   float64\n",
      " 50  LotShape       1379 non-null   object \n",
      " 51  LowQualFinSF   1379 non-null   float64\n",
      " 52  MSSubClass     1379 non-null   int64  \n",
      " 53  MSZoning       1379 non-null   object \n",
      " 54  MasVnrArea     1379 non-null   float64\n",
      " 55  MasVnrType     1379 non-null   object \n",
      " 56  MiscFeature    1379 non-null   object \n",
      " 57  MiscVal        1379 non-null   float64\n",
      " 58  MoSold         1379 non-null   int64  \n",
      " 59  Neighborhood   1379 non-null   object \n",
      " 60  OpenPorchSF    1379 non-null   float64\n",
      " 61  OverallCond    1379 non-null   int64  \n",
      " 62  OverallQual    1379 non-null   int64  \n",
      " 63  PavedDrive     1379 non-null   object \n",
      " 64  PoolArea       1379 non-null   float64\n",
      " 65  PoolQC         1379 non-null   object \n",
      " 66  RoofMatl       1379 non-null   object \n",
      " 67  RoofStyle      1379 non-null   object \n",
      " 68  SaleCondition  1379 non-null   object \n",
      " 69  SaleType       1379 non-null   object \n",
      " 70  ScreenPorch    1379 non-null   float64\n",
      " 71  Street         1379 non-null   object \n",
      " 72  TotRmsAbvGrd   1379 non-null   int64  \n",
      " 73  TotalBsmtSF    1379 non-null   float64\n",
      " 74  Utilities      1379 non-null   object \n",
      " 75  WoodDeckSF     1379 non-null   float64\n",
      " 76  YearBuilt      1379 non-null   int64  \n",
      " 77  YearRemodAdd   1379 non-null   int64  \n",
      " 78  YrSold         1379 non-null   int64  \n",
      " 79  SalePrice      1379 non-null   float64\n",
      "dtypes: float64(21), int64(16), object(43)\n",
      "memory usage: 862.0+ KB\n",
      "None\n"
     ]
    }
   ],
   "source": [
    "# Summary of the dataframe\n",
    "print(data.info())"
   ]
  },
  {
   "cell_type": "markdown",
   "metadata": {
    "id": "15ysdSft18nH"
   },
   "source": [
    "To extract the list of columns that contain categorical data, we make use of the dtypes in the dataframe. The following first identify if the columns are categorical and for those that are, extract the columns names that has it set to true."
   ]
  },
  {
   "cell_type": "code",
   "execution_count": 4,
   "metadata": {
    "colab": {
     "base_uri": "https://localhost:8080/",
     "height": 195
    },
    "executionInfo": {
     "elapsed": 1809,
     "status": "ok",
     "timestamp": 1601451150053,
     "user": {
      "displayName": "Shannen Ang",
      "photoUrl": "https://lh3.googleusercontent.com/a-/AOh14Gij4dJOVMwcjFhPJEz7npDxgg-ASHzpFf5XkyU8jQ=s64",
      "userId": "04024065041896518848"
     },
     "user_tz": -480
    },
    "id": "oKal22A818nH",
    "outputId": "f5397556-411d-4beb-89a7-4fa7536592d5"
   },
   "outputs": [
    {
     "name": "stdout",
     "output_type": "stream",
     "text": [
      "Index(['Alley', 'BldgType', 'BsmtCond', 'BsmtExposure', 'BsmtFinType1',\n",
      "       'BsmtFinType2', 'BsmtQual', 'CentralAir', 'Condition1', 'Condition2',\n",
      "       'Electrical', 'ExterCond', 'ExterQual', 'Exterior1st', 'Exterior2nd',\n",
      "       'Fence', 'FireplaceQu', 'Foundation', 'Functional', 'GarageCond',\n",
      "       'GarageFinish', 'GarageQual', 'GarageType', 'Heating', 'HeatingQC',\n",
      "       'HouseStyle', 'KitchenQual', 'LandContour', 'LandSlope', 'LotConfig',\n",
      "       'LotShape', 'MSZoning', 'MasVnrType', 'MiscFeature', 'Neighborhood',\n",
      "       'PavedDrive', 'PoolQC', 'RoofMatl', 'RoofStyle', 'SaleCondition',\n",
      "       'SaleType', 'Street', 'Utilities'],\n",
      "      dtype='object')\n"
     ]
    }
   ],
   "source": [
    "# True if the dtype is object (i.e categorical), otherwise False\n",
    "mask = data.dtypes == object\n",
    "\n",
    "# Extract column names that are categorical\n",
    "categorical_cols = data.columns[mask]\n",
    "print(categorical_cols)"
   ]
  },
  {
   "cell_type": "markdown",
   "metadata": {
    "id": "EYuRIoh018nK"
   },
   "source": [
    "Alternatively, you can also retrieve a copy of the data and their column names  through selecting the columns that are of object type for separate analysis"
   ]
  },
  {
   "cell_type": "code",
   "execution_count": 5,
   "metadata": {
    "colab": {
     "base_uri": "https://localhost:8080/",
     "height": 159
    },
    "executionInfo": {
     "elapsed": 1800,
     "status": "ok",
     "timestamp": 1601451150054,
     "user": {
      "displayName": "Shannen Ang",
      "photoUrl": "https://lh3.googleusercontent.com/a-/AOh14Gij4dJOVMwcjFhPJEz7npDxgg-ASHzpFf5XkyU8jQ=s64",
      "userId": "04024065041896518848"
     },
     "user_tz": -480
    },
    "id": "ODo_5Cvy18nK",
    "outputId": "8b04b3c7-a96e-43ea-caae-36aa9fdd4b59"
   },
   "outputs": [
    {
     "name": "stdout",
     "output_type": "stream",
     "text": [
      "  Alley BldgType BsmtCond BsmtExposure BsmtFinType1 BsmtFinType2 BsmtQual  \\\n",
      "0  None     1Fam       TA           No          GLQ          Unf       Gd   \n",
      "1  None     1Fam       TA           Gd          ALQ          Unf       Gd   \n",
      "2  None     1Fam       TA           Mn          GLQ          Unf       Gd   \n",
      "3  None     1Fam       Gd           No          ALQ          Unf       TA   \n",
      "4  None     1Fam       TA           Av          GLQ          Unf       Gd   \n",
      "\n",
      "  CentralAir Condition1 Condition2  ... MiscFeature Neighborhood PavedDrive  \\\n",
      "0          Y       Norm       Norm  ...        None      CollgCr          Y   \n",
      "1          Y      Feedr       Norm  ...        None      Veenker          Y   \n",
      "2          Y       Norm       Norm  ...        None      CollgCr          Y   \n",
      "3          Y       Norm       Norm  ...        None      Crawfor          Y   \n",
      "4          Y       Norm       Norm  ...        None      NoRidge          Y   \n",
      "\n",
      "  PoolQC RoofMatl RoofStyle SaleCondition SaleType Street Utilities  \n",
      "0   None  CompShg     Gable        Normal       WD   Pave    AllPub  \n",
      "1   None  CompShg     Gable        Normal       WD   Pave    AllPub  \n",
      "2   None  CompShg     Gable        Normal       WD   Pave    AllPub  \n",
      "3   None  CompShg     Gable       Abnorml       WD   Pave    AllPub  \n",
      "4   None  CompShg     Gable        Normal       WD   Pave    AllPub  \n",
      "\n",
      "[5 rows x 43 columns]\n"
     ]
    }
   ],
   "source": [
    "# Extract categorical data and duplicate a copy of the content\n",
    "categorical_data = data.select_dtypes(include=['object']).copy()\n",
    "\n",
    "# Print out first 5 records\n",
    "print(categorical_data.head())"
   ]
  },
  {
   "cell_type": "markdown",
   "metadata": {
    "id": "UkrcgE1J18nM"
   },
   "source": [
    "### 2.2.1 Analyse the categorical data"
   ]
  },
  {
   "cell_type": "markdown",
   "metadata": {
    "id": "DSqMrNRp18nM"
   },
   "source": [
    "Very often, we want to know how many unique values there are for each categorical data columns. To do that, we can perform a nunique count on the categorical columns. The following performs a unique count on all the data columns that is in the extracted categorical data column list.\n",
    "    e.g there are 25 different neighborhood in the dataset."
   ]
  },
  {
   "cell_type": "code",
   "execution_count": 6,
   "metadata": {
    "colab": {
     "base_uri": "https://localhost:8080/",
     "height": 799
    },
    "executionInfo": {
     "elapsed": 1790,
     "status": "ok",
     "timestamp": 1601451150055,
     "user": {
      "displayName": "Shannen Ang",
      "photoUrl": "https://lh3.googleusercontent.com/a-/AOh14Gij4dJOVMwcjFhPJEz7npDxgg-ASHzpFf5XkyU8jQ=s64",
      "userId": "04024065041896518848"
     },
     "user_tz": -480
    },
    "id": "Q-oUCxZQ18nN",
    "outputId": "70a2afee-efc9-4e5f-efbc-6d2097efdcc4"
   },
   "outputs": [
    {
     "name": "stdout",
     "output_type": "stream",
     "text": [
      "Neighborhood     25\n",
      "Exterior2nd      16\n",
      "Exterior1st      14\n",
      "Condition1        9\n",
      "SaleType          9\n",
      "RoofMatl          8\n",
      "HouseStyle        8\n",
      "Condition2        8\n",
      "Functional        7\n",
      "BsmtFinType2      7\n",
      "GarageType        6\n",
      "Heating           6\n",
      "BsmtFinType1      6\n",
      "FireplaceQu       6\n",
      "Foundation        6\n",
      "RoofStyle         6\n",
      "SaleCondition     6\n",
      "MiscFeature       5\n",
      "MSZoning          5\n",
      "LotConfig         5\n",
      "BsmtExposure      5\n",
      "HeatingQC         5\n",
      "BsmtQual          5\n",
      "Electrical        5\n",
      "BldgType          5\n",
      "GarageCond        5\n",
      "Fence             5\n",
      "GarageQual        5\n",
      "KitchenQual       4\n",
      "LandContour       4\n",
      "PoolQC            4\n",
      "LotShape          4\n",
      "ExterQual         4\n",
      "MasVnrType        4\n",
      "ExterCond         4\n",
      "BsmtCond          4\n",
      "Alley             3\n",
      "PavedDrive        3\n",
      "LandSlope         3\n",
      "GarageFinish      3\n",
      "CentralAir        2\n",
      "Street            2\n",
      "Utilities         2\n",
      "dtype: int64\n"
     ]
    }
   ],
   "source": [
    "# Count the number of cateory for each column\n",
    "unique_values_counts = (categorical_data.apply(lambda x: x.nunique()).sort_values(ascending=False))\n",
    "print(unique_values_counts)"
   ]
  },
  {
   "cell_type": "markdown",
   "metadata": {
    "id": "V4p5jwBI18nP"
   },
   "source": [
    "We can also dive deeper into <b>Neighborhood</b> to look at the total number of records for each neighborhood."
   ]
  },
  {
   "cell_type": "code",
   "execution_count": 7,
   "metadata": {
    "colab": {
     "base_uri": "https://localhost:8080/",
     "height": 479
    },
    "executionInfo": {
     "elapsed": 1780,
     "status": "ok",
     "timestamp": 1601451150056,
     "user": {
      "displayName": "Shannen Ang",
      "photoUrl": "https://lh3.googleusercontent.com/a-/AOh14Gij4dJOVMwcjFhPJEz7npDxgg-ASHzpFf5XkyU8jQ=s64",
      "userId": "04024065041896518848"
     },
     "user_tz": -480
    },
    "id": "ui8z-x6U18nQ",
    "outputId": "1279dc90-4041-4768-fd00-f8b9c7048dd3"
   },
   "outputs": [
    {
     "name": "stdout",
     "output_type": "stream",
     "text": [
      "NAmes      219\n",
      "CollgCr    148\n",
      "OldTown    101\n",
      "Somerst     86\n",
      "Gilbert     79\n",
      "Edwards     78\n",
      "NridgHt     77\n",
      "NWAmes      73\n",
      "Sawyer      71\n",
      "SawyerW     58\n",
      "Crawfor     51\n",
      "BrkSide     48\n",
      "Mitchel     44\n",
      "NoRidge     41\n",
      "Timber      38\n",
      "IDOTRR      29\n",
      "ClearCr     27\n",
      "StoneBr     25\n",
      "SWISU       20\n",
      "Blmngtn     17\n",
      "BrDale      15\n",
      "MeadowV     12\n",
      "Veenker     11\n",
      "NPkVill      9\n",
      "Blueste      2\n",
      "Name: Neighborhood, dtype: int64\n"
     ]
    }
   ],
   "source": [
    "print(categorical_data['Neighborhood'].value_counts())"
   ]
  },
  {
   "cell_type": "markdown",
   "metadata": {
    "id": "N1fPLkq418nS"
   },
   "source": [
    "Now that we have a quick oversight on the number of unique neighborhood, we can start to convert them to numerical data to prepare for the model training."
   ]
  },
  {
   "cell_type": "markdown",
   "metadata": {
    "id": "96ZjkJfH18nT"
   },
   "source": [
    "## 2.3 Data Encoding Methods"
   ]
  },
  {
   "cell_type": "markdown",
   "metadata": {
    "id": "d1GGQ3YW18nT"
   },
   "source": [
    "We have learnt 2 data encoding methods. The first is label encoding and what it does is basically having a running number for each unique values that it has in the categorical data. We shall use <b>Neighborhood</b> column to perform data encoding using different methods"
   ]
  },
  {
   "cell_type": "markdown",
   "metadata": {
    "id": "vt52vL8C18nU"
   },
   "source": [
    "### 2.3.1 Perform Label Encoding using pandas"
   ]
  },
  {
   "cell_type": "markdown",
   "metadata": {
    "id": "62PllOPn18nU"
   },
   "source": [
    "This example will be using <b>pandas</b> method to perform Label Encoding. <br/>\n",
    "\n",
    "\n",
    "To avoid messing the original copy of the categorical set of data, we will create a new copy of the Neighborhood dataset to a new dataframe. We will then convert the column to a <b>category</b> type, which it will create an enumeration of the code type and set to the dataset. These converted values will need to be saved back into the original dataset for subsequent analysis. "
   ]
  },
  {
   "cell_type": "code",
   "execution_count": 8,
   "metadata": {
    "colab": {
     "base_uri": "https://localhost:8080/",
     "height": 70
    },
    "executionInfo": {
     "elapsed": 1769,
     "status": "ok",
     "timestamp": 1601451150057,
     "user": {
      "displayName": "Shannen Ang",
      "photoUrl": "https://lh3.googleusercontent.com/a-/AOh14Gij4dJOVMwcjFhPJEz7npDxgg-ASHzpFf5XkyU8jQ=s64",
      "userId": "04024065041896518848"
     },
     "user_tz": -480
    },
    "id": "MLHV7ihg18nU",
    "outputId": "b3532a9b-7140-4bd4-d56d-5e11bc0629be"
   },
   "outputs": [
    {
     "name": "stdout",
     "output_type": "stream",
     "text": [
      "Neighborhood    category\n",
      "coded_pd            int8\n",
      "dtype: object\n"
     ]
    }
   ],
   "source": [
    "# Duplicate Neighborhood column to new dataset\n",
    "neighborhood = pd.DataFrame(categorical_data['Neighborhood'])\n",
    "\n",
    "# Convert the column \"Neighborhood\" to categorical type\n",
    "neighborhood['Neighborhood'] = neighborhood['Neighborhood'].astype('category')\n",
    "\n",
    "# Store the coded value back to the dataset\n",
    "neighborhood['coded_pd'] = neighborhood['Neighborhood'].cat.codes\n",
    "\n",
    "print(neighborhood.dtypes)"
   ]
  },
  {
   "cell_type": "code",
   "execution_count": 9,
   "metadata": {
    "colab": {
     "base_uri": "https://localhost:8080/",
     "height": 55
    },
    "executionInfo": {
     "elapsed": 1760,
     "status": "ok",
     "timestamp": 1601451150058,
     "user": {
      "displayName": "Shannen Ang",
      "photoUrl": "https://lh3.googleusercontent.com/a-/AOh14Gij4dJOVMwcjFhPJEz7npDxgg-ASHzpFf5XkyU8jQ=s64",
      "userId": "04024065041896518848"
     },
     "user_tz": -480
    },
    "id": "WiqdwtxK18nW",
    "outputId": "7a0b44f2-b09c-4aaf-e99f-738c4a4e8e35"
   },
   "outputs": [
    {
     "name": "stdout",
     "output_type": "stream",
     "text": [
      "{0: 'Blmngtn', 1: 'Blueste', 2: 'BrDale', 3: 'BrkSide', 4: 'ClearCr', 5: 'CollgCr', 6: 'Crawfor', 7: 'Edwards', 8: 'Gilbert', 9: 'IDOTRR', 10: 'MeadowV', 11: 'Mitchel', 12: 'NAmes', 13: 'NPkVill', 14: 'NWAmes', 15: 'NoRidge', 16: 'NridgHt', 17: 'OldTown', 18: 'SWISU', 19: 'Sawyer', 20: 'SawyerW', 21: 'Somerst', 22: 'StoneBr', 23: 'Timber', 24: 'Veenker'}\n"
     ]
    }
   ],
   "source": [
    "# Retrieve the Label Encoding mapping\n",
    "mappings = dict( enumerate(neighborhood['Neighborhood'].cat.categories))\n",
    "print(mappings)"
   ]
  },
  {
   "cell_type": "markdown",
   "metadata": {
    "id": "2vSwQ0AY18nZ"
   },
   "source": [
    "Let's now do a quick validation on the converted data to its categorical mapping"
   ]
  },
  {
   "cell_type": "code",
   "execution_count": 10,
   "metadata": {
    "colab": {
     "base_uri": "https://localhost:8080/",
     "height": 159
    },
    "executionInfo": {
     "elapsed": 1753,
     "status": "ok",
     "timestamp": 1601451150059,
     "user": {
      "displayName": "Shannen Ang",
      "photoUrl": "https://lh3.googleusercontent.com/a-/AOh14Gij4dJOVMwcjFhPJEz7npDxgg-ASHzpFf5XkyU8jQ=s64",
      "userId": "04024065041896518848"
     },
     "user_tz": -480
    },
    "id": "FmGyUbPc18nZ",
    "outputId": "04d289af-295c-407f-830e-8ed342b214e9"
   },
   "outputs": [
    {
     "name": "stdout",
     "output_type": "stream",
     "text": [
      "  Neighborhood  coded_pd\n",
      "0      CollgCr         5\n",
      "1      Veenker        24\n",
      "2      CollgCr         5\n",
      "3      Crawfor         6\n",
      "4      NoRidge        15\n",
      "Categorical Code      :  6\n",
      "Category Mapping Value:  Crawfor\n"
     ]
    }
   ],
   "source": [
    "print(neighborhood.head())\n",
    "\n",
    "row = 3\n",
    "print('Categorical Code      : ', neighborhood['coded_pd'][row])\n",
    "print('Category Mapping Value: ', mappings[neighborhood['coded_pd'][row]])"
   ]
  },
  {
   "cell_type": "markdown",
   "metadata": {
    "id": "CY0yQzme18nb"
   },
   "source": [
    "### 2.3.2 Perform Label Encoding using scikit-learn"
   ]
  },
  {
   "cell_type": "markdown",
   "metadata": {
    "id": "zGG-KVuH18nc"
   },
   "source": [
    "This example will be using <b>sckikit-learn</b> method to perform Label Encoding. <br/><br/>\n",
    "In sckit-learn, you will:<br/>\n",
    "1. Create a LabelEncoder() object\n",
    "2. Perform a <b>fit_transform</b> that will create a mapping of code-value and store the new value to the dataset\n",
    "3. To retrieve the original mapping, you will use <b>inverse_transform</b>"
   ]
  },
  {
   "cell_type": "code",
   "execution_count": 11,
   "metadata": {
    "colab": {
     "base_uri": "https://localhost:8080/",
     "height": 266
    },
    "executionInfo": {
     "elapsed": 1741,
     "status": "ok",
     "timestamp": 1601451150059,
     "user": {
      "displayName": "Shannen Ang",
      "photoUrl": "https://lh3.googleusercontent.com/a-/AOh14Gij4dJOVMwcjFhPJEz7npDxgg-ASHzpFf5XkyU8jQ=s64",
      "userId": "04024065041896518848"
     },
     "user_tz": -480
    },
    "id": "UcojULio18nc",
    "outputId": "62ab0a2a-3c76-4a2b-e569-56ffe64c5e51"
   },
   "outputs": [
    {
     "name": "stdout",
     "output_type": "stream",
     "text": [
      "     Neighborhood  coded_pd  coded_sklearn\n",
      "0         CollgCr         5              5\n",
      "1         Veenker        24             24\n",
      "2         CollgCr         5              5\n",
      "3         Crawfor         6              6\n",
      "4         NoRidge        15             15\n",
      "...           ...       ...            ...\n",
      "1374      Gilbert         8              8\n",
      "1375       NWAmes        14             14\n",
      "1376      Crawfor         6              6\n",
      "1377        NAmes        12             12\n",
      "1378      Edwards         7              7\n",
      "\n",
      "[1379 rows x 3 columns]\n"
     ]
    }
   ],
   "source": [
    "from sklearn.preprocessing import LabelEncoder\n",
    "\n",
    "lb_make = LabelEncoder()\n",
    "neighborhood['coded_sklearn'] = lb_make.fit_transform(neighborhood['Neighborhood'])\n",
    "\n",
    "print(neighborhood)"
   ]
  },
  {
   "cell_type": "code",
   "execution_count": 12,
   "metadata": {
    "colab": {
     "base_uri": "https://localhost:8080/",
     "height": 159
    },
    "executionInfo": {
     "elapsed": 2389,
     "status": "ok",
     "timestamp": 1601451150719,
     "user": {
      "displayName": "Shannen Ang",
      "photoUrl": "https://lh3.googleusercontent.com/a-/AOh14Gij4dJOVMwcjFhPJEz7npDxgg-ASHzpFf5XkyU8jQ=s64",
      "userId": "04024065041896518848"
     },
     "user_tz": -480
    },
    "id": "zgt7s9x818nf",
    "outputId": "d98a3674-c8ab-4918-b482-5a713740f1ff"
   },
   "outputs": [
    {
     "name": "stdout",
     "output_type": "stream",
     "text": [
      "  Neighborhood  coded_pd  coded_sklearn\n",
      "0      CollgCr         5              5\n",
      "1      Veenker        24             24\n",
      "2      CollgCr         5              5\n",
      "3      Crawfor         6              6\n",
      "4      NoRidge        15             15\n",
      "Category Code :  6\n",
      "Category Value:  ['Crawfor']\n"
     ]
    }
   ],
   "source": [
    "print(neighborhood.head())\n",
    "\n",
    "row = 3\n",
    "print('Category Code : ', neighborhood['coded_sklearn'][row])\n",
    "print('Category Value: ', lb_make.inverse_transform(pd.Series(neighborhood['coded_sklearn'][row])))"
   ]
  },
  {
   "cell_type": "markdown",
   "metadata": {
    "id": "o633P0Mj18ni"
   },
   "source": [
    "### 2.3.3 Perform OneHot Encoding using pandas"
   ]
  },
  {
   "cell_type": "markdown",
   "metadata": {
    "id": "g37gWwLF18ni"
   },
   "source": [
    "The following will illustrate the use of One-Hot Encoding on <b>ExterQual</b>. Lets take a quick look on the values stored in this column."
   ]
  },
  {
   "cell_type": "code",
   "execution_count": 13,
   "metadata": {
    "colab": {
     "base_uri": "https://localhost:8080/",
     "height": 106
    },
    "executionInfo": {
     "elapsed": 2380,
     "status": "ok",
     "timestamp": 1601451150720,
     "user": {
      "displayName": "Shannen Ang",
      "photoUrl": "https://lh3.googleusercontent.com/a-/AOh14Gij4dJOVMwcjFhPJEz7npDxgg-ASHzpFf5XkyU8jQ=s64",
      "userId": "04024065041896518848"
     },
     "user_tz": -480
    },
    "id": "QHc51EkC18nj",
    "outputId": "c1484c3c-7769-4052-fd72-1c72481707d4"
   },
   "outputs": [
    {
     "name": "stdout",
     "output_type": "stream",
     "text": [
      "TA    833\n",
      "Gd    487\n",
      "Ex     52\n",
      "Fa      7\n",
      "Name: ExterQual, dtype: int64\n"
     ]
    }
   ],
   "source": [
    "print(categorical_data['ExterQual'].value_counts())"
   ]
  },
  {
   "cell_type": "markdown",
   "metadata": {
    "id": "e3x_Ft5U18nl"
   },
   "source": [
    "As shown, there are only 4 different types of values in this column. To create One-Hot Encoding using pandas, you can use the following mode as a guide:<br/>\n",
    "1. Extract the categorical column to perform One-Hot Encoding. <br/>\n",
    "2. Use pandas.get_dummies() to convert extracted categorical variable into dummy/indicator variables.<br/>\n",
    "   <i>Refer to pandas documentation on the details of the parameters</i> <br/>\n",
    "3. Concatenate the values of the one-hot encoded values back to the dataset <br/><br/>\n",
    "\n",
    "Note that 4 extra columns are created for each category. A value of 0 is assigned if it does not belong to that category, while a value of 1 is set if it does.\n"
   ]
  },
  {
   "cell_type": "code",
   "execution_count": 14,
   "metadata": {
    "executionInfo": {
     "elapsed": 2371,
     "status": "ok",
     "timestamp": 1601451150721,
     "user": {
      "displayName": "Shannen Ang",
      "photoUrl": "https://lh3.googleusercontent.com/a-/AOh14Gij4dJOVMwcjFhPJEz7npDxgg-ASHzpFf5XkyU8jQ=s64",
      "userId": "04024065041896518848"
     },
     "user_tz": -480
    },
    "id": "T3zHH1vK18nl"
   },
   "outputs": [],
   "source": [
    "exterqual_data = pd.DataFrame(categorical_data['ExterQual'])"
   ]
  },
  {
   "cell_type": "code",
   "execution_count": 15,
   "metadata": {
    "colab": {
     "base_uri": "https://localhost:8080/",
     "height": 266
    },
    "executionInfo": {
     "elapsed": 2363,
     "status": "ok",
     "timestamp": 1601451150722,
     "user": {
      "displayName": "Shannen Ang",
      "photoUrl": "https://lh3.googleusercontent.com/a-/AOh14Gij4dJOVMwcjFhPJEz7npDxgg-ASHzpFf5XkyU8jQ=s64",
      "userId": "04024065041896518848"
     },
     "user_tz": -480
    },
    "id": "IVb59eoc18nn",
    "outputId": "69025079-1495-4ee8-979a-7ef96492a14b"
   },
   "outputs": [
    {
     "name": "stdout",
     "output_type": "stream",
     "text": [
      "     ExterQual  PD_EQ_Ex  PD_EQ_Fa  PD_EQ_Gd  PD_EQ_TA\n",
      "0           Gd         0         0         1         0\n",
      "1           TA         0         0         0         1\n",
      "2           Gd         0         0         1         0\n",
      "3           TA         0         0         0         1\n",
      "4           Gd         0         0         1         0\n",
      "...        ...       ...       ...       ...       ...\n",
      "1374        TA         0         0         0         1\n",
      "1375        TA         0         0         0         1\n",
      "1376        Ex         1         0         0         0\n",
      "1377        TA         0         0         0         1\n",
      "1378        Gd         0         0         1         0\n",
      "\n",
      "[1379 rows x 5 columns]\n"
     ]
    }
   ],
   "source": [
    "exterqual_ohc = pd.get_dummies(exterqual_data, columns=['ExterQual'], prefix=['PD_EQ'])\n",
    "exterqual = pd.concat([exterqual_data, exterqual_ohc], axis=1)\n",
    "print(exterqual)"
   ]
  },
  {
   "cell_type": "markdown",
   "metadata": {
    "id": "RmfBfvnT18np"
   },
   "source": [
    "### 2.3.4 Perform OneHot Encoding using scikit-learn"
   ]
  },
  {
   "cell_type": "markdown",
   "metadata": {
    "id": "ZNfTUq7N18np"
   },
   "source": [
    "This example will be using <b>sckikit-learn</b> method to perform One-Hot Encoding. <br/><br/>\n",
    "In sckit-learn, you will:<br/>\n",
    "1. Create a <b>LabelBinarizer()</b> object\n",
    "2. Perform a <b>fit_transform</b> that will generate the One-Hot Encoding values for the categorical data without any header.\n",
    "\n",
    "A LabelBinarizer is a utility class to help create a label indicator matrix from a list of multi-class labels. Note that upon fit_transform, the one-hot encoded values for the categorical data is generated and stored separately in the following example."
   ]
  },
  {
   "cell_type": "code",
   "execution_count": 16,
   "metadata": {
    "colab": {
     "base_uri": "https://localhost:8080/",
     "height": 212
    },
    "executionInfo": {
     "elapsed": 2354,
     "status": "ok",
     "timestamp": 1601451150723,
     "user": {
      "displayName": "Shannen Ang",
      "photoUrl": "https://lh3.googleusercontent.com/a-/AOh14Gij4dJOVMwcjFhPJEz7npDxgg-ASHzpFf5XkyU8jQ=s64",
      "userId": "04024065041896518848"
     },
     "user_tz": -480
    },
    "id": "E4mjG2wp18nq",
    "outputId": "494267af-1222-4f2f-df30-509bda1b22a7"
   },
   "outputs": [
    {
     "name": "stdout",
     "output_type": "stream",
     "text": [
      "0    Gd\n",
      "1    TA\n",
      "2    Gd\n",
      "3    TA\n",
      "4    Gd\n",
      "Name: ExterQual, dtype: object\n",
      "[[0 0 1 0]\n",
      " [0 0 0 1]\n",
      " [0 0 1 0]\n",
      " [0 0 0 1]\n",
      " [0 0 1 0]]\n"
     ]
    }
   ],
   "source": [
    "from sklearn.preprocessing import LabelBinarizer\n",
    "\n",
    "# Create a LabelBinarizer object\n",
    "lb = LabelBinarizer()\n",
    "\n",
    "# Generate the One-Hot Encoding of the categorical data as numpy array\n",
    "lb_results = lb.fit_transform(exterqual_data['ExterQual'])\n",
    "\n",
    "print(exterqual_data['ExterQual'].head())\n",
    "print(lb_results[:5])"
   ]
  },
  {
   "cell_type": "markdown",
   "metadata": {
    "id": "iiGSZ7Be18nr"
   },
   "source": [
    "To be able to combine the one-hot encoded values back to the original dataset, the following example will then:\n",
    "\n",
    "3. Create a dataset containing header of the one-hot encoded categorical value.\n",
    "4. Create a new dataframe to contain the One-Hot encoded values (including its header)\n",
    "5. Concatenate the one-hot encoded data values to the original dataset\n"
   ]
  },
  {
   "cell_type": "code",
   "execution_count": 17,
   "metadata": {
    "colab": {
     "base_uri": "https://localhost:8080/",
     "height": 266
    },
    "executionInfo": {
     "elapsed": 2345,
     "status": "ok",
     "timestamp": 1601451150724,
     "user": {
      "displayName": "Shannen Ang",
      "photoUrl": "https://lh3.googleusercontent.com/a-/AOh14Gij4dJOVMwcjFhPJEz7npDxgg-ASHzpFf5XkyU8jQ=s64",
      "userId": "04024065041896518848"
     },
     "user_tz": -480
    },
    "id": "RG7HVlgM18ns",
    "outputId": "5ce45d96-846b-4d37-97c3-3a2ebf9e61d8"
   },
   "outputs": [
    {
     "name": "stdout",
     "output_type": "stream",
     "text": [
      "     ExterQual  SKL_EQ_Ex  SKL_EQ_Fa  SKL_EQ_Gd  SKL_EQ_TA\n",
      "0           Gd          0          0          1          0\n",
      "1           TA          0          0          0          1\n",
      "2           Gd          0          0          1          0\n",
      "3           TA          0          0          0          1\n",
      "4           Gd          0          0          1          0\n",
      "...        ...        ...        ...        ...        ...\n",
      "1374        TA          0          0          0          1\n",
      "1375        TA          0          0          0          1\n",
      "1376        Ex          1          0          0          0\n",
      "1377        TA          0          0          0          1\n",
      "1378        Gd          0          0          1          0\n",
      "\n",
      "[1379 rows x 5 columns]\n"
     ]
    }
   ],
   "source": [
    "# Create a data series of the categorical values\n",
    "classes = pd.Series(lb.classes_)\n",
    "\n",
    "# Prefix the header with SKL_EQ_\n",
    "classes = \"SKL_EQ_\"+classes\n",
    "\n",
    "\n",
    "# Create a dataframe for the one-hot encoded data with the new column names\n",
    "lb_results_df = pd.DataFrame(lb_results, columns=classes)\n",
    "\n",
    "# Concatenate the one-hot encoded values to the original dataset\n",
    "exterqual = pd.concat([exterqual_data, lb_results_df], axis=1)\n",
    "print(exterqual)"
   ]
  },
  {
   "cell_type": "markdown",
   "metadata": {
    "id": "UFROcusV18nt"
   },
   "source": [
    "### 2.3.5 Additional: OneHot Encoding of numerial data\n",
    "There are times when numerical data are representation of categorical values. One example in the dataset is the <b>BedroomAbvGr</b>. The following code shows that the unique values of the type and the total number of records each type have. "
   ]
  },
  {
   "cell_type": "code",
   "execution_count": 18,
   "metadata": {
    "colab": {
     "base_uri": "https://localhost:8080/",
     "height": 159
    },
    "executionInfo": {
     "elapsed": 2336,
     "status": "ok",
     "timestamp": 1601451150725,
     "user": {
      "displayName": "Shannen Ang",
      "photoUrl": "https://lh3.googleusercontent.com/a-/AOh14Gij4dJOVMwcjFhPJEz7npDxgg-ASHzpFf5XkyU8jQ=s64",
      "userId": "04024065041896518848"
     },
     "user_tz": -480
    },
    "id": "PD4kxLFq18nu",
    "outputId": "1bedc1b0-7f94-4cf5-f0e1-ae00370e7e38"
   },
   "outputs": [
    {
     "name": "stdout",
     "output_type": "stream",
     "text": [
      "3    775\n",
      "2    334\n",
      "4    199\n",
      "1     42\n",
      "5     18\n",
      "0      6\n",
      "6      5\n",
      "Name: BedroomAbvGr, dtype: int64\n"
     ]
    }
   ],
   "source": [
    "bedroom_data = pd.DataFrame(data['BedroomAbvGr'])  \n",
    "print(bedroom_data['BedroomAbvGr'].value_counts())"
   ]
  },
  {
   "cell_type": "markdown",
   "metadata": {
    "id": "eAvKodfL18nv"
   },
   "source": [
    "Next, we will use a different method of performing one-hot encoding by using numpy.eye. numpy.eye() creates a 2-D array with ones on the diagonals and zeros elsewhere. When apply to an array of numbers, it will apply a one-hot encoding to the data you specified."
   ]
  },
  {
   "cell_type": "code",
   "execution_count": 19,
   "metadata": {
    "colab": {
     "base_uri": "https://localhost:8080/",
     "height": 266
    },
    "executionInfo": {
     "elapsed": 2328,
     "status": "ok",
     "timestamp": 1601451150726,
     "user": {
      "displayName": "Shannen Ang",
      "photoUrl": "https://lh3.googleusercontent.com/a-/AOh14Gij4dJOVMwcjFhPJEz7npDxgg-ASHzpFf5XkyU8jQ=s64",
      "userId": "04024065041896518848"
     },
     "user_tz": -480
    },
    "id": "QBAU04wr18nw",
    "outputId": "c52a42f7-7034-4b73-c66e-438c41b7f740"
   },
   "outputs": [
    {
     "name": "stdout",
     "output_type": "stream",
     "text": [
      "      BedroomAbvGr  0  1  2  3  4  5  6\n",
      "0                3  0  0  0  1  0  0  0\n",
      "1                3  0  0  0  1  0  0  0\n",
      "2                3  0  0  0  1  0  0  0\n",
      "3                3  0  0  0  1  0  0  0\n",
      "4                4  0  0  0  0  1  0  0\n",
      "...            ... .. .. .. .. .. .. ..\n",
      "1374             3  0  0  0  1  0  0  0\n",
      "1375             3  0  0  0  1  0  0  0\n",
      "1376             4  0  0  0  0  1  0  0\n",
      "1377             2  0  0  1  0  0  0  0\n",
      "1378             3  0  0  0  1  0  0  0\n",
      "\n",
      "[1379 rows x 8 columns]\n"
     ]
    }
   ],
   "source": [
    "num_value = bedroom_data['BedroomAbvGr'].nunique()\n",
    "# Creates a numpy array of 7 columns as a concept of One-Hot encoding and apply to the category data column\n",
    "bedroom_ohc = np.eye(num_value)[bedroom_data['BedroomAbvGr']]\n",
    "bedroom_ohc_df = pd.DataFrame(bedroom_ohc, columns=range(num_value), dtype=np.int16)\n",
    "\n",
    "bedroom = pd.concat([bedroom_data, bedroom_ohc_df], axis=1)\n",
    "print(bedroom)"
   ]
  },
  {
   "cell_type": "markdown",
   "metadata": {
    "id": "c3Z7K6KG18ny"
   },
   "source": [
    "### 2.3.6 Exercise to use np.eye to perform OneHot Encoding on <b>FullBath</b> data.\n",
    "Your output should look similar to the above"
   ]
  },
  {
   "cell_type": "code",
   "execution_count": 20,
   "metadata": {
    "executionInfo": {
     "elapsed": 2314,
     "status": "ok",
     "timestamp": 1601451150726,
     "user": {
      "displayName": "Shannen Ang",
      "photoUrl": "https://lh3.googleusercontent.com/a-/AOh14Gij4dJOVMwcjFhPJEz7npDxgg-ASHzpFf5XkyU8jQ=s64",
      "userId": "04024065041896518848"
     },
     "user_tz": -480
    },
    "id": "oGjaziO_18ny"
   },
   "outputs": [],
   "source": [
    "# Your codes goes here"
   ]
  },
  {
   "cell_type": "code",
   "execution_count": 21,
   "metadata": {
    "colab": {
     "base_uri": "https://localhost:8080/",
     "height": 567
    },
    "executionInfo": {
     "elapsed": 2298,
     "status": "ok",
     "timestamp": 1601451150727,
     "user": {
      "displayName": "Shannen Ang",
      "photoUrl": "https://lh3.googleusercontent.com/a-/AOh14Gij4dJOVMwcjFhPJEz7npDxgg-ASHzpFf5XkyU8jQ=s64",
      "userId": "04024065041896518848"
     },
     "user_tz": -480
    },
    "id": "sdM5M5-A18n1",
    "outputId": "34fbdce5-4b96-4060-e1c1-33b7a157150c"
   },
   "outputs": [
    {
     "name": "stdout",
     "output_type": "stream",
     "text": [
      "2    746\n",
      "1    594\n",
      "3     31\n",
      "0      8\n",
      "Name: FullBath, dtype: int64\n",
      "4\n",
      "0    2\n",
      "1    2\n",
      "2    2\n",
      "3    1\n",
      "4    2\n",
      "Name: FullBath, dtype: int64\n",
      "[[0. 0. 1. 0.]\n",
      " [0. 0. 1. 0.]\n",
      " [0. 0. 1. 0.]\n",
      " [0. 1. 0. 0.]\n",
      " [0. 0. 1. 0.]]\n",
      "      FullBath  0  1  2  3\n",
      "0            2  0  0  1  0\n",
      "1            2  0  0  1  0\n",
      "2            2  0  0  1  0\n",
      "3            1  0  1  0  0\n",
      "4            2  0  0  1  0\n",
      "...        ... .. .. .. ..\n",
      "1374         2  0  0  1  0\n",
      "1375         2  0  0  1  0\n",
      "1376         2  0  0  1  0\n",
      "1377         1  0  1  0  0\n",
      "1378         1  0  1  0  0\n",
      "\n",
      "[1379 rows x 5 columns]\n"
     ]
    }
   ],
   "source": [
    "# Quick check on the number of unique FullBath in the data and the content\n",
    "print(data['FullBath'].value_counts())\n",
    "print(data['FullBath'].nunique())\n",
    "print(data['FullBath'].head())\n",
    "\n",
    "uniqueFullBath = data['FullBath'].nunique()\n",
    "# Extract the BldgType data and perform OneHot Encoding using np.eye\n",
    "FullBath_ohc = np.eye(uniqueFullBath)[data['FullBath']]\n",
    "\n",
    "print (FullBath_ohc[:5])\n",
    "\n",
    "FullBath_ohc_df = pd.DataFrame(FullBath_ohc, columns=range(uniqueFullBath), dtype=np.int16)\n",
    "bathroom = pd.concat([data['FullBath'], FullBath_ohc_df], axis=1)\n",
    "print(bathroom)"
   ]
  },
  {
   "cell_type": "markdown",
   "metadata": {
    "id": "rJFQYGjB18n3"
   },
   "source": [
    "## 2.4 Activation and Loss function in Keras (an example)\n",
    "\n",
    "The following is an example to train a simple network to demonstrate the use of activation function and the loss function in Keras."
   ]
  },
  {
   "cell_type": "markdown",
   "metadata": {
    "id": "6cFzwhP3l6J8"
   },
   "source": [
    "### 2.4.1 Preparing the data"
   ]
  },
  {
   "cell_type": "code",
   "execution_count": 22,
   "metadata": {
    "colab": {
     "base_uri": "https://localhost:8080/",
     "height": 478
    },
    "executionInfo": {
     "elapsed": 2283,
     "status": "ok",
     "timestamp": 1601451150727,
     "user": {
      "displayName": "Shannen Ang",
      "photoUrl": "https://lh3.googleusercontent.com/a-/AOh14Gij4dJOVMwcjFhPJEz7npDxgg-ASHzpFf5XkyU8jQ=s64",
      "userId": "04024065041896518848"
     },
     "user_tz": -480
    },
    "id": "t5YdtOs718n3",
    "outputId": "307ef198-7969-46db-c050-7f6e4abe2e2f"
   },
   "outputs": [
    {
     "name": "stdout",
     "output_type": "stream",
     "text": [
      "      1stFlrSF  2ndFlrSF  3SsnPorch  BedroomAbvGr  BsmtFinSF1  BsmtFinSF2  \\\n",
      "0    -0.830062  1.139240  -0.119755      0.172112    0.544957   -0.292833   \n",
      "1     0.219374 -0.804347  -0.119755      0.172112    1.136873   -0.292833   \n",
      "2    -0.664633  1.166551  -0.119755      0.172112    0.066202   -0.292833   \n",
      "3    -0.558656  0.916206  -0.119755      0.172112   -0.521362   -0.292833   \n",
      "4    -0.083050  1.592137  -0.119755      1.448148    0.433973   -0.292833   \n",
      "...        ...       ...        ...           ...         ...         ...   \n",
      "1374 -0.579334  0.775102  -0.119755      0.172112   -0.991413   -0.292833   \n",
      "1375  2.315660 -0.804347  -0.119755      0.172112    0.727755    0.699466   \n",
      "1376  0.028097  1.817447  -0.119755      1.448148   -0.392968   -0.292833   \n",
      "1377 -0.256232 -0.804347  -0.119755     -1.103924   -0.884781    5.971432   \n",
      "1378  0.203865 -0.804347  -0.119755      0.172112    0.814801    1.472606   \n",
      "\n",
      "      BsmtFullBath  BsmtHalfBath  BsmtUnfSF  EnclosedPorch  ...  \\\n",
      "0         1.107785     -0.246594  -0.948701      -0.347679  ...   \n",
      "1        -0.838248      3.951591  -0.646571      -0.347679  ...   \n",
      "2         1.107785     -0.246594  -0.308365      -0.347679  ...   \n",
      "3         1.107785     -0.246594  -0.069366       4.147211  ...   \n",
      "4         1.107785     -0.246594  -0.182101      -0.347679  ...   \n",
      "...            ...           ...        ...            ...  ...   \n",
      "1374     -0.838248     -0.246594   0.861827      -0.347679  ...   \n",
      "1375      1.107785     -0.246594   0.041114      -0.347679  ...   \n",
      "1376     -0.838248     -0.246594   0.690470      -0.347679  ...   \n",
      "1377      1.107785     -0.246594  -1.286907       1.503158  ...   \n",
      "1378      1.107785     -0.246594  -0.980267      -0.347679  ...   \n",
      "\n",
      "      SaleType_ConLD  SaleType_ConLI  SaleType_ConLw  SaleType_New  \\\n",
      "0                  0               0               0             0   \n",
      "1                  0               0               0             0   \n",
      "2                  0               0               0             0   \n",
      "3                  0               0               0             0   \n",
      "4                  0               0               0             0   \n",
      "...              ...             ...             ...           ...   \n",
      "1374               0               0               0             0   \n",
      "1375               0               0               0             0   \n",
      "1376               0               0               0             0   \n",
      "1377               0               0               0             0   \n",
      "1378               0               0               0             0   \n",
      "\n",
      "      SaleType_Oth  SaleType_WD  Street_Grvl  Street_Pave  Utilities_AllPub  \\\n",
      "0                0            1            0            1                 1   \n",
      "1                0            1            0            1                 1   \n",
      "2                0            1            0            1                 1   \n",
      "3                0            1            0            1                 1   \n",
      "4                0            1            0            1                 1   \n",
      "...            ...          ...          ...          ...               ...   \n",
      "1374             0            1            0            1                 1   \n",
      "1375             0            1            0            1                 1   \n",
      "1376             0            1            0            1                 1   \n",
      "1377             0            1            0            1                 1   \n",
      "1378             0            1            0            1                 1   \n",
      "\n",
      "      Utilities_NoSeWa  \n",
      "0                    0  \n",
      "1                    0  \n",
      "2                    0  \n",
      "3                    0  \n",
      "4                    0  \n",
      "...                ...  \n",
      "1374                 0  \n",
      "1375                 0  \n",
      "1376                 0  \n",
      "1377                 0  \n",
      "1378                 0  \n",
      "\n",
      "[1379 rows x 294 columns]\n",
      "0       0.240644\n",
      "1       0.203128\n",
      "2       0.261487\n",
      "3       0.145464\n",
      "4       0.298308\n",
      "          ...   \n",
      "1374    0.194096\n",
      "1375    0.242728\n",
      "1376    0.321235\n",
      "1377    0.148417\n",
      "1378    0.155885\n",
      "Length: 1379, dtype: float64\n"
     ]
    }
   ],
   "source": [
    "# Removing label data from the data set\n",
    "y_col_name = 'SalePrice'\n",
    "y_data = data[y_col_name]\n",
    "x_data = data.drop(y_col_name, axis=1)\n",
    "\n",
    "\n",
    "# OneHot Encode all the categorical data\n",
    "categorical_data = x_data.select_dtypes(include=['object']).copy()\n",
    "for col in categorical_data.columns:\n",
    "    categorical_data[col] = categorical_data[col].astype('category')\n",
    "categorical_data = pd.get_dummies(categorical_data)\n",
    "\n",
    "\n",
    "# For all the numerical values, transform them to a standard scale of with mean of 0 and standard deviation \n",
    "# of 1 using scikit-learn StandardScaler\n",
    "numerical_data = x_data.select_dtypes(include=['float64', 'int64']).copy()\n",
    "from sklearn.preprocessing import StandardScaler\n",
    "data_tmp = numerical_data.values #returns a numpy array\n",
    "std_scaler = StandardScaler()\n",
    "data_tmp = std_scaler.fit_transform(data_tmp)\n",
    "numerical_data = pd.DataFrame(data_tmp, columns=numerical_data.columns)\n",
    "\n",
    "# Combine categorial and numerical data\n",
    "x_data = pd.concat([numerical_data, categorical_data], axis=1)\n",
    "x_col_name = x_data.columns\n",
    "x_col_count = len(x_col_name)\n",
    "\n",
    "# Standard Scale numerial label data\n",
    "from sklearn.preprocessing import MinMaxScaler\n",
    "y_tmp = pd.DataFrame(y_data).values #returns a numpy array\n",
    "y_scaler = MinMaxScaler()\n",
    "y_tmp = y_scaler.fit_transform(y_tmp)\n",
    "y_tmp = y_tmp.reshape(-1)\n",
    "y_data = pd.Series(y_tmp)\n",
    "\n",
    "#print(categorical_data.head())\n",
    "#print(numerical_data.head())\n",
    "print(x_data)\n",
    "print(y_data)"
   ]
  },
  {
   "cell_type": "markdown",
   "metadata": {
    "id": "R-Vjx4BXmARa"
   },
   "source": [
    "### 2.4.2 Creating the model and training the model"
   ]
  },
  {
   "cell_type": "code",
   "execution_count": 23,
   "metadata": {
    "colab": {
     "base_uri": "https://localhost:8080/",
     "height": 408
    },
    "executionInfo": {
     "elapsed": 1910,
     "status": "ok",
     "timestamp": 1601451531840,
     "user": {
      "displayName": "Shannen Ang",
      "photoUrl": "https://lh3.googleusercontent.com/a-/AOh14Gij4dJOVMwcjFhPJEz7npDxgg-ASHzpFf5XkyU8jQ=s64",
      "userId": "04024065041896518848"
     },
     "user_tz": -480
    },
    "id": "tOWQldQI18n5",
    "outputId": "9a9cd24e-0561-4c45-c825-44f6e2340bbd",
    "scrolled": true
   },
   "outputs": [
    {
     "name": "stdout",
     "output_type": "stream",
     "text": [
      "Epoch 1/10\n",
      "1/1 [==============================] - 1s 1s/step - loss: 0.1503 - mae: 0.3473 - val_loss: 0.1270 - val_mae: 0.3151\n",
      "Epoch 2/10\n",
      "1/1 [==============================] - 0s 29ms/step - loss: 0.1438 - mae: 0.3386 - val_loss: 0.1211 - val_mae: 0.3064\n",
      "Epoch 3/10\n",
      "1/1 [==============================] - 0s 47ms/step - loss: 0.1376 - mae: 0.3300 - val_loss: 0.1155 - val_mae: 0.2979\n",
      "Epoch 4/10\n",
      "1/1 [==============================] - 0s 28ms/step - loss: 0.1316 - mae: 0.3216 - val_loss: 0.1101 - val_mae: 0.2897\n",
      "Epoch 5/10\n",
      "1/1 [==============================] - 0s 25ms/step - loss: 0.1259 - mae: 0.3135 - val_loss: 0.1050 - val_mae: 0.2818\n",
      "Epoch 6/10\n",
      "1/1 [==============================] - 0s 25ms/step - loss: 0.1204 - mae: 0.3055 - val_loss: 0.1001 - val_mae: 0.2740\n",
      "Epoch 7/10\n",
      "1/1 [==============================] - 0s 25ms/step - loss: 0.1151 - mae: 0.2978 - val_loss: 0.0954 - val_mae: 0.2666\n",
      "Epoch 8/10\n",
      "1/1 [==============================] - 0s 70ms/step - loss: 0.1102 - mae: 0.2904 - val_loss: 0.0910 - val_mae: 0.2594\n",
      "Epoch 9/10\n",
      "1/1 [==============================] - 0s 26ms/step - loss: 0.1054 - mae: 0.2831 - val_loss: 0.0868 - val_mae: 0.2524\n",
      "Epoch 10/10\n",
      "1/1 [==============================] - 0s 24ms/step - loss: 0.1009 - mae: 0.2760 - val_loss: 0.0829 - val_mae: 0.2457\n",
      "13/13 [==============================] - 0s 2ms/step - loss: 0.0904 - mae: 0.2573\n",
      "Test loss: 0.0904\n",
      "Test mae: 0.2573\n"
     ]
    }
   ],
   "source": [
    "from keras import models\n",
    "from keras import layers\n",
    "from sklearn.model_selection import train_test_split\n",
    "\n",
    "# Split up the data to 70% train and 30% test\n",
    "X_train, X_test, y_train, y_test = train_test_split(x_data, y_data, test_size=0.3)\n",
    "\n",
    "# Create a sequential model\n",
    "network = models.Sequential()\n",
    "\n",
    "# Try changing to different type of activation function to see the differences\n",
    "network.add(layers.Dense(1, activation='sigmoid', input_shape=(x_col_count,)))\n",
    "\n",
    "# Observe the use loss function in the codes below\n",
    "network.compile(optimizer='sgd', loss='mean_squared_error', metrics=['mae'])\n",
    "\n",
    "history = network.fit(X_train, y_train, epochs=10, batch_size=1000, validation_split=0.2)\n",
    "\n",
    "test_loss, test_mae = network.evaluate(X_test, y_test)\n",
    "print('Test loss: {:.4f}'.format(test_loss))\n",
    "print('Test mae: {:.4f}'.format(test_mae))"
   ]
  },
  {
   "cell_type": "markdown",
   "metadata": {
    "id": "0qZqojV0m4OU"
   },
   "source": [
    "## 2.5 Your Exercise"
   ]
  },
  {
   "cell_type": "markdown",
   "metadata": {
    "id": "7gTXWmJPntQx"
   },
   "source": [
    "### 2.5.1 Plot your graph to visualize the performance"
   ]
  },
  {
   "cell_type": "code",
   "execution_count": 24,
   "metadata": {},
   "outputs": [
    {
     "data": {
      "image/png": "[encoded data removed]",
      "text/plain": [
       "<Figure size 432x288 with 1 Axes>"
      ]
     },
     "metadata": {
      "needs_background": "light"
     },
     "output_type": "display_data"
    }
   ],
   "source": [
    "import matplotlib.pyplot as plt\n",
    "def plot_loss(history):\n",
    "    train_loss = history.history['loss']\n",
    "    val_loss = history.history['val_loss']\n",
    "    x = list(range(1, len(val_loss) + 1))\n",
    "    plt.plot(x, val_loss, color = 'red', label = 'Val MSE')\n",
    "    plt.plot(x, train_loss, label = 'Train MSE')\n",
    "    plt.xlabel('Epoch')\n",
    "    plt.ylabel('MSE')\n",
    "    plt.title('MSE over Epochs')\n",
    "    plt.legend()\n",
    "    \n",
    "plot_loss(history)  "
   ]
  },
  {
   "cell_type": "code",
   "execution_count": 25,
   "metadata": {
    "colab": {
     "base_uri": "https://localhost:8080/",
     "height": 295
    },
    "executionInfo": {
     "elapsed": 1170,
     "status": "ok",
     "timestamp": 1601451537733,
     "user": {
      "displayName": "Shannen Ang",
      "photoUrl": "https://lh3.googleusercontent.com/a-/AOh14Gij4dJOVMwcjFhPJEz7npDxgg-ASHzpFf5XkyU8jQ=s64",
      "userId": "04024065041896518848"
     },
     "user_tz": -480
    },
    "id": "igRZlm3InYdQ",
    "outputId": "ee6c8dba-bae2-4855-f340-48eaf1f378b4"
   },
   "outputs": [
    {
     "data": {
      "image/png": "[encoded data removed]",
      "text/plain": [
       "<Figure size 432x288 with 1 Axes>"
      ]
     },
     "metadata": {
      "needs_background": "light"
     },
     "output_type": "display_data"
    }
   ],
   "source": [
    "#your plot codes goes here\n",
    "def plot_mae(history):\n",
    "    train_loss = history.history['mae']\n",
    "    test_loss = history.history['val_mae']\n",
    "    x = list(range(1, len(test_loss) + 1))\n",
    "    plt.plot(x, test_loss, color='red', label='Val MAE')\n",
    "    plt.plot(x, train_loss, label='Train MAE')\n",
    "    plt.xlabel('Epoch')\n",
    "    plt.ylabel('MAE')\n",
    "    plt.title('MAE over Epochs')\n",
    "    plt.legend()\n",
    "    \n",
    "plot_mae(history)"
   ]
  },
  {
   "cell_type": "markdown",
   "metadata": {
    "id": "GquJvYvgnap5"
   },
   "source": [
    "### 2.5.2 Explore the performance with different activation function and loss function"
   ]
  },
  {
   "cell_type": "code",
   "execution_count": 26,
   "metadata": {
    "colab": {
     "base_uri": "https://localhost:8080/",
     "height": 408
    },
    "executionInfo": {
     "elapsed": 1898,
     "status": "ok",
     "timestamp": 1601451564049,
     "user": {
      "displayName": "Shannen Ang",
      "photoUrl": "https://lh3.googleusercontent.com/a-/AOh14Gij4dJOVMwcjFhPJEz7npDxgg-ASHzpFf5XkyU8jQ=s64",
      "userId": "04024065041896518848"
     },
     "user_tz": -480
    },
    "id": "uRZMnwwqngaw",
    "outputId": "677bb770-d4c1-47b0-c56b-5a2e074729c2"
   },
   "outputs": [
    {
     "name": "stdout",
     "output_type": "stream",
     "text": [
      "Epoch 1/10\n",
      "1/1 [==============================] - 0s 411ms/step - loss: 0.0825 - mae: 0.2642 - val_loss: 0.0796 - val_mae: 0.2622\n",
      "Epoch 2/10\n",
      "1/1 [==============================] - 0s 24ms/step - loss: 0.0819 - mae: 0.2628 - val_loss: 0.0788 - val_mae: 0.2604\n",
      "Epoch 3/10\n",
      "1/1 [==============================] - 0s 23ms/step - loss: 0.0811 - mae: 0.2612 - val_loss: 0.0781 - val_mae: 0.2586\n",
      "Epoch 4/10\n",
      "1/1 [==============================] - 0s 24ms/step - loss: 0.0804 - mae: 0.2596 - val_loss: 0.0773 - val_mae: 0.2568\n",
      "Epoch 5/10\n",
      "1/1 [==============================] - 0s 25ms/step - loss: 0.0796 - mae: 0.2579 - val_loss: 0.0765 - val_mae: 0.2549\n",
      "Epoch 6/10\n",
      "1/1 [==============================] - 0s 27ms/step - loss: 0.0789 - mae: 0.2562 - val_loss: 0.0757 - val_mae: 0.2530\n",
      "Epoch 7/10\n",
      "1/1 [==============================] - 0s 24ms/step - loss: 0.0780 - mae: 0.2544 - val_loss: 0.0749 - val_mae: 0.2511\n",
      "Epoch 8/10\n",
      "1/1 [==============================] - 0s 25ms/step - loss: 0.0772 - mae: 0.2525 - val_loss: 0.0741 - val_mae: 0.2491\n",
      "Epoch 9/10\n",
      "1/1 [==============================] - 0s 23ms/step - loss: 0.0763 - mae: 0.2506 - val_loss: 0.0733 - val_mae: 0.2471\n",
      "Epoch 10/10\n",
      "1/1 [==============================] - 0s 23ms/step - loss: 0.0754 - mae: 0.2485 - val_loss: 0.0724 - val_mae: 0.2450\n",
      "13/13 [==============================] - 0s 2ms/step - loss: 0.0750 - mae: 0.2449\n",
      "Test loss: 0.0750\n",
      "Test mae: 0.2449\n"
     ]
    }
   ],
   "source": [
    "# your code goes here\n",
    "# Create a sequential model\n",
    "network = models.Sequential()\n",
    "\n",
    "# Try changing to different type of activation function to see the differences\n",
    "network.add(layers.Dense(3, activation='relu', input_shape=(x_col_count,)))\n",
    "network.add(layers.Dense(2, activation='relu'))\n",
    "network.add(layers.Dense(1, activation='sigmoid'))\n",
    "\n",
    "# Observe the use loss function in the codes below\n",
    "network.compile(optimizer='sgd', loss='mean_squared_error', metrics=['mae'])\n",
    "\n",
    "history2 = network.fit(X_train, y_train, epochs=10, batch_size=1000, validation_split=0.2)\n",
    "\n",
    "test_loss, test_mae = network.evaluate(X_test, y_test)\n",
    "print('Test loss: {:.4f}'.format(test_loss))\n",
    "print('Test mae: {:.4f}'.format(test_mae))"
   ]
  },
  {
   "cell_type": "code",
   "execution_count": 27,
   "metadata": {
    "colab": {
     "base_uri": "https://localhost:8080/",
     "height": 295
    },
    "executionInfo": {
     "elapsed": 1272,
     "status": "ok",
     "timestamp": 1601451573399,
     "user": {
      "displayName": "Shannen Ang",
      "photoUrl": "https://lh3.googleusercontent.com/a-/AOh14Gij4dJOVMwcjFhPJEz7npDxgg-ASHzpFf5XkyU8jQ=s64",
      "userId": "04024065041896518848"
     },
     "user_tz": -480
    },
    "id": "egZRW5dTuDEB",
    "outputId": "d11a1b1b-8846-4a32-f904-e1b6c5a963a4"
   },
   "outputs": [
    {
     "data": {
      "image/png": "[encoded data removed]",
      "text/plain": [
       "<Figure size 432x288 with 1 Axes>"
      ]
     },
     "metadata": {
      "needs_background": "light"
     },
     "output_type": "display_data"
    }
   ],
   "source": [
    "plot_loss(history2)"
   ]
  },
  {
   "cell_type": "code",
   "execution_count": 28,
   "metadata": {},
   "outputs": [
    {
     "data": {
      "image/png": "[encoded data removed]",
      "text/plain": [
       "<Figure size 432x288 with 1 Axes>"
      ]
     },
     "metadata": {
      "needs_background": "light"
     },
     "output_type": "display_data"
    }
   ],
   "source": [
    "plot_mae(history2)"
   ]
  },
  {
   "cell_type": "markdown",
   "metadata": {
    "id": "Yy77A9pnnjFy"
   },
   "source": [
    "### 2.5.3 Conclude your tuned activation and loss function used"
   ]
  }
 ],
 "metadata": {
  "colab": {
   "collapsed_sections": [],
   "name": "TIPP-DL-LU02 Lab(ans).ipynb",
   "provenance": [],
   "toc_visible": true
  },
  "kernelspec": {
   "display_name": "Python 3.9.12 ('RP-X0PA_3.9')",
   "language": "python",
   "name": "python3"
  },
  "language_info": {
   "codemirror_mode": {
    "name": "ipython",
    "version": 3
   },
   "file_extension": ".py",
   "mimetype": "text/x-python",
   "name": "python",
   "nbconvert_exporter": "python",
   "pygments_lexer": "ipython3",
   "version": "3.9.12"
  },
  "vscode": {
   "interpreter": {
    "hash": "0974853aac2e1be22b1c71bc2108bee902f4a24fbab5204c66962b2aba421724"
   }
  }
 },
 "nbformat": 4,
 "nbformat_minor": 1
}
