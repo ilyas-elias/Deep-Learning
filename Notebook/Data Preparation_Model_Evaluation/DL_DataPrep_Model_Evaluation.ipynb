{
 "cells": [
  {
   "cell_type": "markdown",
   "metadata": {
    "id": "37OLw6k0lVXU"
   },
   "source": [
    "# Deep Learning Fundamentals - LU02 Lab Exercise"
   ]
  },
  {
   "cell_type": "markdown",
   "metadata": {
    "id": "JzhdzUo6lVXV"
   },
   "source": [
    "## 2.1 Import required package and load data from file into pandas dataframe"
   ]
  },
  {
   "cell_type": "code",
   "execution_count": 1,
   "metadata": {
    "executionInfo": {
     "elapsed": 60806,
     "status": "ok",
     "timestamp": 1601470497166,
     "user": {
      "displayName": "Shannen Ang",
      "photoUrl": "https://lh3.googleusercontent.com/a-/AOh14Gij4dJOVMwcjFhPJEz7npDxgg-ASHzpFf5XkyU8jQ=s64",
      "userId": "04024065041896518848"
     },
     "user_tz": -480
    },
    "id": "yeKCE3BxlVXW"
   },
   "outputs": [
    {
     "name": "stdout",
     "output_type": "stream",
     "text": [
      "Data shape: (1359, 80)\n"
     ]
    }
   ],
   "source": [
    "import pandas as pd\n",
    "import numpy as np\n",
    "import numpy.random as nr\n",
    "from keras import models\n",
    "from keras import layers\n",
    "from sklearn.preprocessing import StandardScaler\n",
    "from sklearn.preprocessing import MinMaxScaler\n",
    "from sklearn.model_selection import train_test_split\n",
    "from keras import regularizers\n",
    "\n",
    "# Import the data using the file path\n",
    "data = pd.read_csv('Ames_Housing_Sales.csv', sep=',')\n",
    "print('Data shape: {}'.format(data.shape))"
   ]
  },
  {
   "cell_type": "markdown",
   "metadata": {
    "id": "9YN7zhv5lVXa"
   },
   "source": [
    "## 2.2 Data Preparation\n",
    "Extract the label column containing the SalePrice and remove from the dataset"
   ]
  },
  {
   "cell_type": "code",
   "execution_count": 2,
   "metadata": {
    "executionInfo": {
     "elapsed": 60797,
     "status": "ok",
     "timestamp": 1601470497169,
     "user": {
      "displayName": "Shannen Ang",
      "photoUrl": "https://lh3.googleusercontent.com/a-/AOh14Gij4dJOVMwcjFhPJEz7npDxgg-ASHzpFf5XkyU8jQ=s64",
      "userId": "04024065041896518848"
     },
     "user_tz": -480
    },
    "id": "MCNT3DB3lVXc"
   },
   "outputs": [],
   "source": [
    "y_col_name = 'SalePrice'\n",
    "y_data = data[y_col_name]\n",
    "\n",
    "x_data = data.drop(y_col_name, axis=1)"
   ]
  },
  {
   "cell_type": "markdown",
   "metadata": {
    "id": "W9UtFw-1lVXg"
   },
   "source": [
    "Perform One-Hot Encoding on all categorical data columns"
   ]
  },
  {
   "cell_type": "code",
   "execution_count": 3,
   "metadata": {
    "colab": {
     "base_uri": "https://localhost:8080/",
     "height": 35
    },
    "executionInfo": {
     "elapsed": 60790,
     "status": "ok",
     "timestamp": 1601470497169,
     "user": {
      "displayName": "Shannen Ang",
      "photoUrl": "https://lh3.googleusercontent.com/a-/AOh14Gij4dJOVMwcjFhPJEz7npDxgg-ASHzpFf5XkyU8jQ=s64",
      "userId": "04024065041896518848"
     },
     "user_tz": -480
    },
    "id": "rxxEzqPblVXg",
    "outputId": "9e2e77a8-0f38-45bb-b29e-81c8039a19e3"
   },
   "outputs": [
    {
     "name": "stdout",
     "output_type": "stream",
     "text": [
      "Categorical data shape: (1359, 258)\n"
     ]
    }
   ],
   "source": [
    "# OneHot Encode categorical data\n",
    "categorical_data = x_data.select_dtypes(include=['object']).copy()\n",
    "for col in categorical_data.columns:\n",
    "    categorical_data[col] = categorical_data[col].astype('category')\n",
    "\n",
    "categorical_data = pd.get_dummies(categorical_data)\n",
    "print('Categorical data shape: {}'.format(categorical_data.shape))"
   ]
  },
  {
   "cell_type": "markdown",
   "metadata": {
    "id": "00MdVu_QlVXk"
   },
   "source": [
    "Normalize data scales for numerical data and the labels"
   ]
  },
  {
   "cell_type": "code",
   "execution_count": 4,
   "metadata": {
    "executionInfo": {
     "elapsed": 60787,
     "status": "ok",
     "timestamp": 1601470497170,
     "user": {
      "displayName": "Shannen Ang",
      "photoUrl": "https://lh3.googleusercontent.com/a-/AOh14Gij4dJOVMwcjFhPJEz7npDxgg-ASHzpFf5XkyU8jQ=s64",
      "userId": "04024065041896518848"
     },
     "user_tz": -480
    },
    "id": "WqCSMDpolVXk"
   },
   "outputs": [],
   "source": [
    "# Standard Scale numerial feature data\n",
    "numerical_data = x_data.select_dtypes(include=['float64', 'int64']).copy()\n",
    "data_tmp = numerical_data.values #returns a numpy array\n",
    "std_scaler = StandardScaler()\n",
    "data_tmp = std_scaler.fit_transform(data_tmp)\n",
    "numerical_data = pd.DataFrame(data_tmp, columns=numerical_data.columns)\n",
    "\n",
    "# Standard Scale numerial label data\n",
    "y_tmp = pd.DataFrame(y_data).values #returns a numpy array\n",
    "y_scaler = MinMaxScaler()\n",
    "y_tmp = y_scaler.fit_transform(y_tmp)\n",
    "y_tmp = y_tmp.reshape(-1)\n",
    "y_data = pd.Series(y_tmp)"
   ]
  },
  {
   "cell_type": "code",
   "execution_count": 5,
   "metadata": {
    "colab": {
     "base_uri": "https://localhost:8080/",
     "height": 35
    },
    "executionInfo": {
     "elapsed": 60781,
     "status": "ok",
     "timestamp": 1601470497171,
     "user": {
      "displayName": "Shannen Ang",
      "photoUrl": "https://lh3.googleusercontent.com/a-/AOh14Gij4dJOVMwcjFhPJEz7npDxgg-ASHzpFf5XkyU8jQ=s64",
      "userId": "04024065041896518848"
     },
     "user_tz": -480
    },
    "id": "OCpXZH11lVXn",
    "outputId": "8811fac0-fe60-484e-be6f-90edd2369dd7"
   },
   "outputs": [
    {
     "name": "stdout",
     "output_type": "stream",
     "text": [
      "x_data data shape: (1359, 294)\n"
     ]
    }
   ],
   "source": [
    "# Combine categorial and numerical data\n",
    "x_data = pd.concat([numerical_data, categorical_data], axis=1)\n",
    "print('x_data data shape: {}'.format(x_data.shape))\n",
    "\n",
    "x_col_name = x_data.columns\n",
    "x_col_count = len(x_col_name)"
   ]
  },
  {
   "cell_type": "markdown",
   "metadata": {},
   "source": [
    "## 2.3 Split the data"
   ]
  },
  {
   "cell_type": "markdown",
   "metadata": {},
   "source": [
    "### Method 1"
   ]
  },
  {
   "cell_type": "code",
   "execution_count": 6,
   "metadata": {},
   "outputs": [
    {
     "name": "stdout",
     "output_type": "stream",
     "text": [
      "X_train data shape: (951, 294)\n",
      "X_test data shape: (204, 294)\n",
      "X_val data shape: (204, 294)\n",
      "Epoch 1/20\n",
      "119/119 [==============================] - 2s 8ms/step - loss: 0.0417 - mae: 0.1463 - val_loss: 0.0101 - val_mae: 0.0682\n",
      "Epoch 2/20\n",
      "119/119 [==============================] - 0s 4ms/step - loss: 0.0079 - mae: 0.0610 - val_loss: 0.0064 - val_mae: 0.0539\n",
      "Epoch 3/20\n",
      "119/119 [==============================] - ETA: 0s - loss: 0.0055 - mae: 0.050 - 0s 4ms/step - loss: 0.0055 - mae: 0.0503 - val_loss: 0.0054 - val_mae: 0.0487\n",
      "Epoch 4/20\n",
      "119/119 [==============================] - 0s 4ms/step - loss: 0.0045 - mae: 0.0448 - val_loss: 0.0046 - val_mae: 0.0448\n",
      "Epoch 5/20\n",
      "119/119 [==============================] - 0s 4ms/step - loss: 0.0038 - mae: 0.0403 - val_loss: 0.0040 - val_mae: 0.0412\n",
      "Epoch 6/20\n",
      "119/119 [==============================] - 0s 4ms/step - loss: 0.0033 - mae: 0.0373 - val_loss: 0.0034 - val_mae: 0.0388\n",
      "Epoch 7/20\n",
      "119/119 [==============================] - 0s 3ms/step - loss: 0.0029 - mae: 0.0341 - val_loss: 0.0029 - val_mae: 0.0366\n",
      "Epoch 8/20\n",
      "119/119 [==============================] - 0s 3ms/step - loss: 0.0027 - mae: 0.0321 - val_loss: 0.0024 - val_mae: 0.0342\n",
      "Epoch 9/20\n",
      "119/119 [==============================] - 0s 3ms/step - loss: 0.0024 - mae: 0.0310 - val_loss: 0.0023 - val_mae: 0.0333\n",
      "Epoch 10/20\n",
      "119/119 [==============================] - 0s 3ms/step - loss: 0.0022 - mae: 0.0285 - val_loss: 0.0019 - val_mae: 0.0310\n",
      "Epoch 11/20\n",
      "119/119 [==============================] - 0s 3ms/step - loss: 0.0021 - mae: 0.0283 - val_loss: 0.0019 - val_mae: 0.0307\n",
      "Epoch 12/20\n",
      "119/119 [==============================] - 0s 3ms/step - loss: 0.0021 - mae: 0.0278 - val_loss: 0.0018 - val_mae: 0.0313\n",
      "Epoch 13/20\n",
      "119/119 [==============================] - 0s 3ms/step - loss: 0.0019 - mae: 0.0279 - val_loss: 0.0017 - val_mae: 0.0288\n",
      "Epoch 14/20\n",
      "119/119 [==============================] - 0s 3ms/step - loss: 0.0018 - mae: 0.0260 - val_loss: 0.0016 - val_mae: 0.0279\n",
      "Epoch 15/20\n",
      "119/119 [==============================] - 0s 3ms/step - loss: 0.0017 - mae: 0.0264 - val_loss: 0.0015 - val_mae: 0.0269\n",
      "Epoch 16/20\n",
      "119/119 [==============================] - 0s 3ms/step - loss: 0.0016 - mae: 0.0256 - val_loss: 0.0014 - val_mae: 0.0264\n",
      "Epoch 17/20\n",
      "119/119 [==============================] - 0s 3ms/step - loss: 0.0016 - mae: 0.0254 - val_loss: 0.0014 - val_mae: 0.0268\n",
      "Epoch 18/20\n",
      "119/119 [==============================] - 0s 3ms/step - loss: 0.0016 - mae: 0.0258 - val_loss: 0.0014 - val_mae: 0.0257\n",
      "Epoch 19/20\n",
      "119/119 [==============================] - 0s 3ms/step - loss: 0.0015 - mae: 0.0251 - val_loss: 0.0013 - val_mae: 0.0254\n",
      "Epoch 20/20\n",
      "119/119 [==============================] - 0s 3ms/step - loss: 0.0015 - mae: 0.0243 - val_loss: 0.0014 - val_mae: 0.0281\n"
     ]
    }
   ],
   "source": [
    "# Define the model\n",
    "network = models.Sequential()\n",
    "network.add(layers.Dense(1, activation='sigmoid', input_shape=(x_col_count,)))\n",
    "network.compile(optimizer='adam', loss='mean_squared_error', metrics=['mae'])\n",
    "\n",
    "# Split data into train-test sets\n",
    "X_train, X_test, y_train, y_test = train_test_split(x_data, y_data, test_size=0.3)\n",
    "X_test, X_val, y_test, y_val = train_test_split(X_test, y_test, test_size=0.5)\n",
    "\n",
    "print('X_train data shape: {}'.format(X_train.shape))\n",
    "print('X_test data shape: {}'.format(X_test.shape))\n",
    "print('X_val data shape: {}'.format(X_val.shape))\n",
    "\n",
    "# Pass the validation data into the fit method directory\n",
    "history = network.fit(X_train, y_train, epochs=20, batch_size=8, validation_data=(X_val, y_val))"
   ]
  },
  {
   "cell_type": "markdown",
   "metadata": {},
   "source": [
    "### Method 2"
   ]
  },
  {
   "cell_type": "code",
   "execution_count": 7,
   "metadata": {},
   "outputs": [
    {
     "name": "stdout",
     "output_type": "stream",
     "text": [
      "X_train data shape: (815, 294)\n",
      "X_test data shape: (544, 294)\n",
      "Epoch 1/20\n",
      "82/82 [==============================] - 1s 6ms/step - loss: 0.0557 - mae: 0.1798 - val_loss: 0.0097 - val_mae: 0.0674\n",
      "Epoch 2/20\n",
      "82/82 [==============================] - 0s 3ms/step - loss: 0.0082 - mae: 0.0609 - val_loss: 0.0053 - val_mae: 0.0508\n",
      "Epoch 3/20\n",
      "82/82 [==============================] - 0s 3ms/step - loss: 0.0059 - mae: 0.0515 - val_loss: 0.0040 - val_mae: 0.0448\n",
      "Epoch 4/20\n",
      "82/82 [==============================] - 0s 3ms/step - loss: 0.0049 - mae: 0.0474 - val_loss: 0.0034 - val_mae: 0.0416\n",
      "Epoch 5/20\n",
      "82/82 [==============================] - 0s 3ms/step - loss: 0.0040 - mae: 0.0437 - val_loss: 0.0030 - val_mae: 0.0389\n",
      "Epoch 6/20\n",
      "82/82 [==============================] - 0s 3ms/step - loss: 0.0034 - mae: 0.0407 - val_loss: 0.0027 - val_mae: 0.0370\n",
      "Epoch 7/20\n",
      "82/82 [==============================] - 0s 3ms/step - loss: 0.0029 - mae: 0.0373 - val_loss: 0.0023 - val_mae: 0.0350\n",
      "Epoch 8/20\n",
      "82/82 [==============================] - 0s 3ms/step - loss: 0.0026 - mae: 0.0346 - val_loss: 0.0021 - val_mae: 0.0333\n",
      "Epoch 9/20\n",
      "82/82 [==============================] - 0s 3ms/step - loss: 0.0023 - mae: 0.0325 - val_loss: 0.0020 - val_mae: 0.0319\n",
      "Epoch 10/20\n",
      "82/82 [==============================] - 0s 3ms/step - loss: 0.0021 - mae: 0.0306 - val_loss: 0.0019 - val_mae: 0.0311\n",
      "Epoch 11/20\n",
      "82/82 [==============================] - 0s 3ms/step - loss: 0.0020 - mae: 0.0296 - val_loss: 0.0018 - val_mae: 0.0301\n",
      "Epoch 12/20\n",
      "82/82 [==============================] - 0s 3ms/step - loss: 0.0019 - mae: 0.0288 - val_loss: 0.0017 - val_mae: 0.0289\n",
      "Epoch 13/20\n",
      "82/82 [==============================] - 0s 3ms/step - loss: 0.0017 - mae: 0.0276 - val_loss: 0.0016 - val_mae: 0.0283\n",
      "Epoch 14/20\n",
      "82/82 [==============================] - 0s 3ms/step - loss: 0.0016 - mae: 0.0268 - val_loss: 0.0016 - val_mae: 0.0272\n",
      "Epoch 15/20\n",
      "82/82 [==============================] - 0s 3ms/step - loss: 0.0015 - mae: 0.0263 - val_loss: 0.0016 - val_mae: 0.0279\n",
      "Epoch 16/20\n",
      "82/82 [==============================] - 0s 3ms/step - loss: 0.0015 - mae: 0.0259 - val_loss: 0.0015 - val_mae: 0.0259\n",
      "Epoch 17/20\n",
      "82/82 [==============================] - 0s 3ms/step - loss: 0.0014 - mae: 0.0254 - val_loss: 0.0014 - val_mae: 0.0253\n",
      "Epoch 18/20\n",
      "82/82 [==============================] - 0s 3ms/step - loss: 0.0014 - mae: 0.0250 - val_loss: 0.0014 - val_mae: 0.0253\n",
      "Epoch 19/20\n",
      "82/82 [==============================] - 0s 3ms/step - loss: 0.0013 - mae: 0.0242 - val_loss: 0.0013 - val_mae: 0.0246\n",
      "Epoch 20/20\n",
      "82/82 [==============================] - 0s 3ms/step - loss: 0.0012 - mae: 0.0234 - val_loss: 0.0013 - val_mae: 0.0241\n"
     ]
    }
   ],
   "source": [
    "# Define the model\n",
    "network = models.Sequential()\n",
    "network.add(layers.Dense(1, activation='sigmoid', input_shape=(x_col_count,)))\n",
    "network.compile(optimizer='adam', loss='mean_squared_error', metrics=['mae'])\n",
    "\n",
    "# Split data into train-test sets\n",
    "X_train, X_test, y_train, y_test = train_test_split(x_data, y_data, test_size=0.4)\n",
    "\n",
    "print('X_train data shape: {}'.format(X_train.shape))\n",
    "print('X_test data shape: {}'.format(X_test.shape))\n",
    "\n",
    "# Specify the validation split in the fit method\n",
    "history = network.fit(X_train, y_train, epochs=20, batch_size=8, validation_split=0.2)"
   ]
  },
  {
   "cell_type": "markdown",
   "metadata": {
    "id": "8unMIG8ku6d1"
   },
   "source": [
    "## 2.4 Build and train model"
   ]
  },
  {
   "cell_type": "code",
   "execution_count": 8,
   "metadata": {
    "colab": {
     "base_uri": "https://localhost:8080/",
     "height": 728
    },
    "executionInfo": {
     "elapsed": 1791,
     "status": "ok",
     "timestamp": 1601471533684,
     "user": {
      "displayName": "Shannen Ang",
      "photoUrl": "https://lh3.googleusercontent.com/a-/AOh14Gij4dJOVMwcjFhPJEz7npDxgg-ASHzpFf5XkyU8jQ=s64",
      "userId": "04024065041896518848"
     },
     "user_tz": -480
    },
    "id": "lq7Q4mZelVXu",
    "outputId": "c751440d-e930-42ca-fbd2-fd57d3eb2daa"
   },
   "outputs": [
    {
     "name": "stdout",
     "output_type": "stream",
     "text": [
      "Epoch 1/20\n",
      "95/95 [==============================] - 1s 6ms/step - loss: 0.0173 - mae: 0.0955 - val_loss: 0.0056 - val_mae: 0.0557\n",
      "Epoch 2/20\n",
      "95/95 [==============================] - 0s 3ms/step - loss: 0.0046 - mae: 0.0485 - val_loss: 0.0039 - val_mae: 0.0456\n",
      "Epoch 3/20\n",
      "95/95 [==============================] - 0s 3ms/step - loss: 0.0032 - mae: 0.0404 - val_loss: 0.0032 - val_mae: 0.0409\n",
      "Epoch 4/20\n",
      "95/95 [==============================] - 0s 3ms/step - loss: 0.0024 - mae: 0.0348 - val_loss: 0.0026 - val_mae: 0.0368\n",
      "Epoch 5/20\n",
      "95/95 [==============================] - 0s 3ms/step - loss: 0.0018 - mae: 0.0309 - val_loss: 0.0024 - val_mae: 0.0348\n",
      "Epoch 6/20\n",
      "95/95 [==============================] - 0s 3ms/step - loss: 0.0015 - mae: 0.0283 - val_loss: 0.0021 - val_mae: 0.0327\n",
      "Epoch 7/20\n",
      "95/95 [==============================] - 0s 3ms/step - loss: 0.0013 - mae: 0.0263 - val_loss: 0.0020 - val_mae: 0.0314\n",
      "Epoch 8/20\n",
      "95/95 [==============================] - 0s 3ms/step - loss: 0.0011 - mae: 0.0246 - val_loss: 0.0019 - val_mae: 0.0305\n",
      "Epoch 9/20\n",
      "95/95 [==============================] - 0s 3ms/step - loss: 0.0010 - mae: 0.0233 - val_loss: 0.0019 - val_mae: 0.0303\n",
      "Epoch 10/20\n",
      "95/95 [==============================] - 0s 3ms/step - loss: 9.2440e-04 - mae: 0.0218 - val_loss: 0.0019 - val_mae: 0.0297\n",
      "Epoch 11/20\n",
      "95/95 [==============================] - 0s 3ms/step - loss: 8.8504e-04 - mae: 0.0215 - val_loss: 0.0018 - val_mae: 0.0290\n",
      "Epoch 12/20\n",
      "95/95 [==============================] - 0s 3ms/step - loss: 8.3746e-04 - mae: 0.0208 - val_loss: 0.0018 - val_mae: 0.0285\n",
      "Epoch 13/20\n",
      "95/95 [==============================] - 0s 3ms/step - loss: 7.8985e-04 - mae: 0.0201 - val_loss: 0.0019 - val_mae: 0.0284\n",
      "Epoch 14/20\n",
      "95/95 [==============================] - 0s 3ms/step - loss: 7.5236e-04 - mae: 0.0194 - val_loss: 0.0018 - val_mae: 0.0278\n",
      "Epoch 15/20\n",
      "95/95 [==============================] - 0s 3ms/step - loss: 7.5671e-04 - mae: 0.0192 - val_loss: 0.0018 - val_mae: 0.0277\n",
      "Epoch 16/20\n",
      "95/95 [==============================] - 0s 3ms/step - loss: 7.1367e-04 - mae: 0.0189 - val_loss: 0.0017 - val_mae: 0.0274\n",
      "Epoch 17/20\n",
      "95/95 [==============================] - 0s 3ms/step - loss: 7.0950e-04 - mae: 0.0188 - val_loss: 0.0017 - val_mae: 0.0269\n",
      "Epoch 18/20\n",
      "95/95 [==============================] - 0s 3ms/step - loss: 6.7024e-04 - mae: 0.0182 - val_loss: 0.0017 - val_mae: 0.0267\n",
      "Epoch 19/20\n",
      "95/95 [==============================] - 0s 3ms/step - loss: 6.7616e-04 - mae: 0.0182 - val_loss: 0.0017 - val_mae: 0.0266\n",
      "Epoch 20/20\n",
      "95/95 [==============================] - 0s 3ms/step - loss: 6.5275e-04 - mae: 0.0178 - val_loss: 0.0017 - val_mae: 0.0267\n"
     ]
    }
   ],
   "source": [
    "# Split data into train-test sets\n",
    "X_train, X_test, y_train, y_test = train_test_split(x_data, y_data, test_size=0.3)\n",
    "\n",
    "network = models.Sequential()\n",
    "\n",
    "# This is 1 input layer of x_col_count nodes and 1 output later of 1 node\n",
    "network.add(layers.Dense(1, activation='sigmoid', input_shape=(x_col_count,)))\n",
    "\n",
    "# >>>>>>>>> the following set is a sample if to create multiple layer >>>>>>>>>>>>>\n",
    "#example to create multiple layers. the following example is \n",
    "# 1 input layer of x_col_count nodes \n",
    "# 2 hidden layers of 5 and 3 nodes respectively\n",
    "# 1 output layer of 1 node on predicted sales pricing\n",
    "#network.add(layers.Dense(3, activation='relu', input_shape=(x_col_count,)))\n",
    "#network.add(layers.Dense(1, activation='sigmoid'))\n",
    "# <<<<<<<<<<<<<<<<<<<<<<<<<<<<<<<<<<<<<<<<<<<<<<<<<<<<<<<<<<<<<<<<<<<<<<<<<<<<<<<<<\n",
    "\n",
    "# Observe the use loss function in the codes below\n",
    "#network.compile(optimizer='sgd',\n",
    "#                loss='mean_squared_error',\n",
    "#               metrics=['mse'])\n",
    "\n",
    "# Observe the setting of shuffle to True\n",
    "# Play around the epochs, batch_size to see the effect \n",
    "# (Try to achieve <0.001 loss)\n",
    "nr.seed(9898)\n",
    "\n",
    "network.compile(optimizer='adam', loss='mean_squared_error', metrics=['mae'])\n",
    "\n",
    "# Plot loss and accuracy graph\n",
    "history = network.fit(X_train, y_train, epochs=20, batch_size=8, validation_split=0.2)"
   ]
  },
  {
   "cell_type": "markdown",
   "metadata": {
    "id": "Qo4vIpgq4mju"
   },
   "source": [
    "## 2.5 Evaluate the model"
   ]
  },
  {
   "cell_type": "code",
   "execution_count": 9,
   "metadata": {
    "colab": {
     "base_uri": "https://localhost:8080/",
     "height": 52
    },
    "executionInfo": {
     "elapsed": 2782,
     "status": "ok",
     "timestamp": 1601471534681,
     "user": {
      "displayName": "Shannen Ang",
      "photoUrl": "https://lh3.googleusercontent.com/a-/AOh14Gij4dJOVMwcjFhPJEz7npDxgg-ASHzpFf5XkyU8jQ=s64",
      "userId": "04024065041896518848"
     },
     "user_tz": -480
    },
    "id": "wT6SpU8Qdd-C",
    "outputId": "7f409ba9-2ec7-4514-c337-5aa37376d757"
   },
   "outputs": [
    {
     "name": "stdout",
     "output_type": "stream",
     "text": [
      "13/13 [==============================] - 0s 3ms/step - loss: 0.0038 - mae: 0.0265\n",
      "Test loss: 0.0038\n",
      "Test mae: 0.0265\n"
     ]
    }
   ],
   "source": [
    "test_loss, test_mae = network.evaluate(X_test, y_test)\n",
    "print('Test loss: {:.4f}'.format(test_loss))\n",
    "print('Test mae: {:.4f}'.format(test_mae))"
   ]
  },
  {
   "cell_type": "markdown",
   "metadata": {
    "id": "ruBXcRTbdmL7"
   },
   "source": [
    "## 2.5.1 Add the codes for plotting the graph to visualise the evaluation. \n",
    "Note: You will need to amend the fit to support the plotting"
   ]
  },
  {
   "cell_type": "code",
   "execution_count": 10,
   "metadata": {
    "colab": {
     "base_uri": "https://localhost:8080/",
     "height": 295
    },
    "executionInfo": {
     "elapsed": 2775,
     "status": "ok",
     "timestamp": 1601471534683,
     "user": {
      "displayName": "Shannen Ang",
      "photoUrl": "https://lh3.googleusercontent.com/a-/AOh14Gij4dJOVMwcjFhPJEz7npDxgg-ASHzpFf5XkyU8jQ=s64",
      "userId": "04024065041896518848"
     },
     "user_tz": -480
    },
    "id": "u9_eiZxSBQ-H",
    "outputId": "5ccd8043-c4c8-4244-8c1c-8c67064c5c49"
   },
   "outputs": [
    {
     "data": {
      "image/png": "[encoded data removed]",
      "text/plain": [
       "<Figure size 432x288 with 1 Axes>"
      ]
     },
     "metadata": {
      "needs_background": "light"
     },
     "output_type": "display_data"
    }
   ],
   "source": [
    "import matplotlib.pyplot as plt\n",
    "def plot_loss(history):\n",
    "    train_loss = history.history['loss']\n",
    "    test_loss = history.history['val_loss']\n",
    "    x = list(range(1, len(test_loss) + 1))\n",
    "    plt.plot(x, test_loss, color = 'red', label = 'Val MSE')\n",
    "    plt.plot(x, train_loss, label = 'Train MSE')\n",
    "    plt.xlabel('Epoch')\n",
    "    plt.ylabel('MSE')\n",
    "    plt.title('MSE vs. Epoch')\n",
    "    plt.legend()\n",
    "    \n",
    "plot_loss(history)  "
   ]
  },
  {
   "cell_type": "code",
   "execution_count": 11,
   "metadata": {
    "colab": {
     "base_uri": "https://localhost:8080/",
     "height": 295
    },
    "executionInfo": {
     "elapsed": 2771,
     "status": "ok",
     "timestamp": 1601471534683,
     "user": {
      "displayName": "Shannen Ang",
      "photoUrl": "https://lh3.googleusercontent.com/a-/AOh14Gij4dJOVMwcjFhPJEz7npDxgg-ASHzpFf5XkyU8jQ=s64",
      "userId": "04024065041896518848"
     },
     "user_tz": -480
    },
    "id": "fKbXNsHgC698",
    "outputId": "4e4b415c-727b-45c9-85ff-3c1a5ab71316"
   },
   "outputs": [
    {
     "data": {
      "image/png": "[encoded data removed]",
      "text/plain": [
       "<Figure size 432x288 with 1 Axes>"
      ]
     },
     "metadata": {
      "needs_background": "light"
     },
     "output_type": "display_data"
    }
   ],
   "source": [
    "def plot_mse(history):\n",
    "    train_acc = history.history['mae']\n",
    "    test_acc = history.history['val_mae']\n",
    "    x = list(range(1, len(test_acc) + 1))\n",
    "    plt.plot(x, test_acc, color = 'red', label = 'Val MAE')\n",
    "    plt.plot(x, train_acc, label = 'Train MAE')  \n",
    "    plt.xlabel('Epoch')\n",
    "    plt.ylabel('MAE')\n",
    "    plt.title('MAE vs. Epoch')  \n",
    "    plt.legend(loc='lower right')\n",
    "\n",
    "plot_mse(history)"
   ]
  },
  {
   "cell_type": "markdown",
   "metadata": {
    "id": "9qDWwPsg4pbS"
   },
   "source": [
    "## 2.6 Perform a prediction"
   ]
  },
  {
   "cell_type": "code",
   "execution_count": 12,
   "metadata": {
    "executionInfo": {
     "elapsed": 3317,
     "status": "ok",
     "timestamp": 1601471535234,
     "user": {
      "displayName": "Shannen Ang",
      "photoUrl": "https://lh3.googleusercontent.com/a-/AOh14Gij4dJOVMwcjFhPJEz7npDxgg-ASHzpFf5XkyU8jQ=s64",
      "userId": "04024065041896518848"
     },
     "user_tz": -480
    },
    "id": "wMeCC09I0va4"
   },
   "outputs": [],
   "source": [
    "predictData = pd.read_csv('PredictTest.csv')"
   ]
  },
  {
   "cell_type": "code",
   "execution_count": 13,
   "metadata": {
    "colab": {
     "base_uri": "https://localhost:8080/",
     "height": 52
    },
    "executionInfo": {
     "elapsed": 3315,
     "status": "ok",
     "timestamp": 1601471535235,
     "user": {
      "displayName": "Shannen Ang",
      "photoUrl": "https://lh3.googleusercontent.com/a-/AOh14Gij4dJOVMwcjFhPJEz7npDxgg-ASHzpFf5XkyU8jQ=s64",
      "userId": "04024065041896518848"
     },
     "user_tz": -480
    },
    "id": "228xIXg6eCIq",
    "outputId": "68b83d28-8fb7-4f0a-87d3-c55eb81aae23"
   },
   "outputs": [
    {
     "name": "stdout",
     "output_type": "stream",
     "text": [
      "Adding missing feature Alley_Grvl\n",
      "Adding missing feature BldgType_2fmCon\n",
      "Adding missing feature BldgType_Duplex\n",
      "Adding missing feature BldgType_Twnhs\n",
      "Adding missing feature BsmtCond_Fa\n",
      "Adding missing feature BsmtFinType2_ALQ\n",
      "Adding missing feature BsmtFinType2_BLQ\n",
      "Adding missing feature BsmtFinType2_GLQ\n",
      "Adding missing feature BsmtQual_Fa\n",
      "Adding missing feature Condition1_Feedr\n",
      "Adding missing feature Condition1_PosA\n",
      "Adding missing feature Condition1_PosN\n",
      "Adding missing feature Condition1_RRAe\n",
      "Adding missing feature Condition1_RRAn\n",
      "Adding missing feature Condition1_RRNe\n",
      "Adding missing feature Condition1_RRNn\n",
      "Adding missing feature Condition2_Artery\n",
      "Adding missing feature Condition2_Feedr\n",
      "Adding missing feature Condition2_PosA\n",
      "Adding missing feature Condition2_PosN\n",
      "Adding missing feature Condition2_RRAe\n",
      "Adding missing feature Condition2_RRAn\n",
      "Adding missing feature Condition2_RRNn\n",
      "Adding missing feature Electrical_FuseP\n",
      "Adding missing feature Electrical_Mix\n",
      "Adding missing feature ExterCond_Ex\n",
      "Adding missing feature ExterCond_Fa\n",
      "Adding missing feature ExterQual_Fa\n",
      "Adding missing feature Exterior1st_AsbShng\n",
      "Adding missing feature Exterior1st_BrkComm\n",
      "Adding missing feature Exterior1st_BrkFace\n",
      "Adding missing feature Exterior1st_CBlock\n",
      "Adding missing feature Exterior1st_ImStucc\n",
      "Adding missing feature Exterior1st_Stone\n",
      "Adding missing feature Exterior1st_Stucco\n",
      "Adding missing feature Exterior1st_WdShing\n",
      "Adding missing feature Exterior2nd_AsbShng\n",
      "Adding missing feature Exterior2nd_AsphShn\n",
      "Adding missing feature Exterior2nd_Brk Cmn\n",
      "Adding missing feature Exterior2nd_BrkFace\n",
      "Adding missing feature Exterior2nd_CBlock\n",
      "Adding missing feature Exterior2nd_ImStucc\n",
      "Adding missing feature Exterior2nd_Other\n",
      "Adding missing feature Exterior2nd_Stone\n",
      "Adding missing feature Exterior2nd_Stucco\n",
      "Adding missing feature Exterior2nd_Wd Shng\n",
      "Adding missing feature Fence_MnWw\n",
      "Adding missing feature FireplaceQu_Fa\n",
      "Adding missing feature FireplaceQu_Po\n",
      "Adding missing feature Foundation_Slab\n",
      "Adding missing feature Foundation_Wood\n",
      "Adding missing feature Functional_Maj1\n",
      "Adding missing feature Functional_Maj2\n",
      "Adding missing feature Functional_Mod\n",
      "Adding missing feature Functional_Sev\n",
      "Adding missing feature GarageCond_Ex\n",
      "Adding missing feature GarageCond_Fa\n",
      "Adding missing feature GarageCond_Gd\n"
     ]
    },
    {
     "name": "stderr",
     "output_type": "stream",
     "text": [
      "C:\\Users\\SaiLam\\AppData\\Local\\Temp/ipykernel_6920/915363927.py:5: PerformanceWarning: DataFrame is highly fragmented.  This is usually the result of calling `frame.insert` many times, which has poor performance.  Consider joining all columns at once using pd.concat(axis=1) instead. To get a de-fragmented frame, use `newframe = frame.copy()`\n",
      "  predictDataCat[col] = 0\n",
      "C:\\Users\\SaiLam\\AppData\\Local\\Temp/ipykernel_6920/915363927.py:5: PerformanceWarning: DataFrame is highly fragmented.  This is usually the result of calling `frame.insert` many times, which has poor performance.  Consider joining all columns at once using pd.concat(axis=1) instead. To get a de-fragmented frame, use `newframe = frame.copy()`\n",
      "  predictDataCat[col] = 0\n",
      "C:\\Users\\SaiLam\\AppData\\Local\\Temp/ipykernel_6920/915363927.py:5: PerformanceWarning: DataFrame is highly fragmented.  This is usually the result of calling `frame.insert` many times, which has poor performance.  Consider joining all columns at once using pd.concat(axis=1) instead. To get a de-fragmented frame, use `newframe = frame.copy()`\n",
      "  predictDataCat[col] = 0\n",
      "C:\\Users\\SaiLam\\AppData\\Local\\Temp/ipykernel_6920/915363927.py:5: PerformanceWarning: DataFrame is highly fragmented.  This is usually the result of calling `frame.insert` many times, which has poor performance.  Consider joining all columns at once using pd.concat(axis=1) instead. To get a de-fragmented frame, use `newframe = frame.copy()`\n",
      "  predictDataCat[col] = 0\n",
      "C:\\Users\\SaiLam\\AppData\\Local\\Temp/ipykernel_6920/915363927.py:5: PerformanceWarning: DataFrame is highly fragmented.  This is usually the result of calling `frame.insert` many times, which has poor performance.  Consider joining all columns at once using pd.concat(axis=1) instead. To get a de-fragmented frame, use `newframe = frame.copy()`\n",
      "  predictDataCat[col] = 0\n"
     ]
    },
    {
     "name": "stdout",
     "output_type": "stream",
     "text": [
      "Adding missing feature GarageQual_Ex\n",
      "Adding missing feature GarageQual_Gd\n",
      "Adding missing feature GarageQual_Po\n",
      "Adding missing feature GarageType_2Types\n",
      "Adding missing feature GarageType_BuiltIn\n"
     ]
    },
    {
     "name": "stderr",
     "output_type": "stream",
     "text": [
      "C:\\Users\\SaiLam\\AppData\\Local\\Temp/ipykernel_6920/915363927.py:5: PerformanceWarning: DataFrame is highly fragmented.  This is usually the result of calling `frame.insert` many times, which has poor performance.  Consider joining all columns at once using pd.concat(axis=1) instead. To get a de-fragmented frame, use `newframe = frame.copy()`\n",
      "  predictDataCat[col] = 0\n",
      "C:\\Users\\SaiLam\\AppData\\Local\\Temp/ipykernel_6920/915363927.py:5: PerformanceWarning: DataFrame is highly fragmented.  This is usually the result of calling `frame.insert` many times, which has poor performance.  Consider joining all columns at once using pd.concat(axis=1) instead. To get a de-fragmented frame, use `newframe = frame.copy()`\n",
      "  predictDataCat[col] = 0\n",
      "C:\\Users\\SaiLam\\AppData\\Local\\Temp/ipykernel_6920/915363927.py:5: PerformanceWarning: DataFrame is highly fragmented.  This is usually the result of calling `frame.insert` many times, which has poor performance.  Consider joining all columns at once using pd.concat(axis=1) instead. To get a de-fragmented frame, use `newframe = frame.copy()`\n",
      "  predictDataCat[col] = 0\n",
      "C:\\Users\\SaiLam\\AppData\\Local\\Temp/ipykernel_6920/915363927.py:5: PerformanceWarning: DataFrame is highly fragmented.  This is usually the result of calling `frame.insert` many times, which has poor performance.  Consider joining all columns at once using pd.concat(axis=1) instead. To get a de-fragmented frame, use `newframe = frame.copy()`\n",
      "  predictDataCat[col] = 0\n",
      "C:\\Users\\SaiLam\\AppData\\Local\\Temp/ipykernel_6920/915363927.py:5: PerformanceWarning: DataFrame is highly fragmented.  This is usually the result of calling `frame.insert` many times, which has poor performance.  Consider joining all columns at once using pd.concat(axis=1) instead. To get a de-fragmented frame, use `newframe = frame.copy()`\n",
      "  predictDataCat[col] = 0\n"
     ]
    },
    {
     "name": "stdout",
     "output_type": "stream",
     "text": [
      "Adding missing feature GarageType_CarPort\n",
      "Adding missing feature Heating_Floor\n",
      "Adding missing feature Heating_GasW\n",
      "Adding missing feature Heating_OthW\n",
      "Adding missing feature Heating_Wall\n"
     ]
    },
    {
     "name": "stderr",
     "output_type": "stream",
     "text": [
      "C:\\Users\\SaiLam\\AppData\\Local\\Temp/ipykernel_6920/915363927.py:5: PerformanceWarning: DataFrame is highly fragmented.  This is usually the result of calling `frame.insert` many times, which has poor performance.  Consider joining all columns at once using pd.concat(axis=1) instead. To get a de-fragmented frame, use `newframe = frame.copy()`\n",
      "  predictDataCat[col] = 0\n",
      "C:\\Users\\SaiLam\\AppData\\Local\\Temp/ipykernel_6920/915363927.py:5: PerformanceWarning: DataFrame is highly fragmented.  This is usually the result of calling `frame.insert` many times, which has poor performance.  Consider joining all columns at once using pd.concat(axis=1) instead. To get a de-fragmented frame, use `newframe = frame.copy()`\n",
      "  predictDataCat[col] = 0\n",
      "C:\\Users\\SaiLam\\AppData\\Local\\Temp/ipykernel_6920/915363927.py:5: PerformanceWarning: DataFrame is highly fragmented.  This is usually the result of calling `frame.insert` many times, which has poor performance.  Consider joining all columns at once using pd.concat(axis=1) instead. To get a de-fragmented frame, use `newframe = frame.copy()`\n",
      "  predictDataCat[col] = 0\n",
      "C:\\Users\\SaiLam\\AppData\\Local\\Temp/ipykernel_6920/915363927.py:5: PerformanceWarning: DataFrame is highly fragmented.  This is usually the result of calling `frame.insert` many times, which has poor performance.  Consider joining all columns at once using pd.concat(axis=1) instead. To get a de-fragmented frame, use `newframe = frame.copy()`\n",
      "  predictDataCat[col] = 0\n",
      "C:\\Users\\SaiLam\\AppData\\Local\\Temp/ipykernel_6920/915363927.py:5: PerformanceWarning: DataFrame is highly fragmented.  This is usually the result of calling `frame.insert` many times, which has poor performance.  Consider joining all columns at once using pd.concat(axis=1) instead. To get a de-fragmented frame, use `newframe = frame.copy()`\n",
      "  predictDataCat[col] = 0\n"
     ]
    },
    {
     "name": "stdout",
     "output_type": "stream",
     "text": [
      "Adding missing feature HeatingQC_Po\n",
      "Adding missing feature HouseStyle_1.5Fin\n",
      "Adding missing feature HouseStyle_2.5Unf\n",
      "Adding missing feature LandContour_HLS\n",
      "Adding missing feature LandContour_Low\n"
     ]
    },
    {
     "name": "stderr",
     "output_type": "stream",
     "text": [
      "C:\\Users\\SaiLam\\AppData\\Local\\Temp/ipykernel_6920/915363927.py:5: PerformanceWarning: DataFrame is highly fragmented.  This is usually the result of calling `frame.insert` many times, which has poor performance.  Consider joining all columns at once using pd.concat(axis=1) instead. To get a de-fragmented frame, use `newframe = frame.copy()`\n",
      "  predictDataCat[col] = 0\n",
      "C:\\Users\\SaiLam\\AppData\\Local\\Temp/ipykernel_6920/915363927.py:5: PerformanceWarning: DataFrame is highly fragmented.  This is usually the result of calling `frame.insert` many times, which has poor performance.  Consider joining all columns at once using pd.concat(axis=1) instead. To get a de-fragmented frame, use `newframe = frame.copy()`\n",
      "  predictDataCat[col] = 0\n",
      "C:\\Users\\SaiLam\\AppData\\Local\\Temp/ipykernel_6920/915363927.py:5: PerformanceWarning: DataFrame is highly fragmented.  This is usually the result of calling `frame.insert` many times, which has poor performance.  Consider joining all columns at once using pd.concat(axis=1) instead. To get a de-fragmented frame, use `newframe = frame.copy()`\n",
      "  predictDataCat[col] = 0\n",
      "C:\\Users\\SaiLam\\AppData\\Local\\Temp/ipykernel_6920/915363927.py:5: PerformanceWarning: DataFrame is highly fragmented.  This is usually the result of calling `frame.insert` many times, which has poor performance.  Consider joining all columns at once using pd.concat(axis=1) instead. To get a de-fragmented frame, use `newframe = frame.copy()`\n",
      "  predictDataCat[col] = 0\n"
     ]
    },
    {
     "name": "stdout",
     "output_type": "stream",
     "text": [
      "Adding missing feature LandSlope_Sev\n",
      "Adding missing feature LotConfig_Corner\n",
      "Adding missing feature LotConfig_FR3\n",
      "Adding missing feature LotShape_IR2\n"
     ]
    },
    {
     "name": "stderr",
     "output_type": "stream",
     "text": [
      "C:\\Users\\SaiLam\\AppData\\Local\\Temp/ipykernel_6920/915363927.py:5: PerformanceWarning: DataFrame is highly fragmented.  This is usually the result of calling `frame.insert` many times, which has poor performance.  Consider joining all columns at once using pd.concat(axis=1) instead. To get a de-fragmented frame, use `newframe = frame.copy()`\n",
      "  predictDataCat[col] = 0\n",
      "C:\\Users\\SaiLam\\AppData\\Local\\Temp/ipykernel_6920/915363927.py:5: PerformanceWarning: DataFrame is highly fragmented.  This is usually the result of calling `frame.insert` many times, which has poor performance.  Consider joining all columns at once using pd.concat(axis=1) instead. To get a de-fragmented frame, use `newframe = frame.copy()`\n",
      "  predictDataCat[col] = 0\n",
      "C:\\Users\\SaiLam\\AppData\\Local\\Temp/ipykernel_6920/915363927.py:5: PerformanceWarning: DataFrame is highly fragmented.  This is usually the result of calling `frame.insert` many times, which has poor performance.  Consider joining all columns at once using pd.concat(axis=1) instead. To get a de-fragmented frame, use `newframe = frame.copy()`\n",
      "  predictDataCat[col] = 0\n",
      "C:\\Users\\SaiLam\\AppData\\Local\\Temp/ipykernel_6920/915363927.py:5: PerformanceWarning: DataFrame is highly fragmented.  This is usually the result of calling `frame.insert` many times, which has poor performance.  Consider joining all columns at once using pd.concat(axis=1) instead. To get a de-fragmented frame, use `newframe = frame.copy()`\n",
      "  predictDataCat[col] = 0\n",
      "C:\\Users\\SaiLam\\AppData\\Local\\Temp/ipykernel_6920/915363927.py:5: PerformanceWarning: DataFrame is highly fragmented.  This is usually the result of calling `frame.insert` many times, which has poor performance.  Consider joining all columns at once using pd.concat(axis=1) instead. To get a de-fragmented frame, use `newframe = frame.copy()`\n",
      "  predictDataCat[col] = 0\n"
     ]
    },
    {
     "name": "stdout",
     "output_type": "stream",
     "text": [
      "Adding missing feature LotShape_IR3\n",
      "Adding missing feature MSZoning_C (all)\n",
      "Adding missing feature MSZoning_RH\n",
      "Adding missing feature MasVnrType_BrkCmn\n",
      "Adding missing feature MiscFeature_Gar2\n"
     ]
    },
    {
     "name": "stderr",
     "output_type": "stream",
     "text": [
      "C:\\Users\\SaiLam\\AppData\\Local\\Temp/ipykernel_6920/915363927.py:5: PerformanceWarning: DataFrame is highly fragmented.  This is usually the result of calling `frame.insert` many times, which has poor performance.  Consider joining all columns at once using pd.concat(axis=1) instead. To get a de-fragmented frame, use `newframe = frame.copy()`\n",
      "  predictDataCat[col] = 0\n",
      "C:\\Users\\SaiLam\\AppData\\Local\\Temp/ipykernel_6920/915363927.py:5: PerformanceWarning: DataFrame is highly fragmented.  This is usually the result of calling `frame.insert` many times, which has poor performance.  Consider joining all columns at once using pd.concat(axis=1) instead. To get a de-fragmented frame, use `newframe = frame.copy()`\n",
      "  predictDataCat[col] = 0\n",
      "C:\\Users\\SaiLam\\AppData\\Local\\Temp/ipykernel_6920/915363927.py:5: PerformanceWarning: DataFrame is highly fragmented.  This is usually the result of calling `frame.insert` many times, which has poor performance.  Consider joining all columns at once using pd.concat(axis=1) instead. To get a de-fragmented frame, use `newframe = frame.copy()`\n",
      "  predictDataCat[col] = 0\n",
      "C:\\Users\\SaiLam\\AppData\\Local\\Temp/ipykernel_6920/915363927.py:5: PerformanceWarning: DataFrame is highly fragmented.  This is usually the result of calling `frame.insert` many times, which has poor performance.  Consider joining all columns at once using pd.concat(axis=1) instead. To get a de-fragmented frame, use `newframe = frame.copy()`\n",
      "  predictDataCat[col] = 0\n",
      "C:\\Users\\SaiLam\\AppData\\Local\\Temp/ipykernel_6920/915363927.py:5: PerformanceWarning: DataFrame is highly fragmented.  This is usually the result of calling `frame.insert` many times, which has poor performance.  Consider joining all columns at once using pd.concat(axis=1) instead. To get a de-fragmented frame, use `newframe = frame.copy()`\n",
      "  predictDataCat[col] = 0\n"
     ]
    },
    {
     "name": "stdout",
     "output_type": "stream",
     "text": [
      "Adding missing feature MiscFeature_Othr\n",
      "Adding missing feature MiscFeature_TenC\n",
      "Adding missing feature Neighborhood_Blmngtn\n",
      "Adding missing feature Neighborhood_Blueste\n",
      "Adding missing feature Neighborhood_BrDale\n"
     ]
    },
    {
     "name": "stderr",
     "output_type": "stream",
     "text": [
      "C:\\Users\\SaiLam\\AppData\\Local\\Temp/ipykernel_6920/915363927.py:5: PerformanceWarning: DataFrame is highly fragmented.  This is usually the result of calling `frame.insert` many times, which has poor performance.  Consider joining all columns at once using pd.concat(axis=1) instead. To get a de-fragmented frame, use `newframe = frame.copy()`\n",
      "  predictDataCat[col] = 0\n",
      "C:\\Users\\SaiLam\\AppData\\Local\\Temp/ipykernel_6920/915363927.py:5: PerformanceWarning: DataFrame is highly fragmented.  This is usually the result of calling `frame.insert` many times, which has poor performance.  Consider joining all columns at once using pd.concat(axis=1) instead. To get a de-fragmented frame, use `newframe = frame.copy()`\n",
      "  predictDataCat[col] = 0\n",
      "C:\\Users\\SaiLam\\AppData\\Local\\Temp/ipykernel_6920/915363927.py:5: PerformanceWarning: DataFrame is highly fragmented.  This is usually the result of calling `frame.insert` many times, which has poor performance.  Consider joining all columns at once using pd.concat(axis=1) instead. To get a de-fragmented frame, use `newframe = frame.copy()`\n",
      "  predictDataCat[col] = 0\n",
      "C:\\Users\\SaiLam\\AppData\\Local\\Temp/ipykernel_6920/915363927.py:5: PerformanceWarning: DataFrame is highly fragmented.  This is usually the result of calling `frame.insert` many times, which has poor performance.  Consider joining all columns at once using pd.concat(axis=1) instead. To get a de-fragmented frame, use `newframe = frame.copy()`\n",
      "  predictDataCat[col] = 0\n",
      "C:\\Users\\SaiLam\\AppData\\Local\\Temp/ipykernel_6920/915363927.py:5: PerformanceWarning: DataFrame is highly fragmented.  This is usually the result of calling `frame.insert` many times, which has poor performance.  Consider joining all columns at once using pd.concat(axis=1) instead. To get a de-fragmented frame, use `newframe = frame.copy()`\n",
      "  predictDataCat[col] = 0\n"
     ]
    },
    {
     "name": "stdout",
     "output_type": "stream",
     "text": [
      "Adding missing feature Neighborhood_ClearCr\n",
      "Adding missing feature Neighborhood_IDOTRR\n",
      "Adding missing feature Neighborhood_MeadowV\n",
      "Adding missing feature Neighborhood_NPkVill\n",
      "Adding missing feature Neighborhood_NoRidge\n"
     ]
    },
    {
     "name": "stderr",
     "output_type": "stream",
     "text": [
      "C:\\Users\\SaiLam\\AppData\\Local\\Temp/ipykernel_6920/915363927.py:5: PerformanceWarning: DataFrame is highly fragmented.  This is usually the result of calling `frame.insert` many times, which has poor performance.  Consider joining all columns at once using pd.concat(axis=1) instead. To get a de-fragmented frame, use `newframe = frame.copy()`\n",
      "  predictDataCat[col] = 0\n",
      "C:\\Users\\SaiLam\\AppData\\Local\\Temp/ipykernel_6920/915363927.py:5: PerformanceWarning: DataFrame is highly fragmented.  This is usually the result of calling `frame.insert` many times, which has poor performance.  Consider joining all columns at once using pd.concat(axis=1) instead. To get a de-fragmented frame, use `newframe = frame.copy()`\n",
      "  predictDataCat[col] = 0\n",
      "C:\\Users\\SaiLam\\AppData\\Local\\Temp/ipykernel_6920/915363927.py:5: PerformanceWarning: DataFrame is highly fragmented.  This is usually the result of calling `frame.insert` many times, which has poor performance.  Consider joining all columns at once using pd.concat(axis=1) instead. To get a de-fragmented frame, use `newframe = frame.copy()`\n",
      "  predictDataCat[col] = 0\n",
      "C:\\Users\\SaiLam\\AppData\\Local\\Temp/ipykernel_6920/915363927.py:5: PerformanceWarning: DataFrame is highly fragmented.  This is usually the result of calling `frame.insert` many times, which has poor performance.  Consider joining all columns at once using pd.concat(axis=1) instead. To get a de-fragmented frame, use `newframe = frame.copy()`\n",
      "  predictDataCat[col] = 0\n",
      "C:\\Users\\SaiLam\\AppData\\Local\\Temp/ipykernel_6920/915363927.py:5: PerformanceWarning: DataFrame is highly fragmented.  This is usually the result of calling `frame.insert` many times, which has poor performance.  Consider joining all columns at once using pd.concat(axis=1) instead. To get a de-fragmented frame, use `newframe = frame.copy()`\n",
      "  predictDataCat[col] = 0\n"
     ]
    },
    {
     "name": "stdout",
     "output_type": "stream",
     "text": [
      "Adding missing feature Neighborhood_SWISU\n",
      "Adding missing feature Neighborhood_SawyerW\n",
      "Adding missing feature Neighborhood_StoneBr\n",
      "Adding missing feature Neighborhood_Timber\n",
      "Adding missing feature Neighborhood_Veenker\n"
     ]
    },
    {
     "name": "stderr",
     "output_type": "stream",
     "text": [
      "C:\\Users\\SaiLam\\AppData\\Local\\Temp/ipykernel_6920/915363927.py:5: PerformanceWarning: DataFrame is highly fragmented.  This is usually the result of calling `frame.insert` many times, which has poor performance.  Consider joining all columns at once using pd.concat(axis=1) instead. To get a de-fragmented frame, use `newframe = frame.copy()`\n",
      "  predictDataCat[col] = 0\n",
      "C:\\Users\\SaiLam\\AppData\\Local\\Temp/ipykernel_6920/915363927.py:5: PerformanceWarning: DataFrame is highly fragmented.  This is usually the result of calling `frame.insert` many times, which has poor performance.  Consider joining all columns at once using pd.concat(axis=1) instead. To get a de-fragmented frame, use `newframe = frame.copy()`\n",
      "  predictDataCat[col] = 0\n",
      "C:\\Users\\SaiLam\\AppData\\Local\\Temp/ipykernel_6920/915363927.py:5: PerformanceWarning: DataFrame is highly fragmented.  This is usually the result of calling `frame.insert` many times, which has poor performance.  Consider joining all columns at once using pd.concat(axis=1) instead. To get a de-fragmented frame, use `newframe = frame.copy()`\n",
      "  predictDataCat[col] = 0\n",
      "C:\\Users\\SaiLam\\AppData\\Local\\Temp/ipykernel_6920/915363927.py:5: PerformanceWarning: DataFrame is highly fragmented.  This is usually the result of calling `frame.insert` many times, which has poor performance.  Consider joining all columns at once using pd.concat(axis=1) instead. To get a de-fragmented frame, use `newframe = frame.copy()`\n",
      "  predictDataCat[col] = 0\n",
      "C:\\Users\\SaiLam\\AppData\\Local\\Temp/ipykernel_6920/915363927.py:5: PerformanceWarning: DataFrame is highly fragmented.  This is usually the result of calling `frame.insert` many times, which has poor performance.  Consider joining all columns at once using pd.concat(axis=1) instead. To get a de-fragmented frame, use `newframe = frame.copy()`\n",
      "  predictDataCat[col] = 0\n"
     ]
    },
    {
     "name": "stdout",
     "output_type": "stream",
     "text": [
      "Adding missing feature PavedDrive_N\n",
      "Adding missing feature PoolQC_Ex\n",
      "Adding missing feature PoolQC_Fa\n",
      "Adding missing feature PoolQC_Gd\n",
      "Adding missing feature RoofMatl_ClyTile\n"
     ]
    },
    {
     "name": "stderr",
     "output_type": "stream",
     "text": [
      "C:\\Users\\SaiLam\\AppData\\Local\\Temp/ipykernel_6920/915363927.py:5: PerformanceWarning: DataFrame is highly fragmented.  This is usually the result of calling `frame.insert` many times, which has poor performance.  Consider joining all columns at once using pd.concat(axis=1) instead. To get a de-fragmented frame, use `newframe = frame.copy()`\n",
      "  predictDataCat[col] = 0\n",
      "C:\\Users\\SaiLam\\AppData\\Local\\Temp/ipykernel_6920/915363927.py:5: PerformanceWarning: DataFrame is highly fragmented.  This is usually the result of calling `frame.insert` many times, which has poor performance.  Consider joining all columns at once using pd.concat(axis=1) instead. To get a de-fragmented frame, use `newframe = frame.copy()`\n",
      "  predictDataCat[col] = 0\n",
      "C:\\Users\\SaiLam\\AppData\\Local\\Temp/ipykernel_6920/915363927.py:5: PerformanceWarning: DataFrame is highly fragmented.  This is usually the result of calling `frame.insert` many times, which has poor performance.  Consider joining all columns at once using pd.concat(axis=1) instead. To get a de-fragmented frame, use `newframe = frame.copy()`\n",
      "  predictDataCat[col] = 0\n",
      "C:\\Users\\SaiLam\\AppData\\Local\\Temp/ipykernel_6920/915363927.py:5: PerformanceWarning: DataFrame is highly fragmented.  This is usually the result of calling `frame.insert` many times, which has poor performance.  Consider joining all columns at once using pd.concat(axis=1) instead. To get a de-fragmented frame, use `newframe = frame.copy()`\n",
      "  predictDataCat[col] = 0\n",
      "C:\\Users\\SaiLam\\AppData\\Local\\Temp/ipykernel_6920/915363927.py:5: PerformanceWarning: DataFrame is highly fragmented.  This is usually the result of calling `frame.insert` many times, which has poor performance.  Consider joining all columns at once using pd.concat(axis=1) instead. To get a de-fragmented frame, use `newframe = frame.copy()`\n",
      "  predictDataCat[col] = 0\n"
     ]
    },
    {
     "name": "stdout",
     "output_type": "stream",
     "text": [
      "Adding missing feature RoofMatl_Membran\n",
      "Adding missing feature RoofMatl_Metal\n",
      "Adding missing feature RoofMatl_Roll\n",
      "Adding missing feature RoofMatl_Tar&Grv\n",
      "Adding missing feature RoofMatl_WdShake\n"
     ]
    },
    {
     "name": "stderr",
     "output_type": "stream",
     "text": [
      "C:\\Users\\SaiLam\\AppData\\Local\\Temp/ipykernel_6920/915363927.py:5: PerformanceWarning: DataFrame is highly fragmented.  This is usually the result of calling `frame.insert` many times, which has poor performance.  Consider joining all columns at once using pd.concat(axis=1) instead. To get a de-fragmented frame, use `newframe = frame.copy()`\n",
      "  predictDataCat[col] = 0\n",
      "C:\\Users\\SaiLam\\AppData\\Local\\Temp/ipykernel_6920/915363927.py:5: PerformanceWarning: DataFrame is highly fragmented.  This is usually the result of calling `frame.insert` many times, which has poor performance.  Consider joining all columns at once using pd.concat(axis=1) instead. To get a de-fragmented frame, use `newframe = frame.copy()`\n",
      "  predictDataCat[col] = 0\n",
      "C:\\Users\\SaiLam\\AppData\\Local\\Temp/ipykernel_6920/915363927.py:5: PerformanceWarning: DataFrame is highly fragmented.  This is usually the result of calling `frame.insert` many times, which has poor performance.  Consider joining all columns at once using pd.concat(axis=1) instead. To get a de-fragmented frame, use `newframe = frame.copy()`\n",
      "  predictDataCat[col] = 0\n",
      "C:\\Users\\SaiLam\\AppData\\Local\\Temp/ipykernel_6920/915363927.py:5: PerformanceWarning: DataFrame is highly fragmented.  This is usually the result of calling `frame.insert` many times, which has poor performance.  Consider joining all columns at once using pd.concat(axis=1) instead. To get a de-fragmented frame, use `newframe = frame.copy()`\n",
      "  predictDataCat[col] = 0\n",
      "C:\\Users\\SaiLam\\AppData\\Local\\Temp/ipykernel_6920/915363927.py:5: PerformanceWarning: DataFrame is highly fragmented.  This is usually the result of calling `frame.insert` many times, which has poor performance.  Consider joining all columns at once using pd.concat(axis=1) instead. To get a de-fragmented frame, use `newframe = frame.copy()`\n",
      "  predictDataCat[col] = 0\n"
     ]
    },
    {
     "name": "stdout",
     "output_type": "stream",
     "text": [
      "Adding missing feature RoofMatl_WdShngl\n",
      "Adding missing feature RoofStyle_Flat\n",
      "Adding missing feature RoofStyle_Gambrel\n",
      "Adding missing feature RoofStyle_Mansard\n",
      "Adding missing feature RoofStyle_Shed\n"
     ]
    },
    {
     "name": "stderr",
     "output_type": "stream",
     "text": [
      "C:\\Users\\SaiLam\\AppData\\Local\\Temp/ipykernel_6920/915363927.py:5: PerformanceWarning: DataFrame is highly fragmented.  This is usually the result of calling `frame.insert` many times, which has poor performance.  Consider joining all columns at once using pd.concat(axis=1) instead. To get a de-fragmented frame, use `newframe = frame.copy()`\n",
      "  predictDataCat[col] = 0\n",
      "C:\\Users\\SaiLam\\AppData\\Local\\Temp/ipykernel_6920/915363927.py:5: PerformanceWarning: DataFrame is highly fragmented.  This is usually the result of calling `frame.insert` many times, which has poor performance.  Consider joining all columns at once using pd.concat(axis=1) instead. To get a de-fragmented frame, use `newframe = frame.copy()`\n",
      "  predictDataCat[col] = 0\n",
      "C:\\Users\\SaiLam\\AppData\\Local\\Temp/ipykernel_6920/915363927.py:5: PerformanceWarning: DataFrame is highly fragmented.  This is usually the result of calling `frame.insert` many times, which has poor performance.  Consider joining all columns at once using pd.concat(axis=1) instead. To get a de-fragmented frame, use `newframe = frame.copy()`\n",
      "  predictDataCat[col] = 0\n",
      "C:\\Users\\SaiLam\\AppData\\Local\\Temp/ipykernel_6920/915363927.py:5: PerformanceWarning: DataFrame is highly fragmented.  This is usually the result of calling `frame.insert` many times, which has poor performance.  Consider joining all columns at once using pd.concat(axis=1) instead. To get a de-fragmented frame, use `newframe = frame.copy()`\n",
      "  predictDataCat[col] = 0\n",
      "C:\\Users\\SaiLam\\AppData\\Local\\Temp/ipykernel_6920/915363927.py:5: PerformanceWarning: DataFrame is highly fragmented.  This is usually the result of calling `frame.insert` many times, which has poor performance.  Consider joining all columns at once using pd.concat(axis=1) instead. To get a de-fragmented frame, use `newframe = frame.copy()`\n",
      "  predictDataCat[col] = 0\n"
     ]
    },
    {
     "name": "stdout",
     "output_type": "stream",
     "text": [
      "Adding missing feature SaleCondition_Abnorml\n",
      "Adding missing feature SaleCondition_AdjLand\n",
      "Adding missing feature SaleCondition_Alloca\n",
      "Adding missing feature SaleCondition_Family\n",
      "Adding missing feature SaleType_COD\n"
     ]
    },
    {
     "name": "stderr",
     "output_type": "stream",
     "text": [
      "C:\\Users\\SaiLam\\AppData\\Local\\Temp/ipykernel_6920/915363927.py:5: PerformanceWarning: DataFrame is highly fragmented.  This is usually the result of calling `frame.insert` many times, which has poor performance.  Consider joining all columns at once using pd.concat(axis=1) instead. To get a de-fragmented frame, use `newframe = frame.copy()`\n",
      "  predictDataCat[col] = 0\n",
      "C:\\Users\\SaiLam\\AppData\\Local\\Temp/ipykernel_6920/915363927.py:5: PerformanceWarning: DataFrame is highly fragmented.  This is usually the result of calling `frame.insert` many times, which has poor performance.  Consider joining all columns at once using pd.concat(axis=1) instead. To get a de-fragmented frame, use `newframe = frame.copy()`\n",
      "  predictDataCat[col] = 0\n",
      "C:\\Users\\SaiLam\\AppData\\Local\\Temp/ipykernel_6920/915363927.py:5: PerformanceWarning: DataFrame is highly fragmented.  This is usually the result of calling `frame.insert` many times, which has poor performance.  Consider joining all columns at once using pd.concat(axis=1) instead. To get a de-fragmented frame, use `newframe = frame.copy()`\n",
      "  predictDataCat[col] = 0\n",
      "C:\\Users\\SaiLam\\AppData\\Local\\Temp/ipykernel_6920/915363927.py:5: PerformanceWarning: DataFrame is highly fragmented.  This is usually the result of calling `frame.insert` many times, which has poor performance.  Consider joining all columns at once using pd.concat(axis=1) instead. To get a de-fragmented frame, use `newframe = frame.copy()`\n",
      "  predictDataCat[col] = 0\n",
      "C:\\Users\\SaiLam\\AppData\\Local\\Temp/ipykernel_6920/915363927.py:5: PerformanceWarning: DataFrame is highly fragmented.  This is usually the result of calling `frame.insert` many times, which has poor performance.  Consider joining all columns at once using pd.concat(axis=1) instead. To get a de-fragmented frame, use `newframe = frame.copy()`\n",
      "  predictDataCat[col] = 0\n"
     ]
    },
    {
     "name": "stdout",
     "output_type": "stream",
     "text": [
      "Adding missing feature SaleType_CWD\n",
      "Adding missing feature SaleType_Con\n",
      "Adding missing feature SaleType_ConLD\n",
      "Adding missing feature SaleType_ConLI\n",
      "Adding missing feature SaleType_ConLw\n",
      "Adding missing feature SaleType_Oth\n",
      "Adding missing feature Street_Grvl\n",
      "Adding missing feature Utilities_NoSeWa\n",
      "(20, 258)\n"
     ]
    },
    {
     "name": "stderr",
     "output_type": "stream",
     "text": [
      "C:\\Users\\SaiLam\\AppData\\Local\\Temp/ipykernel_6920/915363927.py:5: PerformanceWarning: DataFrame is highly fragmented.  This is usually the result of calling `frame.insert` many times, which has poor performance.  Consider joining all columns at once using pd.concat(axis=1) instead. To get a de-fragmented frame, use `newframe = frame.copy()`\n",
      "  predictDataCat[col] = 0\n",
      "C:\\Users\\SaiLam\\AppData\\Local\\Temp/ipykernel_6920/915363927.py:5: PerformanceWarning: DataFrame is highly fragmented.  This is usually the result of calling `frame.insert` many times, which has poor performance.  Consider joining all columns at once using pd.concat(axis=1) instead. To get a de-fragmented frame, use `newframe = frame.copy()`\n",
      "  predictDataCat[col] = 0\n",
      "C:\\Users\\SaiLam\\AppData\\Local\\Temp/ipykernel_6920/915363927.py:5: PerformanceWarning: DataFrame is highly fragmented.  This is usually the result of calling `frame.insert` many times, which has poor performance.  Consider joining all columns at once using pd.concat(axis=1) instead. To get a de-fragmented frame, use `newframe = frame.copy()`\n",
      "  predictDataCat[col] = 0\n",
      "C:\\Users\\SaiLam\\AppData\\Local\\Temp/ipykernel_6920/915363927.py:5: PerformanceWarning: DataFrame is highly fragmented.  This is usually the result of calling `frame.insert` many times, which has poor performance.  Consider joining all columns at once using pd.concat(axis=1) instead. To get a de-fragmented frame, use `newframe = frame.copy()`\n",
      "  predictDataCat[col] = 0\n"
     ]
    }
   ],
   "source": [
    "predictDataCat = pd.get_dummies(predictData.select_dtypes(include=['object']).copy())\n",
    "for col in categorical_data.columns:\n",
    "    if col not in predictDataCat.columns:\n",
    "        print(\"Adding missing feature {}\".format(col))\n",
    "        predictDataCat[col] = 0\n",
    "        \n",
    "print(predictDataCat.shape)"
   ]
  },
  {
   "cell_type": "code",
   "execution_count": 14,
   "metadata": {
    "colab": {
     "base_uri": "https://localhost:8080/",
     "height": 426
    },
    "executionInfo": {
     "elapsed": 3311,
     "status": "ok",
     "timestamp": 1601471535236,
     "user": {
      "displayName": "Shannen Ang",
      "photoUrl": "https://lh3.googleusercontent.com/a-/AOh14Gij4dJOVMwcjFhPJEz7npDxgg-ASHzpFf5XkyU8jQ=s64",
      "userId": "04024065041896518848"
     },
     "user_tz": -480
    },
    "id": "T2VNibHF5WmO",
    "outputId": "45d1ef07-f095-42ad-8db6-2d0de350f1f0"
   },
   "outputs": [
    {
     "name": "stdout",
     "output_type": "stream",
     "text": [
      "    1stFlrSF  2ndFlrSF  3SsnPorch  BedroomAbvGr  BsmtFinSF1  BsmtFinSF2  \\\n",
      "0   2.186679 -0.704939   4.358899     -0.904534    2.304486   -0.430482   \n",
      "1   0.046885 -0.704939  -0.229416     -0.904534    0.445439   -0.430482   \n",
      "2  -0.555701  0.995354  -0.229416      0.603023   -0.274437   -0.003686   \n",
      "3   0.621801  1.151732  -0.229416      0.603023   -1.070089   -0.430482   \n",
      "4  -1.145989 -0.704939  -0.229416     -2.412091    0.690449   -0.430482   \n",
      "5  -0.598743  1.730080  -0.229416      0.603023    0.862209   -0.430482   \n",
      "6  -0.826249 -0.704939  -0.229416     -0.904534   -1.070089   -0.430482   \n",
      "7   0.618726 -0.704939  -0.229416      0.603023   -1.070089   -0.430482   \n",
      "8  -0.946152 -0.704939  -0.229416      0.603023   -0.597749    2.002255   \n",
      "9  -0.100687 -0.704939  -0.229416      0.603023    0.427758   -0.430482   \n",
      "10 -0.002306  1.454558  -0.229416      0.603023    1.655335   -0.430482   \n",
      "11 -1.305859  0.660260  -0.229416     -0.904534   -1.070089   -0.430482   \n",
      "12  1.098335 -0.704939  -0.229416      0.603023   -1.070089   -0.430482   \n",
      "13 -0.457319 -0.704939  -0.229416     -0.904534    0.311567   -0.430482   \n",
      "14  0.000769 -0.704939  -0.229416     -0.904534   -0.034478   -0.430482   \n",
      "15 -0.823175  1.017694  -0.229416      0.603023   -1.070089   -0.430482   \n",
      "16  2.620172 -0.704939  -0.229416      0.603023    0.925356    0.201952   \n",
      "17 -0.100687  2.154533  -0.229416      2.110579   -0.375472   -0.430482   \n",
      "18 -0.438873 -0.704939  -0.229416     -0.904534   -0.946321    3.562000   \n",
      "19  0.108373 -0.704939  -0.229416      0.603023    1.026391    0.694707   \n",
      "\n",
      "    BsmtFullBath  BsmtHalfBath  BsmtUnfSF  EnclosedPorch  ...  OverallCond  \\\n",
      "0       0.904534           0.0   0.144276      -0.475514  ...    -0.800499   \n",
      "1       0.904534           0.0  -0.487072       1.560563  ...     1.083028   \n",
      "2      -1.105542           0.0  -0.927237       2.307984  ...     0.141264   \n",
      "3      -1.105542           0.0   0.126492      -0.475514  ...     1.083028   \n",
      "4       0.904534           0.0  -0.844984      -0.475514  ...    -0.800499   \n",
      "5       0.904534           0.0  -0.620455      -0.475514  ...    -0.800499   \n",
      "6      -1.105542           0.0   0.935685      -0.475514  ...     0.141264   \n",
      "7      -1.105542           0.0   1.980521      -0.475514  ...    -0.800499   \n",
      "8       0.904534           0.0  -1.180665       2.771900  ...    -0.800499   \n",
      "9      -1.105542           0.0   0.142053      -0.475514  ...     1.083028   \n",
      "10      0.904534           0.0  -0.867214      -0.475514  ...    -0.800499   \n",
      "11     -1.105542           0.0   0.064246      -0.475514  ...     1.083028   \n",
      "12     -1.105542           0.0   2.316203      -0.475514  ...    -0.800499   \n",
      "13      0.904534           0.0  -1.180665      -0.475514  ...    -0.800499   \n",
      "14      0.904534           0.0   0.622234      -0.475514  ...    -0.800499   \n",
      "15     -1.105542           0.0   0.937908      -0.475514  ...    -0.800499   \n",
      "16      0.904534           0.0   0.128715      -0.475514  ...     0.141264   \n",
      "17     -1.105542           0.0   0.768955      -0.475514  ...     2.966554   \n",
      "18      0.904534           0.0  -1.180665       0.967781  ...     0.141264   \n",
      "19      0.904534           0.0  -0.878330      -0.475514  ...     0.141264   \n",
      "\n",
      "    OverallQual  PoolArea  ScreenPorch  TotRmsAbvGrd  TotalBsmtSF  WoodDeckSF  \\\n",
      "0      1.179536       0.0    -0.229416      0.218870     2.374940   -0.718963   \n",
      "1     -0.294884       0.0    -0.229416     -0.328305    -0.421365   -0.718963   \n",
      "2      0.442326       0.0    -0.229416     -0.328305    -1.443935   -0.718963   \n",
      "3     -0.294884       0.0    -0.229416      2.407573    -1.309603    1.478718   \n",
      "4     -0.294884       0.0    -0.229416     -1.969832    -0.596819    0.040792   \n",
      "5      2.653955       0.0    -0.229416      1.860397    -0.133510    0.137674   \n",
      "6     -0.294884       0.0     4.358899     -1.422657    -0.311706   -0.718963   \n",
      "7      0.442326       0.0    -0.229416      0.218870     0.976788    0.260050   \n",
      "8     -0.294884       0.0    -0.229416     -0.328305    -0.690029   -0.718963   \n",
      "9     -1.032094       0.0    -0.229416     -0.328305     0.335282    0.611883   \n",
      "10     1.179536       0.0    -0.229416      0.766046     0.423010   -0.718963   \n",
      "11    -1.769303       0.0    -0.229416     -0.328305    -1.386364    0.137674   \n",
      "12     1.179536       0.0    -0.229416      0.218870     1.390751   -0.718963   \n",
      "13    -1.032094       0.0    -0.229416     -0.875481    -1.422003   -0.718963   \n",
      "14     0.442326       0.0    -0.229416     -0.328305     0.425751   -0.718963   \n",
      "15    -0.294884       0.0    -0.229416      0.218870    -0.308964   -0.718963   \n",
      "16    -0.294884       0.0    -0.229416      0.218870     1.305765    1.060598   \n",
      "17     0.442326       0.0    -0.229416      1.313222     0.236589   -0.718963   \n",
      "18    -1.032094       0.0    -0.229416     -0.875481     0.033720    1.147281   \n",
      "19    -1.032094       0.0    -0.229416     -0.328305     0.521703    3.033922   \n",
      "\n",
      "    YearBuilt  YearRemodAdd    YrSold  \n",
      "0    1.056742      0.916534 -0.236433  \n",
      "1   -0.530705      0.226979  1.339788  \n",
      "2    0.154076     -0.749892 -1.024544  \n",
      "3   -1.620130      0.112053 -0.236433  \n",
      "4    0.932236      0.686682 -0.236433  \n",
      "5    1.056742      0.916534  0.551677  \n",
      "6   -1.806888     -2.416318  0.551677  \n",
      "7    0.932236      0.686682 -1.024544  \n",
      "8   -0.250568     -1.496910 -1.024544  \n",
      "9   -0.375073     -1.726762  1.339788  \n",
      "10   0.652098      0.226979 -1.024544  \n",
      "11  -1.993647      0.456831 -1.024544  \n",
      "12   1.056742      0.973997  0.551677  \n",
      "13   0.963363      0.744145 -1.812654  \n",
      "14   0.932236      0.744145  0.551677  \n",
      "15   0.776604      0.456831 -1.024544  \n",
      "16   0.122949     -0.232725  1.339788  \n",
      "17  -1.028728      0.801608  1.339788  \n",
      "18  -0.748590      0.226979  1.339788  \n",
      "19  -0.281694     -1.554373 -0.236433  \n",
      "\n",
      "[20 rows x 36 columns]\n"
     ]
    }
   ],
   "source": [
    "# Standard Scale numerial feature data\n",
    "numericData = predictData.select_dtypes(include=['float64', 'int64']).copy()\n",
    "data_tmp = numericData.values # Returns a numpy array\n",
    "std_scaler = StandardScaler()\n",
    "data_tmp = std_scaler.fit_transform(data_tmp)\n",
    "numericData = pd.DataFrame(data_tmp, columns=numericData.columns)\n",
    "print(numericData)"
   ]
  },
  {
   "cell_type": "code",
   "execution_count": 15,
   "metadata": {
    "colab": {
     "base_uri": "https://localhost:8080/",
     "height": 35
    },
    "executionInfo": {
     "elapsed": 3307,
     "status": "ok",
     "timestamp": 1601471535236,
     "user": {
      "displayName": "Shannen Ang",
      "photoUrl": "https://lh3.googleusercontent.com/a-/AOh14Gij4dJOVMwcjFhPJEz7npDxgg-ASHzpFf5XkyU8jQ=s64",
      "userId": "04024065041896518848"
     },
     "user_tz": -480
    },
    "id": "_kTEG9Ay5cN4",
    "outputId": "68fd5b94-a8eb-4b04-d772-a602251205df"
   },
   "outputs": [
    {
     "name": "stdout",
     "output_type": "stream",
     "text": [
      "Predict data final shape: (20, 294)\n"
     ]
    }
   ],
   "source": [
    "predictDataFinal = pd.concat([numericData, predictDataCat], axis=1)\n",
    "print('Predict data final shape: {}'.format(predictDataFinal.shape))"
   ]
  },
  {
   "cell_type": "code",
   "execution_count": 16,
   "metadata": {
    "colab": {
     "base_uri": "https://localhost:8080/",
     "height": 410
    },
    "executionInfo": {
     "elapsed": 3303,
     "status": "ok",
     "timestamp": 1601471535237,
     "user": {
      "displayName": "Shannen Ang",
      "photoUrl": "https://lh3.googleusercontent.com/a-/AOh14Gij4dJOVMwcjFhPJEz7npDxgg-ASHzpFf5XkyU8jQ=s64",
      "userId": "04024065041896518848"
     },
     "user_tz": -480
    },
    "id": "iAh8zyZMzbGU",
    "outputId": "f3c6202d-b33c-4d12-c7ac-169e6f994d1e"
   },
   "outputs": [
    {
     "name": "stdout",
     "output_type": "stream",
     "text": [
      "[[333468.7 ]\n",
      " [121565.99]\n",
      " [196022.1 ]\n",
      " [183676.4 ]\n",
      " [182965.8 ]\n",
      " [363873.84]\n",
      " [117150.06]\n",
      " [169212.64]\n",
      " [119217.37]\n",
      " [113169.07]\n",
      " [310519.88]\n",
      " [134863.31]\n",
      " [220080.1 ]\n",
      " [155298.9 ]\n",
      " [202648.6 ]\n",
      " [190995.36]\n",
      " [243974.9 ]\n",
      " [319807.3 ]\n",
      " [138604.69]\n",
      " [152974.2 ]]\n"
     ]
    }
   ],
   "source": [
    "result = network.predict(predictDataFinal)\n",
    "result = y_scaler.inverse_transform(result)\n",
    "print(result)"
   ]
  }
 ],
 "metadata": {
  "colab": {
   "collapsed_sections": [],
   "name": "TIPP-DL-LU03 Lab v2.ipynb",
   "provenance": [],
   "toc_visible": true
  },
  "kernelspec": {
   "display_name": "Python 3 (ipykernel)",
   "language": "python",
   "name": "python3"
  },
  "language_info": {
   "codemirror_mode": {
    "name": "ipython",
    "version": 3
   },
   "file_extension": ".py",
   "mimetype": "text/x-python",
   "name": "python",
   "nbconvert_exporter": "python",
   "pygments_lexer": "ipython3",
   "version": "3.8.12"
  }
 },
 "nbformat": 4,
 "nbformat_minor": 1
}
