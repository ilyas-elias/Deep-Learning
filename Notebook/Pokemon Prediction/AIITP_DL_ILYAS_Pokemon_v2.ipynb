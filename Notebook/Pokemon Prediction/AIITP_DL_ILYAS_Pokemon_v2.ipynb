{
 "cells": [
  {
   "cell_type": "code",
   "execution_count": 1,
   "metadata": {},
   "outputs": [],
   "source": [
    "%matplotlib inline\n",
    "import matplotlib.pyplot as plt\n",
    "import tensorflow as tf\n",
    "import pandas as pd\n",
    "import numpy as np \n",
    "from keras.layers import Dense, Dropout, Activation, Flatten, Conv2D, MaxPooling2D, BatchNormalization, Input, Lambda, Dense, Flatten\n",
    "from keras.models import Model\n",
    "from keras.preprocessing.image import ImageDataGenerator"
   ]
  },
  {
   "cell_type": "code",
   "execution_count": 2,
   "metadata": {},
   "outputs": [
    {
     "name": "stdout",
     "output_type": "stream",
     "text": [
      "Tensorflow version: 2.8.0\n",
      "Keras Version: 2.8.0\n",
      "GPU is available\n"
     ]
    }
   ],
   "source": [
    "print(f\"Tensorflow version: {tf.__version__}\")\n",
    "print(f\"Keras Version: {tf.keras.__version__}\")\n",
    "print(\"GPU is\", \"available\" if tf.config.list_physical_devices('GPU') else \"NOT AVAILABLE\")"
   ]
  },
  {
   "cell_type": "code",
   "execution_count": 3,
   "metadata": {},
   "outputs": [
    {
     "name": "stderr",
     "output_type": "stream",
     "text": [
      "C:\\conda_tmp\\ipykernel_25400\\4206482429.py:6: FutureWarning: Passing a negative integer is deprecated in version 1.0 and will not be supported in future version. Instead, use None to not limit the column width.\n",
      "  pd.set_option('display.max_colwidth', -1)\n"
     ]
    }
   ],
   "source": [
    "# Display all the truncated items.\n",
    "\n",
    "pd.set_option('display.max_rows', None)\n",
    "pd.set_option('display.max_columns', None)\n",
    "pd.set_option('display.width', None)\n",
    "pd.set_option('display.max_colwidth', -1)\n",
    "pd.options.display.max_rows"
   ]
  },
  {
   "cell_type": "code",
   "execution_count": 4,
   "metadata": {},
   "outputs": [
    {
     "name": "stderr",
     "output_type": "stream",
     "text": [
      "Copying files: 255 files [00:01, 202.70 files/s]\n"
     ]
    }
   ],
   "source": [
    "# I purposefully placed multi-lined comments quotation to prevent it being running again as it will shuffle and create duplicated of the files in pokemon dataset.\n",
    "\n",
    "'''\n",
    "import splitfolders\n",
    "\n",
    "input_folder='pokemon' #read from original dataset\n",
    "\n",
    "\n",
    "#write to a new output of datasets\n",
    "splitfolders.ratio(input_folder, output=\"pokemon_split\",\n",
    "            seed=42, ratio=(.65, .30, .05), group_prefix=None, move=False) \n",
    "            # Ratio parameters goes by (Train set, Validation Set, Test Set) Here I chose to have high number of Train set and Validation to train the model.\n",
    "            # The test set is not by any means used for model training as we want to have a untouched data for our testing.\n",
    "'''\n"
   ]
  },
  {
   "cell_type": "code",
   "execution_count": 5,
   "metadata": {},
   "outputs": [],
   "source": [
    "train_path = 'pokemon_split\\train'\n",
    "val_path = 'pokemon_split\\val'\n",
    "test_path = 'pokemon_split\\test' "
   ]
  },
  {
   "cell_type": "code",
   "execution_count": 6,
   "metadata": {},
   "outputs": [
    {
     "name": "stdout",
     "output_type": "stream",
     "text": [
      "Found 165 images belonging to 5 classes.\n",
      "Found 70 images belonging to 5 classes.\n",
      "Found 15 images belonging to 5 classes.\n"
     ]
    }
   ],
   "source": [
    "\n",
    "train_imagegen =  ImageDataGenerator(rescale = 1./255, shear_range = 0.2, zoom_range = 0.2,rotation_range=30,width_shift_range=0.2,height_shift_range=0.2, horizontal_flip = True,vertical_flip=True)\n",
    "val_imagegen = ImageDataGenerator(rescale = 1./255)\n",
    "test_imagegen = ImageDataGenerator(rescale = 1./255)\n",
    "\n",
    "\n",
    "\n",
    "train_set = train_imagegen.flow_from_directory('pokemon_split/train',\n",
    "                                                 target_size = (224, 224),\n",
    "                                                 batch_size = 4,\n",
    "                                                 class_mode = 'categorical')\n",
    "\n",
    "\n",
    "val_set = val_imagegen.flow_from_directory('pokemon_split/val',\n",
    "                                                 target_size = (224, 224),\n",
    "                                                 batch_size = 4,\n",
    "                                                 class_mode = 'categorical')\n",
    "\n",
    "test_set = test_imagegen.flow_from_directory('pokemon_split/test',\n",
    "                                            target_size = (224, 224),\n",
    "                                            batch_size = 4,\n",
    "                                            class_mode = 'categorical')                                                 "
   ]
  },
  {
   "cell_type": "markdown",
   "metadata": {},
   "source": [
    "# Transfer Learning"
   ]
  },
  {
   "cell_type": "markdown",
   "metadata": {},
   "source": [
    "# Model 1\n",
    "### Categorical_Crossentropy | Adam"
   ]
  },
  {
   "cell_type": "code",
   "execution_count": 7,
   "metadata": {},
   "outputs": [
    {
     "name": "stdout",
     "output_type": "stream",
     "text": [
      "Model: \"model\"\n",
      "_________________________________________________________________\n",
      " Layer (type)                Output Shape              Param #   \n",
      "=================================================================\n",
      " input_1 (InputLayer)        [(None, 224, 224, 3)]     0         \n",
      "                                                                 \n",
      " block1_conv1 (Conv2D)       (None, 224, 224, 64)      1792      \n",
      "                                                                 \n",
      " block1_conv2 (Conv2D)       (None, 224, 224, 64)      36928     \n",
      "                                                                 \n",
      " block1_pool (MaxPooling2D)  (None, 112, 112, 64)      0         \n",
      "                                                                 \n",
      " block2_conv1 (Conv2D)       (None, 112, 112, 128)     73856     \n",
      "                                                                 \n",
      " block2_conv2 (Conv2D)       (None, 112, 112, 128)     147584    \n",
      "                                                                 \n",
      " block2_pool (MaxPooling2D)  (None, 56, 56, 128)       0         \n",
      "                                                                 \n",
      " block3_conv1 (Conv2D)       (None, 56, 56, 256)       295168    \n",
      "                                                                 \n",
      " block3_conv2 (Conv2D)       (None, 56, 56, 256)       590080    \n",
      "                                                                 \n",
      " block3_conv3 (Conv2D)       (None, 56, 56, 256)       590080    \n",
      "                                                                 \n",
      " block3_pool (MaxPooling2D)  (None, 28, 28, 256)       0         \n",
      "                                                                 \n",
      " block4_conv1 (Conv2D)       (None, 28, 28, 512)       1180160   \n",
      "                                                                 \n",
      " block4_conv2 (Conv2D)       (None, 28, 28, 512)       2359808   \n",
      "                                                                 \n",
      " block4_conv3 (Conv2D)       (None, 28, 28, 512)       2359808   \n",
      "                                                                 \n",
      " block4_pool (MaxPooling2D)  (None, 14, 14, 512)       0         \n",
      "                                                                 \n",
      " block5_conv1 (Conv2D)       (None, 14, 14, 512)       2359808   \n",
      "                                                                 \n",
      " block5_conv2 (Conv2D)       (None, 14, 14, 512)       2359808   \n",
      "                                                                 \n",
      " block5_conv3 (Conv2D)       (None, 14, 14, 512)       2359808   \n",
      "                                                                 \n",
      " block5_pool (MaxPooling2D)  (None, 7, 7, 512)         0         \n",
      "                                                                 \n",
      " flatten (Flatten)           (None, 25088)             0         \n",
      "                                                                 \n",
      " dense (Dense)               (None, 5)                 125445    \n",
      "                                                                 \n",
      "=================================================================\n",
      "Total params: 14,840,133\n",
      "Trainable params: 125,445\n",
      "Non-trainable params: 14,714,688\n",
      "_________________________________________________________________\n"
     ]
    }
   ],
   "source": [
    "# Importing VGG16 from keras with pre-trained weights that is trained on imagenet\n",
    "from keras.applications.vgg16 import VGG16\n",
    "\n",
    "# Define all image dimensions in the database.\n",
    "img_height, img_width = 224,224\n",
    "\n",
    "# I had set include_top = False as I do not want to use the final layer from the VGG16 pretrained model.\n",
    "conv_base = VGG16(weights='imagenet', include_top=False, input_shape = (img_width, img_height, 3))\n",
    "\n",
    "# Freeze pretrained-models to use as our base model. \n",
    "for layer in conv_base.layers:\n",
    "  layer.trainable = False\n",
    "\n",
    "# Output obtained on vgg16 is now flattened. \n",
    "x = Flatten()(conv_base.output) \n",
    "\n",
    "# Dense unit is set to 5 as there are 5 classes.\n",
    "prediction = Dense(5, activation='softmax')(x) \n",
    "\n",
    "# Creating own layers in addition to VGG16 as the base layers.\n",
    "model = Model(inputs=conv_base.input, outputs=prediction)\n",
    "\n",
    "model.summary()"
   ]
  },
  {
   "cell_type": "code",
   "execution_count": 8,
   "metadata": {},
   "outputs": [
    {
     "name": "stdout",
     "output_type": "stream",
     "text": [
      "Layer 0: input_1 (False)\n",
      "Layer 1: block1_conv1 (False)\n",
      "Layer 2: block1_conv2 (False)\n",
      "Layer 3: block1_pool (False)\n",
      "Layer 4: block2_conv1 (False)\n",
      "Layer 5: block2_conv2 (False)\n",
      "Layer 6: block2_pool (False)\n",
      "Layer 7: block3_conv1 (False)\n",
      "Layer 8: block3_conv2 (False)\n",
      "Layer 9: block3_conv3 (False)\n",
      "Layer 10: block3_pool (False)\n",
      "Layer 11: block4_conv1 (False)\n",
      "Layer 12: block4_conv2 (False)\n",
      "Layer 13: block4_conv3 (False)\n",
      "Layer 14: block4_pool (False)\n",
      "Layer 15: block5_conv1 (False)\n",
      "Layer 16: block5_conv2 (False)\n",
      "Layer 17: block5_conv3 (False)\n",
      "Layer 18: block5_pool (False)\n"
     ]
    }
   ],
   "source": [
    "for i, layer in enumerate(conv_base.layers):\n",
    "    print('Layer {}: {} ({})'.format(i, layer.name, layer.trainable))"
   ]
  },
  {
   "cell_type": "code",
   "execution_count": 9,
   "metadata": {},
   "outputs": [
    {
     "name": "stdout",
     "output_type": "stream",
     "text": [
      "Epoch 1/20\n",
      "12/42 [=======>......................] - ETA: 3s - loss: 2.6123 - accuracy: 0.3125"
     ]
    },
    {
     "name": "stderr",
     "output_type": "stream",
     "text": [
      "C:\\ProgramData\\Anaconda3\\envs\\AIITP_Python08\\lib\\site-packages\\PIL\\Image.py:992: UserWarning: Palette images with Transparency expressed in bytes should be converted to RGBA images\n",
      "  warnings.warn(\n"
     ]
    },
    {
     "name": "stdout",
     "output_type": "stream",
     "text": [
      "42/42 [==============================] - 8s 151ms/step - loss: 2.1951 - accuracy: 0.4000 - val_loss: 1.4113 - val_accuracy: 0.5571\n",
      "Epoch 2/20\n",
      "42/42 [==============================] - 5s 116ms/step - loss: 1.3321 - accuracy: 0.5818 - val_loss: 2.0142 - val_accuracy: 0.4286\n",
      "Epoch 3/20\n",
      "42/42 [==============================] - 5s 115ms/step - loss: 1.0666 - accuracy: 0.6364 - val_loss: 1.3723 - val_accuracy: 0.5714\n",
      "Epoch 4/20\n",
      "42/42 [==============================] - 5s 121ms/step - loss: 1.0074 - accuracy: 0.7091 - val_loss: 1.0928 - val_accuracy: 0.6143\n",
      "Epoch 5/20\n",
      "42/42 [==============================] - 5s 119ms/step - loss: 0.7279 - accuracy: 0.7818 - val_loss: 1.3166 - val_accuracy: 0.5714\n",
      "Epoch 6/20\n",
      "42/42 [==============================] - 5s 118ms/step - loss: 0.4261 - accuracy: 0.8545 - val_loss: 0.9405 - val_accuracy: 0.7429\n",
      "Epoch 7/20\n",
      "42/42 [==============================] - 5s 116ms/step - loss: 0.7119 - accuracy: 0.7636 - val_loss: 0.8877 - val_accuracy: 0.7571\n",
      "Epoch 8/20\n",
      "42/42 [==============================] - 5s 122ms/step - loss: 0.6263 - accuracy: 0.7879 - val_loss: 1.0862 - val_accuracy: 0.7000\n",
      "Epoch 9/20\n",
      "42/42 [==============================] - 5s 114ms/step - loss: 0.5590 - accuracy: 0.7939 - val_loss: 0.9254 - val_accuracy: 0.8000\n",
      "Epoch 10/20\n",
      "42/42 [==============================] - 5s 112ms/step - loss: 0.4499 - accuracy: 0.8364 - val_loss: 1.1499 - val_accuracy: 0.6857\n",
      "Epoch 11/20\n",
      "42/42 [==============================] - 5s 114ms/step - loss: 0.4705 - accuracy: 0.8121 - val_loss: 1.0785 - val_accuracy: 0.7000\n",
      "Epoch 12/20\n",
      "42/42 [==============================] - 5s 115ms/step - loss: 0.3094 - accuracy: 0.8545 - val_loss: 0.8694 - val_accuracy: 0.8000\n",
      "Epoch 13/20\n",
      "42/42 [==============================] - 5s 112ms/step - loss: 0.6996 - accuracy: 0.7939 - val_loss: 1.0945 - val_accuracy: 0.6571\n",
      "Epoch 14/20\n",
      "42/42 [==============================] - 5s 115ms/step - loss: 0.6956 - accuracy: 0.7576 - val_loss: 0.9160 - val_accuracy: 0.7571\n",
      "Epoch 15/20\n",
      "42/42 [==============================] - 5s 112ms/step - loss: 0.5380 - accuracy: 0.8485 - val_loss: 0.9030 - val_accuracy: 0.7286\n",
      "Epoch 16/20\n",
      "42/42 [==============================] - 5s 114ms/step - loss: 0.3706 - accuracy: 0.8970 - val_loss: 0.8381 - val_accuracy: 0.7857\n",
      "Epoch 17/20\n",
      "42/42 [==============================] - 5s 112ms/step - loss: 0.3625 - accuracy: 0.8727 - val_loss: 0.9672 - val_accuracy: 0.8000\n",
      "Epoch 18/20\n",
      "42/42 [==============================] - 5s 113ms/step - loss: 0.5057 - accuracy: 0.8424 - val_loss: 1.2218 - val_accuracy: 0.7286\n",
      "Epoch 19/20\n",
      "42/42 [==============================] - 5s 112ms/step - loss: 0.3950 - accuracy: 0.8909 - val_loss: 1.0585 - val_accuracy: 0.6571\n",
      "Epoch 20/20\n",
      "42/42 [==============================] - 5s 118ms/step - loss: 0.2227 - accuracy: 0.9091 - val_loss: 0.8250 - val_accuracy: 0.8286\n"
     ]
    }
   ],
   "source": [
    "#Compile the model \n",
    "model.compile(loss='categorical_crossentropy', optimizer='adam', metrics=['accuracy']) \n",
    "history = model.fit(train_set, validation_data=val_set, epochs=20, batch_size=4)"
   ]
  },
  {
   "cell_type": "code",
   "execution_count": 10,
   "metadata": {},
   "outputs": [
    {
     "data": {
      "image/png": "[encoded data removed]",
      "text/plain": [
       "<Figure size 432x288 with 1 Axes>"
      ]
     },
     "metadata": {
      "needs_background": "light"
     },
     "output_type": "display_data"
    }
   ],
   "source": [
    "def plot_loss(history):\n",
    "    train_loss = history.history['loss']\n",
    "    test_loss = history.history['val_loss']\n",
    "    x = list(range(1, len(test_loss) + 1))\n",
    "    plt.plot(x, test_loss, color='red', label='Val loss')\n",
    "    plt.plot(x, train_loss, label='Train loss')\n",
    "    plt.xlabel('Epoch')\n",
    "    plt.ylabel('Loss')\n",
    "    plt.title('Loss over Epochs')\n",
    "    plt.legend()\n",
    "plot_loss(history)\n",
    "plt.savefig('Loss_CC_Adam_Model_01.jpg') "
   ]
  },
  {
   "cell_type": "code",
   "execution_count": 11,
   "metadata": {},
   "outputs": [
    {
     "data": {
      "image/png": "[encoded data removed]",
      "text/plain": [
       "<Figure size 432x288 with 1 Axes>"
      ]
     },
     "metadata": {
      "needs_background": "light"
     },
     "output_type": "display_data"
    }
   ],
   "source": [
    "def plot_accuracy(history):\n",
    "    train_acc = history.history['accuracy']\n",
    "    test_acc = history.history['val_accuracy']\n",
    "    x = list(range(1, len(test_acc) + 1))\n",
    "    plt.plot(x, test_acc, color='red', label='Val accuracy')\n",
    "    plt.plot(x, train_acc, label='Train accuracy')  \n",
    "    plt.xlabel('Epoch')\n",
    "    plt.ylabel('Accuracy')\n",
    "    plt.title('Accuracy over Epochs')  \n",
    "    plt.legend(loc='lower right')\n",
    "\n",
    "plot_accuracy(history)\n",
    "plt.savefig('Acc_CC_Adam_Model_01.jpg') "
   ]
  },
  {
   "cell_type": "code",
   "execution_count": 12,
   "metadata": {},
   "outputs": [],
   "source": [
    "model.save('pokemon_model_01.h5')"
   ]
  },
  {
   "cell_type": "markdown",
   "metadata": {},
   "source": [
    "### Here I used pokemon_split/test/pikachu/00000187.jpg for testing."
   ]
  },
  {
   "cell_type": "code",
   "execution_count": 50,
   "metadata": {},
   "outputs": [
    {
     "name": "stdout",
     "output_type": "stream",
     "text": [
      "Who's that Pokemon!? ['Pikachu']\n",
      "It's in category [3]\n"
     ]
    }
   ],
   "source": [
    "from keras.models import load_model\n",
    "import cv2\n",
    "import numpy as np\n",
    "model = load_model('pokemon_model_01.h5')\n",
    "\n",
    "class_names=['Bulbasaur', 'Charmander', 'Mewtwo', 'Pikachu', 'Squirtle']\n",
    "\n",
    "model.compile(loss='categorical_crossentropy',\n",
    "              optimizer='adam',\n",
    "              metrics=['accuracy'])\n",
    "\n",
    "img_test = cv2.imread('pokemon_split/test/pikachu/00000187.jpg')\n",
    "img_test = cv2.resize(img_test,(224,224))\n",
    "img_test = np.reshape(img_test,[1,224,224,3])\n",
    "\n",
    "classes = np.argmax(model.predict(img_test), axis = -1)\n",
    "names = [class_names[i] for i in classes]\n",
    "\n",
    "print (\"Who's that Pokemon!?\", names)\n",
    "print (\"It's in category\", classes)\n"
   ]
  },
  {
   "cell_type": "markdown",
   "metadata": {},
   "source": [
    "# Model 2\n",
    "### Categorical_Crossentropy | rmsprop"
   ]
  },
  {
   "cell_type": "code",
   "execution_count": 15,
   "metadata": {},
   "outputs": [
    {
     "name": "stdout",
     "output_type": "stream",
     "text": [
      "Model: \"model_1\"\n",
      "_________________________________________________________________\n",
      " Layer (type)                Output Shape              Param #   \n",
      "=================================================================\n",
      " input_2 (InputLayer)        [(None, 224, 224, 3)]     0         \n",
      "                                                                 \n",
      " block1_conv1 (Conv2D)       (None, 224, 224, 64)      1792      \n",
      "                                                                 \n",
      " block1_conv2 (Conv2D)       (None, 224, 224, 64)      36928     \n",
      "                                                                 \n",
      " block1_pool (MaxPooling2D)  (None, 112, 112, 64)      0         \n",
      "                                                                 \n",
      " block2_conv1 (Conv2D)       (None, 112, 112, 128)     73856     \n",
      "                                                                 \n",
      " block2_conv2 (Conv2D)       (None, 112, 112, 128)     147584    \n",
      "                                                                 \n",
      " block2_pool (MaxPooling2D)  (None, 56, 56, 128)       0         \n",
      "                                                                 \n",
      " block3_conv1 (Conv2D)       (None, 56, 56, 256)       295168    \n",
      "                                                                 \n",
      " block3_conv2 (Conv2D)       (None, 56, 56, 256)       590080    \n",
      "                                                                 \n",
      " block3_conv3 (Conv2D)       (None, 56, 56, 256)       590080    \n",
      "                                                                 \n",
      " block3_pool (MaxPooling2D)  (None, 28, 28, 256)       0         \n",
      "                                                                 \n",
      " block4_conv1 (Conv2D)       (None, 28, 28, 512)       1180160   \n",
      "                                                                 \n",
      " block4_conv2 (Conv2D)       (None, 28, 28, 512)       2359808   \n",
      "                                                                 \n",
      " block4_conv3 (Conv2D)       (None, 28, 28, 512)       2359808   \n",
      "                                                                 \n",
      " block4_pool (MaxPooling2D)  (None, 14, 14, 512)       0         \n",
      "                                                                 \n",
      " block5_conv1 (Conv2D)       (None, 14, 14, 512)       2359808   \n",
      "                                                                 \n",
      " block5_conv2 (Conv2D)       (None, 14, 14, 512)       2359808   \n",
      "                                                                 \n",
      " block5_conv3 (Conv2D)       (None, 14, 14, 512)       2359808   \n",
      "                                                                 \n",
      " block5_pool (MaxPooling2D)  (None, 7, 7, 512)         0         \n",
      "                                                                 \n",
      " flatten_1 (Flatten)         (None, 25088)             0         \n",
      "                                                                 \n",
      " dense_1 (Dense)             (None, 5)                 125445    \n",
      "                                                                 \n",
      "=================================================================\n",
      "Total params: 14,840,133\n",
      "Trainable params: 125,445\n",
      "Non-trainable params: 14,714,688\n",
      "_________________________________________________________________\n"
     ]
    }
   ],
   "source": [
    "# Importing VGG16 from keras with pre-trained weights that is trained on imagenet\n",
    "from keras.applications.vgg16 import VGG16\n",
    "\n",
    "# Define all image dimensions in the database.\n",
    "img_height, img_width = 224,224\n",
    "\n",
    "# I had set include_top = False as I do not want to use the final layer from the VGG16 pretrained model.\n",
    "conv_base2 = VGG16(weights='imagenet', include_top=False, input_shape = (img_width, img_height, 3))\n",
    "\n",
    "# Freeze pretrained-models to use as our base model. \n",
    "for layer in conv_base2.layers:\n",
    "  layer.trainable = False\n",
    "\n",
    "# Output obtained on vgg16 is now flattened. \n",
    "x = Flatten()(conv_base2.output) \n",
    "\n",
    "# Dense unit is set to 5 as there are 5 classes.\n",
    "prediction = Dense(5, activation='softmax')(x) \n",
    "\n",
    "# Creating own layers in addition to VGG16 as the base layers.\n",
    "model2 = Model(inputs=conv_base2.input, outputs=prediction)\n",
    "\n",
    "model2.summary()"
   ]
  },
  {
   "cell_type": "code",
   "execution_count": 16,
   "metadata": {},
   "outputs": [
    {
     "name": "stdout",
     "output_type": "stream",
     "text": [
      "Epoch 1/20\n",
      "42/42 [==============================] - 6s 120ms/step - loss: 3.5827 - accuracy: 0.2485 - val_loss: 0.9535 - val_accuracy: 0.6571\n",
      "Epoch 2/20\n",
      "42/42 [==============================] - 5s 114ms/step - loss: 1.8181 - accuracy: 0.4485 - val_loss: 0.9575 - val_accuracy: 0.6857\n",
      "Epoch 3/20\n",
      "42/42 [==============================] - 5s 118ms/step - loss: 1.3783 - accuracy: 0.5879 - val_loss: 1.2828 - val_accuracy: 0.6000\n",
      "Epoch 4/20\n",
      "42/42 [==============================] - 5s 114ms/step - loss: 1.2332 - accuracy: 0.6424 - val_loss: 2.1901 - val_accuracy: 0.6286\n",
      "Epoch 5/20\n",
      "42/42 [==============================] - 5s 112ms/step - loss: 1.1996 - accuracy: 0.6667 - val_loss: 1.8464 - val_accuracy: 0.5857\n",
      "Epoch 6/20\n",
      "42/42 [==============================] - 5s 117ms/step - loss: 0.8491 - accuracy: 0.7394 - val_loss: 1.9969 - val_accuracy: 0.4571\n",
      "Epoch 7/20\n",
      "42/42 [==============================] - 5s 115ms/step - loss: 0.9221 - accuracy: 0.7273 - val_loss: 1.8901 - val_accuracy: 0.6429\n",
      "Epoch 8/20\n",
      "42/42 [==============================] - 5s 116ms/step - loss: 0.8225 - accuracy: 0.7576 - val_loss: 1.3085 - val_accuracy: 0.6857\n",
      "Epoch 9/20\n",
      "42/42 [==============================] - 5s 114ms/step - loss: 0.7128 - accuracy: 0.7636 - val_loss: 1.6886 - val_accuracy: 0.6571\n",
      "Epoch 10/20\n",
      "42/42 [==============================] - 5s 115ms/step - loss: 0.8456 - accuracy: 0.7758 - val_loss: 1.7720 - val_accuracy: 0.6143\n",
      "Epoch 11/20\n",
      "42/42 [==============================] - 5s 114ms/step - loss: 0.4981 - accuracy: 0.8242 - val_loss: 2.1836 - val_accuracy: 0.5714\n",
      "Epoch 12/20\n",
      "42/42 [==============================] - 5s 114ms/step - loss: 0.9708 - accuracy: 0.7515 - val_loss: 1.2797 - val_accuracy: 0.7571\n",
      "Epoch 13/20\n",
      "42/42 [==============================] - 5s 114ms/step - loss: 0.4924 - accuracy: 0.8606 - val_loss: 1.0662 - val_accuracy: 0.8000\n",
      "Epoch 14/20\n",
      "42/42 [==============================] - 5s 121ms/step - loss: 0.7077 - accuracy: 0.7939 - val_loss: 1.4139 - val_accuracy: 0.6286\n",
      "Epoch 15/20\n",
      "42/42 [==============================] - 5s 118ms/step - loss: 0.5696 - accuracy: 0.8424 - val_loss: 1.1048 - val_accuracy: 0.8000\n",
      "Epoch 16/20\n",
      "42/42 [==============================] - 5s 122ms/step - loss: 0.6450 - accuracy: 0.8242 - val_loss: 1.4587 - val_accuracy: 0.6857\n",
      "Epoch 17/20\n",
      "42/42 [==============================] - 5s 122ms/step - loss: 0.5502 - accuracy: 0.8485 - val_loss: 1.1053 - val_accuracy: 0.7429\n",
      "Epoch 18/20\n",
      "42/42 [==============================] - 5s 116ms/step - loss: 0.4723 - accuracy: 0.8727 - val_loss: 0.8385 - val_accuracy: 0.8429\n",
      "Epoch 19/20\n",
      "42/42 [==============================] - 5s 116ms/step - loss: 0.5228 - accuracy: 0.8606 - val_loss: 0.9120 - val_accuracy: 0.8000\n",
      "Epoch 20/20\n",
      "42/42 [==============================] - 5s 114ms/step - loss: 0.5009 - accuracy: 0.8788 - val_loss: 0.8557 - val_accuracy: 0.7571\n"
     ]
    }
   ],
   "source": [
    "#Compile the model \n",
    "model2.compile(loss='categorical_crossentropy', optimizer='rmsprop', metrics=['accuracy']) \n",
    "history2 = model2.fit(train_set, validation_data=val_set, epochs=20, batch_size=4)"
   ]
  },
  {
   "cell_type": "code",
   "execution_count": 17,
   "metadata": {},
   "outputs": [
    {
     "data": {
      "image/png": "[encoded data removed]",
      "text/plain": [
       "<Figure size 432x288 with 1 Axes>"
      ]
     },
     "metadata": {
      "needs_background": "light"
     },
     "output_type": "display_data"
    }
   ],
   "source": [
    "# Loss\n",
    "def plot_loss(history2):\n",
    "    train_loss = history2.history['loss']\n",
    "    test_loss = history2.history['val_loss']\n",
    "    x = list(range(1, len(test_loss) + 1))\n",
    "    plt.plot(x, test_loss, color='red', label='Val loss')\n",
    "    plt.plot(x, train_loss, label='Train loss')\n",
    "    plt.xlabel('Epoch')\n",
    "    plt.ylabel('Loss')\n",
    "    plt.title('Loss over Epochs')\n",
    "    plt.legend()\n",
    "plot_loss(history2)\n",
    "plt.savefig('Loss_CC_rmsprop_Model_02.jpg') "
   ]
  },
  {
   "cell_type": "code",
   "execution_count": 18,
   "metadata": {},
   "outputs": [
    {
     "data": {
      "image/png": "[encoded data removed]",
      "text/plain": [
       "<Figure size 432x288 with 1 Axes>"
      ]
     },
     "metadata": {
      "needs_background": "light"
     },
     "output_type": "display_data"
    }
   ],
   "source": [
    "# Accuracies\n",
    "def plot_accuracy(history2):\n",
    "    train_acc = history2.history['accuracy']\n",
    "    test_acc = history2.history['val_accuracy']\n",
    "    x = list(range(1, len(test_acc) + 1))\n",
    "    plt.plot(x, test_acc, color='red', label='Val accuracy')\n",
    "    plt.plot(x, train_acc, label='Train accuracy')  \n",
    "    plt.xlabel('Epoch')\n",
    "    plt.ylabel('Accuracy')\n",
    "    plt.title('Accuracy over Epochs')  \n",
    "    plt.legend(loc='lower right')\n",
    "\n",
    "plot_accuracy(history2)\n",
    "plt.savefig('Acc_CC_rmsprop_Model_02.jpg') "
   ]
  },
  {
   "cell_type": "code",
   "execution_count": 19,
   "metadata": {},
   "outputs": [],
   "source": [
    "model2.save('pokemon_model_02.h5')"
   ]
  },
  {
   "cell_type": "markdown",
   "metadata": {},
   "source": [
    "### Here I used pokemon_split/test/pikachu/00000187.jpg for testing."
   ]
  },
  {
   "cell_type": "code",
   "execution_count": 49,
   "metadata": {},
   "outputs": [
    {
     "name": "stdout",
     "output_type": "stream",
     "text": [
      "Who's that Pokemon!? ['Pikachu']\n",
      "It's in category [3]\n"
     ]
    }
   ],
   "source": [
    "from keras.models import load_model\n",
    "import cv2\n",
    "import numpy as np\n",
    "model2 = load_model('pokemon_model_02.h5')\n",
    "\n",
    "class_names2=['Bulbasaur', 'Charmander', 'Mewtwo', 'Pikachu', 'Squirtle']\n",
    "\n",
    "model2.compile(loss='categorical_crossentropy',\n",
    "              optimizer='rmsprop',\n",
    "              metrics=['accuracy'])\n",
    "\n",
    "img_test2 = cv2.imread('pokemon_split/test/pikachu/00000187.jpg')\n",
    "img_test2 = cv2.resize(img_test2,(224,224))\n",
    "img_test2 = np.reshape(img_test2,[1,224,224,3])\n",
    "\n",
    "classes2 = np.argmax(model2.predict(img_test2), axis = -1)\n",
    "names2 = [class_names2[i] for i in classes2]\n",
    "\n",
    "print (\"Who's that Pokemon!?\", names2)\n",
    "print (\"It's in category\", classes2)\n"
   ]
  },
  {
   "cell_type": "markdown",
   "metadata": {},
   "source": [
    "# Model 3\n",
    "### mean_squared_logarithmic_error | SGD"
   ]
  },
  {
   "cell_type": "code",
   "execution_count": 21,
   "metadata": {},
   "outputs": [
    {
     "name": "stdout",
     "output_type": "stream",
     "text": [
      "Model: \"model_2\"\n",
      "_________________________________________________________________\n",
      " Layer (type)                Output Shape              Param #   \n",
      "=================================================================\n",
      " input_3 (InputLayer)        [(None, 224, 224, 3)]     0         \n",
      "                                                                 \n",
      " block1_conv1 (Conv2D)       (None, 224, 224, 64)      1792      \n",
      "                                                                 \n",
      " block1_conv2 (Conv2D)       (None, 224, 224, 64)      36928     \n",
      "                                                                 \n",
      " block1_pool (MaxPooling2D)  (None, 112, 112, 64)      0         \n",
      "                                                                 \n",
      " block2_conv1 (Conv2D)       (None, 112, 112, 128)     73856     \n",
      "                                                                 \n",
      " block2_conv2 (Conv2D)       (None, 112, 112, 128)     147584    \n",
      "                                                                 \n",
      " block2_pool (MaxPooling2D)  (None, 56, 56, 128)       0         \n",
      "                                                                 \n",
      " block3_conv1 (Conv2D)       (None, 56, 56, 256)       295168    \n",
      "                                                                 \n",
      " block3_conv2 (Conv2D)       (None, 56, 56, 256)       590080    \n",
      "                                                                 \n",
      " block3_conv3 (Conv2D)       (None, 56, 56, 256)       590080    \n",
      "                                                                 \n",
      " block3_pool (MaxPooling2D)  (None, 28, 28, 256)       0         \n",
      "                                                                 \n",
      " block4_conv1 (Conv2D)       (None, 28, 28, 512)       1180160   \n",
      "                                                                 \n",
      " block4_conv2 (Conv2D)       (None, 28, 28, 512)       2359808   \n",
      "                                                                 \n",
      " block4_conv3 (Conv2D)       (None, 28, 28, 512)       2359808   \n",
      "                                                                 \n",
      " block4_pool (MaxPooling2D)  (None, 14, 14, 512)       0         \n",
      "                                                                 \n",
      " block5_conv1 (Conv2D)       (None, 14, 14, 512)       2359808   \n",
      "                                                                 \n",
      " block5_conv2 (Conv2D)       (None, 14, 14, 512)       2359808   \n",
      "                                                                 \n",
      " block5_conv3 (Conv2D)       (None, 14, 14, 512)       2359808   \n",
      "                                                                 \n",
      " block5_pool (MaxPooling2D)  (None, 7, 7, 512)         0         \n",
      "                                                                 \n",
      " flatten_2 (Flatten)         (None, 25088)             0         \n",
      "                                                                 \n",
      " dense_2 (Dense)             (None, 5)                 125445    \n",
      "                                                                 \n",
      "=================================================================\n",
      "Total params: 14,840,133\n",
      "Trainable params: 125,445\n",
      "Non-trainable params: 14,714,688\n",
      "_________________________________________________________________\n"
     ]
    }
   ],
   "source": [
    "# Importing VGG16 from keras with pre-trained weights that is trained on imagenet\n",
    "from keras.applications.vgg16 import VGG16\n",
    "\n",
    "# Define all image dimensions in the database.\n",
    "img_height, img_width = 224,224\n",
    "\n",
    "# I had set include_top = False as I do not want to use the final layer from the VGG16 pretrained model.\n",
    "conv_base3 = VGG16(weights='imagenet', include_top=False, input_shape = (img_width, img_height, 3))\n",
    "\n",
    "# Freeze pretrained-models to use as our base model. \n",
    "for layer in conv_base3.layers:\n",
    "  layer.trainable = False\n",
    "\n",
    "# Output obtained on vgg16 is now flattened. \n",
    "x = Flatten()(conv_base3.output) \n",
    "\n",
    "# Dense unit is set to 5 as there are 5 classes.\n",
    "prediction = Dense(5, activation='softmax')(x) \n",
    "\n",
    "# Creating own layers in addition to VGG16 as the base layers.\n",
    "model3 = Model(inputs=conv_base3.input, outputs=prediction)\n",
    "\n",
    "model3.summary()"
   ]
  },
  {
   "cell_type": "code",
   "execution_count": 22,
   "metadata": {},
   "outputs": [
    {
     "name": "stdout",
     "output_type": "stream",
     "text": [
      "Epoch 1/120\n",
      "42/42 [==============================] - 5s 120ms/step - loss: 0.0943 - accuracy: 0.1939 - val_loss: 0.0970 - val_accuracy: 0.1857\n",
      "Epoch 2/120\n",
      "42/42 [==============================] - 5s 116ms/step - loss: 0.0874 - accuracy: 0.2545 - val_loss: 0.0868 - val_accuracy: 0.1857\n",
      "Epoch 3/120\n",
      "42/42 [==============================] - 5s 115ms/step - loss: 0.0852 - accuracy: 0.2667 - val_loss: 0.0854 - val_accuracy: 0.3286\n",
      "Epoch 4/120\n",
      "42/42 [==============================] - 5s 115ms/step - loss: 0.0767 - accuracy: 0.3818 - val_loss: 0.0956 - val_accuracy: 0.2286\n",
      "Epoch 5/120\n",
      "42/42 [==============================] - 5s 114ms/step - loss: 0.0760 - accuracy: 0.3818 - val_loss: 0.0769 - val_accuracy: 0.4000\n",
      "Epoch 6/120\n",
      "42/42 [==============================] - 5s 115ms/step - loss: 0.0682 - accuracy: 0.4303 - val_loss: 0.0673 - val_accuracy: 0.4143\n",
      "Epoch 7/120\n",
      "42/42 [==============================] - 5s 115ms/step - loss: 0.0671 - accuracy: 0.5030 - val_loss: 0.0652 - val_accuracy: 0.4571\n",
      "Epoch 8/120\n",
      "42/42 [==============================] - 5s 114ms/step - loss: 0.0645 - accuracy: 0.5152 - val_loss: 0.0876 - val_accuracy: 0.3857\n",
      "Epoch 9/120\n",
      "42/42 [==============================] - 5s 117ms/step - loss: 0.0588 - accuracy: 0.5394 - val_loss: 0.0711 - val_accuracy: 0.4429\n",
      "Epoch 10/120\n",
      "42/42 [==============================] - 5s 114ms/step - loss: 0.0554 - accuracy: 0.5697 - val_loss: 0.0697 - val_accuracy: 0.4286\n",
      "Epoch 11/120\n",
      "42/42 [==============================] - 5s 114ms/step - loss: 0.0598 - accuracy: 0.5273 - val_loss: 0.0622 - val_accuracy: 0.5000\n",
      "Epoch 12/120\n",
      "42/42 [==============================] - 5s 119ms/step - loss: 0.0583 - accuracy: 0.5212 - val_loss: 0.0598 - val_accuracy: 0.5857\n",
      "Epoch 13/120\n",
      "42/42 [==============================] - 5s 114ms/step - loss: 0.0508 - accuracy: 0.6182 - val_loss: 0.0683 - val_accuracy: 0.4857\n",
      "Epoch 14/120\n",
      "42/42 [==============================] - 5s 114ms/step - loss: 0.0580 - accuracy: 0.5697 - val_loss: 0.0527 - val_accuracy: 0.5714\n",
      "Epoch 15/120\n",
      "42/42 [==============================] - 5s 114ms/step - loss: 0.0512 - accuracy: 0.5939 - val_loss: 0.0618 - val_accuracy: 0.5143\n",
      "Epoch 16/120\n",
      "42/42 [==============================] - 5s 116ms/step - loss: 0.0477 - accuracy: 0.6788 - val_loss: 0.0578 - val_accuracy: 0.4571\n",
      "Epoch 17/120\n",
      "42/42 [==============================] - 5s 111ms/step - loss: 0.0517 - accuracy: 0.6242 - val_loss: 0.0658 - val_accuracy: 0.5286\n",
      "Epoch 18/120\n",
      "42/42 [==============================] - 5s 115ms/step - loss: 0.0482 - accuracy: 0.6242 - val_loss: 0.0575 - val_accuracy: 0.5571\n",
      "Epoch 19/120\n",
      "42/42 [==============================] - 5s 115ms/step - loss: 0.0453 - accuracy: 0.6485 - val_loss: 0.0502 - val_accuracy: 0.6429\n",
      "Epoch 20/120\n",
      "42/42 [==============================] - 5s 111ms/step - loss: 0.0405 - accuracy: 0.7515 - val_loss: 0.0527 - val_accuracy: 0.5714\n",
      "Epoch 21/120\n",
      "42/42 [==============================] - 5s 115ms/step - loss: 0.0444 - accuracy: 0.6303 - val_loss: 0.0545 - val_accuracy: 0.5857\n",
      "Epoch 22/120\n",
      "42/42 [==============================] - 5s 115ms/step - loss: 0.0380 - accuracy: 0.7152 - val_loss: 0.0681 - val_accuracy: 0.5000\n",
      "Epoch 23/120\n",
      "42/42 [==============================] - 5s 112ms/step - loss: 0.0459 - accuracy: 0.6364 - val_loss: 0.0485 - val_accuracy: 0.6143\n",
      "Epoch 24/120\n",
      "42/42 [==============================] - 5s 113ms/step - loss: 0.0469 - accuracy: 0.6424 - val_loss: 0.0469 - val_accuracy: 0.6286\n",
      "Epoch 25/120\n",
      "42/42 [==============================] - 5s 114ms/step - loss: 0.0393 - accuracy: 0.7091 - val_loss: 0.0554 - val_accuracy: 0.6000\n",
      "Epoch 26/120\n",
      "42/42 [==============================] - 5s 112ms/step - loss: 0.0390 - accuracy: 0.7212 - val_loss: 0.0469 - val_accuracy: 0.6571\n",
      "Epoch 27/120\n",
      "42/42 [==============================] - 5s 114ms/step - loss: 0.0373 - accuracy: 0.7515 - val_loss: 0.0486 - val_accuracy: 0.6143\n",
      "Epoch 28/120\n",
      "42/42 [==============================] - 5s 113ms/step - loss: 0.0355 - accuracy: 0.7273 - val_loss: 0.0474 - val_accuracy: 0.6429\n",
      "Epoch 29/120\n",
      "42/42 [==============================] - 5s 113ms/step - loss: 0.0376 - accuracy: 0.7030 - val_loss: 0.0485 - val_accuracy: 0.6000\n",
      "Epoch 30/120\n",
      "42/42 [==============================] - 5s 113ms/step - loss: 0.0371 - accuracy: 0.7515 - val_loss: 0.0424 - val_accuracy: 0.7286\n",
      "Epoch 31/120\n",
      "42/42 [==============================] - 5s 114ms/step - loss: 0.0347 - accuracy: 0.7394 - val_loss: 0.0424 - val_accuracy: 0.6857\n",
      "Epoch 32/120\n",
      "42/42 [==============================] - 5s 113ms/step - loss: 0.0339 - accuracy: 0.7636 - val_loss: 0.0484 - val_accuracy: 0.5714\n",
      "Epoch 33/120\n",
      "42/42 [==============================] - 5s 114ms/step - loss: 0.0303 - accuracy: 0.8121 - val_loss: 0.0447 - val_accuracy: 0.7000\n",
      "Epoch 34/120\n",
      "42/42 [==============================] - 5s 114ms/step - loss: 0.0312 - accuracy: 0.8000 - val_loss: 0.0430 - val_accuracy: 0.7714\n",
      "Epoch 35/120\n",
      "42/42 [==============================] - 5s 115ms/step - loss: 0.0313 - accuracy: 0.7758 - val_loss: 0.0506 - val_accuracy: 0.6429\n",
      "Epoch 36/120\n",
      "42/42 [==============================] - 5s 116ms/step - loss: 0.0361 - accuracy: 0.7273 - val_loss: 0.0396 - val_accuracy: 0.7286\n",
      "Epoch 37/120\n",
      "42/42 [==============================] - 5s 114ms/step - loss: 0.0321 - accuracy: 0.7697 - val_loss: 0.0621 - val_accuracy: 0.5286\n",
      "Epoch 38/120\n",
      "42/42 [==============================] - 5s 117ms/step - loss: 0.0328 - accuracy: 0.7879 - val_loss: 0.0394 - val_accuracy: 0.7286\n",
      "Epoch 39/120\n",
      "42/42 [==============================] - 5s 112ms/step - loss: 0.0289 - accuracy: 0.7879 - val_loss: 0.0393 - val_accuracy: 0.7286\n",
      "Epoch 40/120\n",
      "42/42 [==============================] - 5s 113ms/step - loss: 0.0291 - accuracy: 0.8061 - val_loss: 0.0544 - val_accuracy: 0.5571\n",
      "Epoch 41/120\n",
      "42/42 [==============================] - 5s 111ms/step - loss: 0.0359 - accuracy: 0.7515 - val_loss: 0.0489 - val_accuracy: 0.6429\n",
      "Epoch 42/120\n",
      "42/42 [==============================] - 5s 117ms/step - loss: 0.0330 - accuracy: 0.7515 - val_loss: 0.0396 - val_accuracy: 0.7286\n",
      "Epoch 43/120\n",
      "42/42 [==============================] - 5s 116ms/step - loss: 0.0291 - accuracy: 0.8061 - val_loss: 0.0742 - val_accuracy: 0.5286\n",
      "Epoch 44/120\n",
      "42/42 [==============================] - 5s 127ms/step - loss: 0.0286 - accuracy: 0.8121 - val_loss: 0.0422 - val_accuracy: 0.7000\n",
      "Epoch 45/120\n",
      "42/42 [==============================] - 6s 154ms/step - loss: 0.0265 - accuracy: 0.8545 - val_loss: 0.0511 - val_accuracy: 0.6143\n",
      "Epoch 46/120\n",
      "42/42 [==============================] - 6s 132ms/step - loss: 0.0273 - accuracy: 0.8182 - val_loss: 0.0503 - val_accuracy: 0.6143\n",
      "Epoch 47/120\n",
      "42/42 [==============================] - 7s 163ms/step - loss: 0.0272 - accuracy: 0.8000 - val_loss: 0.0385 - val_accuracy: 0.7000\n",
      "Epoch 48/120\n",
      "42/42 [==============================] - 7s 168ms/step - loss: 0.0279 - accuracy: 0.8000 - val_loss: 0.0385 - val_accuracy: 0.6857\n",
      "Epoch 49/120\n",
      "42/42 [==============================] - 6s 135ms/step - loss: 0.0275 - accuracy: 0.7818 - val_loss: 0.0414 - val_accuracy: 0.6714\n",
      "Epoch 50/120\n",
      "42/42 [==============================] - 5s 125ms/step - loss: 0.0244 - accuracy: 0.8364 - val_loss: 0.0350 - val_accuracy: 0.8000\n",
      "Epoch 51/120\n",
      "42/42 [==============================] - 5s 115ms/step - loss: 0.0273 - accuracy: 0.8303 - val_loss: 0.0520 - val_accuracy: 0.6143\n",
      "Epoch 52/120\n",
      "42/42 [==============================] - 5s 115ms/step - loss: 0.0276 - accuracy: 0.7939 - val_loss: 0.0337 - val_accuracy: 0.8000\n",
      "Epoch 53/120\n",
      "42/42 [==============================] - 5s 128ms/step - loss: 0.0263 - accuracy: 0.8424 - val_loss: 0.0380 - val_accuracy: 0.7143\n",
      "Epoch 54/120\n",
      "42/42 [==============================] - 5s 120ms/step - loss: 0.0259 - accuracy: 0.8424 - val_loss: 0.0372 - val_accuracy: 0.7429\n",
      "Epoch 55/120\n",
      "42/42 [==============================] - 5s 127ms/step - loss: 0.0253 - accuracy: 0.8364 - val_loss: 0.0395 - val_accuracy: 0.7286\n",
      "Epoch 56/120\n",
      "42/42 [==============================] - 6s 138ms/step - loss: 0.0239 - accuracy: 0.8545 - val_loss: 0.0369 - val_accuracy: 0.7429\n",
      "Epoch 57/120\n",
      "42/42 [==============================] - 5s 124ms/step - loss: 0.0259 - accuracy: 0.8303 - val_loss: 0.0440 - val_accuracy: 0.6714\n",
      "Epoch 58/120\n",
      "42/42 [==============================] - 5s 123ms/step - loss: 0.0252 - accuracy: 0.8121 - val_loss: 0.0351 - val_accuracy: 0.8000\n",
      "Epoch 59/120\n",
      "42/42 [==============================] - 5s 114ms/step - loss: 0.0243 - accuracy: 0.8606 - val_loss: 0.0486 - val_accuracy: 0.6429\n",
      "Epoch 60/120\n",
      "42/42 [==============================] - 5s 117ms/step - loss: 0.0250 - accuracy: 0.8364 - val_loss: 0.0394 - val_accuracy: 0.7000\n",
      "Epoch 61/120\n",
      "42/42 [==============================] - 5s 117ms/step - loss: 0.0251 - accuracy: 0.8242 - val_loss: 0.0324 - val_accuracy: 0.7857\n",
      "Epoch 62/120\n",
      "42/42 [==============================] - 5s 115ms/step - loss: 0.0244 - accuracy: 0.8424 - val_loss: 0.0498 - val_accuracy: 0.6000\n",
      "Epoch 63/120\n",
      "42/42 [==============================] - 5s 117ms/step - loss: 0.0219 - accuracy: 0.8485 - val_loss: 0.0665 - val_accuracy: 0.5143\n",
      "Epoch 64/120\n",
      "42/42 [==============================] - 5s 117ms/step - loss: 0.0240 - accuracy: 0.8667 - val_loss: 0.0380 - val_accuracy: 0.7000\n",
      "Epoch 65/120\n",
      "42/42 [==============================] - 5s 117ms/step - loss: 0.0225 - accuracy: 0.8545 - val_loss: 0.0397 - val_accuracy: 0.6857\n",
      "Epoch 66/120\n",
      "42/42 [==============================] - 5s 117ms/step - loss: 0.0208 - accuracy: 0.8606 - val_loss: 0.0320 - val_accuracy: 0.8000\n",
      "Epoch 67/120\n",
      "42/42 [==============================] - 5s 118ms/step - loss: 0.0212 - accuracy: 0.8848 - val_loss: 0.0329 - val_accuracy: 0.7571\n",
      "Epoch 68/120\n",
      "42/42 [==============================] - 5s 115ms/step - loss: 0.0219 - accuracy: 0.8606 - val_loss: 0.0397 - val_accuracy: 0.6571\n",
      "Epoch 69/120\n",
      "42/42 [==============================] - 5s 116ms/step - loss: 0.0206 - accuracy: 0.8788 - val_loss: 0.0334 - val_accuracy: 0.7571\n",
      "Epoch 70/120\n",
      "42/42 [==============================] - 5s 117ms/step - loss: 0.0251 - accuracy: 0.8121 - val_loss: 0.0415 - val_accuracy: 0.6714\n",
      "Epoch 71/120\n",
      "42/42 [==============================] - 5s 116ms/step - loss: 0.0205 - accuracy: 0.8909 - val_loss: 0.0352 - val_accuracy: 0.7857\n",
      "Epoch 72/120\n",
      "42/42 [==============================] - 5s 116ms/step - loss: 0.0207 - accuracy: 0.9091 - val_loss: 0.0398 - val_accuracy: 0.7000\n",
      "Epoch 73/120\n",
      "42/42 [==============================] - 5s 130ms/step - loss: 0.0204 - accuracy: 0.8667 - val_loss: 0.0366 - val_accuracy: 0.7143\n",
      "Epoch 74/120\n",
      "42/42 [==============================] - 5s 115ms/step - loss: 0.0193 - accuracy: 0.8727 - val_loss: 0.0408 - val_accuracy: 0.6857\n",
      "Epoch 75/120\n",
      "42/42 [==============================] - 5s 116ms/step - loss: 0.0220 - accuracy: 0.8545 - val_loss: 0.0346 - val_accuracy: 0.7857\n",
      "Epoch 76/120\n",
      "42/42 [==============================] - 5s 127ms/step - loss: 0.0220 - accuracy: 0.8424 - val_loss: 0.0338 - val_accuracy: 0.7571\n",
      "Epoch 77/120\n",
      "42/42 [==============================] - 6s 136ms/step - loss: 0.0237 - accuracy: 0.8545 - val_loss: 0.0404 - val_accuracy: 0.7000\n",
      "Epoch 78/120\n",
      "42/42 [==============================] - 5s 131ms/step - loss: 0.0188 - accuracy: 0.8970 - val_loss: 0.0381 - val_accuracy: 0.6857\n",
      "Epoch 79/120\n",
      "42/42 [==============================] - 6s 150ms/step - loss: 0.0211 - accuracy: 0.8727 - val_loss: 0.0345 - val_accuracy: 0.7000\n",
      "Epoch 80/120\n",
      "42/42 [==============================] - 5s 115ms/step - loss: 0.0173 - accuracy: 0.9091 - val_loss: 0.0347 - val_accuracy: 0.7714\n",
      "Epoch 81/120\n",
      "42/42 [==============================] - 5s 113ms/step - loss: 0.0160 - accuracy: 0.9152 - val_loss: 0.0356 - val_accuracy: 0.7714\n",
      "Epoch 82/120\n",
      "42/42 [==============================] - 5s 114ms/step - loss: 0.0190 - accuracy: 0.8848 - val_loss: 0.0334 - val_accuracy: 0.7714\n",
      "Epoch 83/120\n",
      "42/42 [==============================] - 5s 115ms/step - loss: 0.0181 - accuracy: 0.9091 - val_loss: 0.0345 - val_accuracy: 0.7286\n",
      "Epoch 84/120\n",
      "42/42 [==============================] - 5s 116ms/step - loss: 0.0215 - accuracy: 0.8545 - val_loss: 0.0385 - val_accuracy: 0.7429\n",
      "Epoch 85/120\n",
      "42/42 [==============================] - 5s 115ms/step - loss: 0.0236 - accuracy: 0.8424 - val_loss: 0.0367 - val_accuracy: 0.7143\n",
      "Epoch 86/120\n",
      "42/42 [==============================] - 5s 116ms/step - loss: 0.0185 - accuracy: 0.8848 - val_loss: 0.0389 - val_accuracy: 0.7000\n",
      "Epoch 87/120\n",
      "42/42 [==============================] - 5s 115ms/step - loss: 0.0188 - accuracy: 0.8727 - val_loss: 0.0374 - val_accuracy: 0.7286\n",
      "Epoch 88/120\n",
      "42/42 [==============================] - 5s 118ms/step - loss: 0.0177 - accuracy: 0.8909 - val_loss: 0.0366 - val_accuracy: 0.7714\n",
      "Epoch 89/120\n",
      "42/42 [==============================] - 5s 115ms/step - loss: 0.0182 - accuracy: 0.8788 - val_loss: 0.0357 - val_accuracy: 0.7286\n",
      "Epoch 90/120\n",
      "42/42 [==============================] - 5s 115ms/step - loss: 0.0197 - accuracy: 0.8545 - val_loss: 0.0342 - val_accuracy: 0.7143\n",
      "Epoch 91/120\n",
      "42/42 [==============================] - 5s 114ms/step - loss: 0.0147 - accuracy: 0.9394 - val_loss: 0.0342 - val_accuracy: 0.8000\n",
      "Epoch 92/120\n",
      "42/42 [==============================] - 5s 115ms/step - loss: 0.0174 - accuracy: 0.8909 - val_loss: 0.0352 - val_accuracy: 0.7429\n",
      "Epoch 93/120\n",
      "42/42 [==============================] - 5s 115ms/step - loss: 0.0150 - accuracy: 0.9152 - val_loss: 0.0296 - val_accuracy: 0.7857\n",
      "Epoch 94/120\n",
      "42/42 [==============================] - 5s 116ms/step - loss: 0.0194 - accuracy: 0.8545 - val_loss: 0.0327 - val_accuracy: 0.7857\n",
      "Epoch 95/120\n",
      "42/42 [==============================] - 5s 116ms/step - loss: 0.0193 - accuracy: 0.8545 - val_loss: 0.0308 - val_accuracy: 0.8000\n",
      "Epoch 96/120\n",
      "42/42 [==============================] - 5s 116ms/step - loss: 0.0155 - accuracy: 0.9152 - val_loss: 0.0293 - val_accuracy: 0.8286\n",
      "Epoch 97/120\n",
      "42/42 [==============================] - 5s 114ms/step - loss: 0.0213 - accuracy: 0.8667 - val_loss: 0.0324 - val_accuracy: 0.7286\n",
      "Epoch 98/120\n",
      "42/42 [==============================] - 5s 116ms/step - loss: 0.0148 - accuracy: 0.9212 - val_loss: 0.0314 - val_accuracy: 0.8000\n",
      "Epoch 99/120\n",
      "42/42 [==============================] - 5s 115ms/step - loss: 0.0195 - accuracy: 0.8909 - val_loss: 0.0344 - val_accuracy: 0.7429\n",
      "Epoch 100/120\n",
      "42/42 [==============================] - 5s 115ms/step - loss: 0.0136 - accuracy: 0.9030 - val_loss: 0.0311 - val_accuracy: 0.8143\n",
      "Epoch 101/120\n",
      "42/42 [==============================] - 5s 115ms/step - loss: 0.0138 - accuracy: 0.9273 - val_loss: 0.0287 - val_accuracy: 0.8000\n",
      "Epoch 102/120\n",
      "42/42 [==============================] - 5s 115ms/step - loss: 0.0179 - accuracy: 0.8970 - val_loss: 0.0324 - val_accuracy: 0.7429\n",
      "Epoch 103/120\n",
      "42/42 [==============================] - 5s 117ms/step - loss: 0.0157 - accuracy: 0.8848 - val_loss: 0.0355 - val_accuracy: 0.7286\n",
      "Epoch 104/120\n",
      "42/42 [==============================] - 5s 116ms/step - loss: 0.0166 - accuracy: 0.8909 - val_loss: 0.0292 - val_accuracy: 0.7857\n",
      "Epoch 105/120\n",
      "42/42 [==============================] - 5s 115ms/step - loss: 0.0172 - accuracy: 0.9030 - val_loss: 0.0330 - val_accuracy: 0.7571\n",
      "Epoch 106/120\n",
      "42/42 [==============================] - 5s 115ms/step - loss: 0.0192 - accuracy: 0.8909 - val_loss: 0.0303 - val_accuracy: 0.7857\n",
      "Epoch 107/120\n",
      "42/42 [==============================] - 5s 113ms/step - loss: 0.0154 - accuracy: 0.9091 - val_loss: 0.0294 - val_accuracy: 0.7714\n",
      "Epoch 108/120\n",
      "42/42 [==============================] - 5s 117ms/step - loss: 0.0174 - accuracy: 0.8909 - val_loss: 0.0298 - val_accuracy: 0.8000\n",
      "Epoch 109/120\n",
      "42/42 [==============================] - 5s 117ms/step - loss: 0.0149 - accuracy: 0.9091 - val_loss: 0.0294 - val_accuracy: 0.7857\n",
      "Epoch 110/120\n",
      "42/42 [==============================] - 5s 116ms/step - loss: 0.0159 - accuracy: 0.9152 - val_loss: 0.0315 - val_accuracy: 0.7714\n",
      "Epoch 111/120\n",
      "42/42 [==============================] - 5s 115ms/step - loss: 0.0137 - accuracy: 0.9091 - val_loss: 0.0343 - val_accuracy: 0.7429\n",
      "Epoch 112/120\n",
      "42/42 [==============================] - 5s 117ms/step - loss: 0.0177 - accuracy: 0.8848 - val_loss: 0.0333 - val_accuracy: 0.7714\n",
      "Epoch 113/120\n",
      "42/42 [==============================] - 5s 117ms/step - loss: 0.0140 - accuracy: 0.8909 - val_loss: 0.0279 - val_accuracy: 0.8286\n",
      "Epoch 114/120\n",
      "42/42 [==============================] - 5s 119ms/step - loss: 0.0145 - accuracy: 0.9273 - val_loss: 0.0354 - val_accuracy: 0.7143\n",
      "Epoch 115/120\n",
      "42/42 [==============================] - 5s 118ms/step - loss: 0.0141 - accuracy: 0.8970 - val_loss: 0.0365 - val_accuracy: 0.7286\n",
      "Epoch 116/120\n",
      "42/42 [==============================] - 5s 117ms/step - loss: 0.0143 - accuracy: 0.9333 - val_loss: 0.0371 - val_accuracy: 0.7000\n",
      "Epoch 117/120\n",
      "42/42 [==============================] - 5s 123ms/step - loss: 0.0164 - accuracy: 0.8970 - val_loss: 0.0323 - val_accuracy: 0.7857\n",
      "Epoch 118/120\n",
      "42/42 [==============================] - 5s 118ms/step - loss: 0.0122 - accuracy: 0.9394 - val_loss: 0.0358 - val_accuracy: 0.7143\n",
      "Epoch 119/120\n",
      "42/42 [==============================] - 5s 114ms/step - loss: 0.0157 - accuracy: 0.8909 - val_loss: 0.0315 - val_accuracy: 0.7857\n",
      "Epoch 120/120\n",
      "42/42 [==============================] - 5s 115ms/step - loss: 0.0119 - accuracy: 0.9333 - val_loss: 0.0311 - val_accuracy: 0.8000\n"
     ]
    }
   ],
   "source": [
    "#Compile the model \n",
    "model3.compile(loss='mean_squared_logarithmic_error', optimizer='SGD', metrics=['accuracy']) \n",
    "history3 = model3.fit(train_set, validation_data=val_set, epochs=120, batch_size=4)"
   ]
  },
  {
   "cell_type": "code",
   "execution_count": 23,
   "metadata": {},
   "outputs": [
    {
     "data": {
      "image/png": "[encoded data removed]",
      "text/plain": [
       "<Figure size 432x288 with 1 Axes>"
      ]
     },
     "metadata": {
      "needs_background": "light"
     },
     "output_type": "display_data"
    }
   ],
   "source": [
    "# Loss\n",
    "def plot_loss(history3):\n",
    "    train_loss = history3.history['loss']\n",
    "    test_loss = history3.history['val_loss']\n",
    "    x = list(range(1, len(test_loss) + 1))\n",
    "    plt.plot(x, test_loss, color='red', label='Val loss')\n",
    "    plt.plot(x, train_loss, label='Train loss')\n",
    "    plt.xlabel('Epoch')\n",
    "    plt.ylabel('Loss')\n",
    "    plt.title('Loss over Epochs')\n",
    "    plt.legend()\n",
    "plot_loss(history3)\n",
    "plt.savefig('Loss_mlse_SGD_Model_03.jpg') "
   ]
  },
  {
   "cell_type": "code",
   "execution_count": 24,
   "metadata": {},
   "outputs": [
    {
     "data": {
      "image/png": "[encoded data removed]",
      "text/plain": [
       "<Figure size 432x288 with 1 Axes>"
      ]
     },
     "metadata": {
      "needs_background": "light"
     },
     "output_type": "display_data"
    }
   ],
   "source": [
    "# Accuracies\n",
    "def plot_accuracy(history3):\n",
    "    train_acc = history3.history['accuracy']\n",
    "    test_acc = history3.history['val_accuracy']\n",
    "    x = list(range(1, len(test_acc) + 1))\n",
    "    plt.plot(x, test_acc, color='red', label='Val accuracy')\n",
    "    plt.plot(x, train_acc, label='Train accuracy')  \n",
    "    plt.xlabel('Epoch')\n",
    "    plt.ylabel('Accuracy')\n",
    "    plt.title('Accuracy over Epochs')  \n",
    "    plt.legend(loc='lower right')\n",
    "\n",
    "plot_accuracy(history3)\n",
    "plt.savefig('Acc_mlse_SGD_Model_03.jpg') "
   ]
  },
  {
   "cell_type": "code",
   "execution_count": 25,
   "metadata": {},
   "outputs": [],
   "source": [
    "model3.save('pokemon_model_03.h5')"
   ]
  },
  {
   "cell_type": "markdown",
   "metadata": {},
   "source": [
    "### Here I used pokemon_split/test/pikachu/00000187.jpg for testing."
   ]
  },
  {
   "cell_type": "code",
   "execution_count": 48,
   "metadata": {},
   "outputs": [
    {
     "name": "stdout",
     "output_type": "stream",
     "text": [
      "Who's that Pokemon!? ['Pikachu']\n",
      "It's in category [3]\n"
     ]
    }
   ],
   "source": [
    "from keras.models import load_model\n",
    "import cv2\n",
    "import numpy as np\n",
    "model3 = load_model('pokemon_model_03.h5')\n",
    "\n",
    "class_names3=['Bulbasaur', 'Charmander', 'Mewtwo', 'Pikachu', 'Squirtle']\n",
    "\n",
    "model3.compile(loss='mean_squared_logarithmic_error',\n",
    "              optimizer='SGD',\n",
    "              metrics=['accuracy'])\n",
    "\n",
    "img_test3 = cv2.imread('pokemon_split/test/pikachu/00000187.jpg')\n",
    "img_test3 = cv2.resize(img_test3,(224,224))\n",
    "img_test3 = np.reshape(img_test3,[1,224,224,3])\n",
    "\n",
    "classes3 = np.argmax(model3.predict(img_test3), axis = -1)\n",
    "names3 = [class_names3[i] for i in classes3]\n",
    "\n",
    "print (\"Who's that Pokemon!?\", names3)\n",
    "print (\"It's in category\", classes3)\n"
   ]
  },
  {
   "cell_type": "markdown",
   "metadata": {},
   "source": [
    "# Model 4 - Fine Tuning\n",
    "### mean_squared_logarithmic_error | SGD"
   ]
  },
  {
   "cell_type": "code",
   "execution_count": 27,
   "metadata": {},
   "outputs": [
    {
     "name": "stdout",
     "output_type": "stream",
     "text": [
      "Model: \"model_3\"\n",
      "_________________________________________________________________\n",
      " Layer (type)                Output Shape              Param #   \n",
      "=================================================================\n",
      " input_4 (InputLayer)        [(None, 224, 224, 3)]     0         \n",
      "                                                                 \n",
      " block1_conv1 (Conv2D)       (None, 224, 224, 64)      1792      \n",
      "                                                                 \n",
      " block1_conv2 (Conv2D)       (None, 224, 224, 64)      36928     \n",
      "                                                                 \n",
      " block1_pool (MaxPooling2D)  (None, 112, 112, 64)      0         \n",
      "                                                                 \n",
      " block2_conv1 (Conv2D)       (None, 112, 112, 128)     73856     \n",
      "                                                                 \n",
      " block2_conv2 (Conv2D)       (None, 112, 112, 128)     147584    \n",
      "                                                                 \n",
      " block2_pool (MaxPooling2D)  (None, 56, 56, 128)       0         \n",
      "                                                                 \n",
      " block3_conv1 (Conv2D)       (None, 56, 56, 256)       295168    \n",
      "                                                                 \n",
      " block3_conv2 (Conv2D)       (None, 56, 56, 256)       590080    \n",
      "                                                                 \n",
      " block3_conv3 (Conv2D)       (None, 56, 56, 256)       590080    \n",
      "                                                                 \n",
      " block3_pool (MaxPooling2D)  (None, 28, 28, 256)       0         \n",
      "                                                                 \n",
      " block4_conv1 (Conv2D)       (None, 28, 28, 512)       1180160   \n",
      "                                                                 \n",
      " block4_conv2 (Conv2D)       (None, 28, 28, 512)       2359808   \n",
      "                                                                 \n",
      " block4_conv3 (Conv2D)       (None, 28, 28, 512)       2359808   \n",
      "                                                                 \n",
      " block4_pool (MaxPooling2D)  (None, 14, 14, 512)       0         \n",
      "                                                                 \n",
      " block5_conv1 (Conv2D)       (None, 14, 14, 512)       2359808   \n",
      "                                                                 \n",
      " block5_conv2 (Conv2D)       (None, 14, 14, 512)       2359808   \n",
      "                                                                 \n",
      " block5_conv3 (Conv2D)       (None, 14, 14, 512)       2359808   \n",
      "                                                                 \n",
      " block5_pool (MaxPooling2D)  (None, 7, 7, 512)         0         \n",
      "                                                                 \n",
      " flatten_3 (Flatten)         (None, 25088)             0         \n",
      "                                                                 \n",
      " dense_3 (Dense)             (None, 5)                 125445    \n",
      "                                                                 \n",
      "=================================================================\n",
      "Total params: 14,840,133\n",
      "Trainable params: 125,445\n",
      "Non-trainable params: 14,714,688\n",
      "_________________________________________________________________\n"
     ]
    }
   ],
   "source": [
    "from keras.applications.vgg16 import VGG16\n",
    "import keras\n",
    "\n",
    "img_height, img_width = 224,224\n",
    "conv_base4 = VGG16(input_shape = (img_width, img_height, 3), weights='imagenet', include_top=False) #Training with Imagenet weights\n",
    "\n",
    "\n",
    "\n",
    "for layer in conv_base4.layers:\n",
    "\n",
    "  layer.trainable = False\n",
    "\n",
    "\n",
    "\n",
    "x = Flatten()(conv_base4.output) #Output obtained on vgg16 is now flattened.\n",
    "prediction = Dense(5, activation='softmax')(x) # We have 5 classes\n",
    "\n",
    "\n",
    "\n",
    "#Creating model object\n",
    "\n",
    "model4 = Model(inputs=conv_base4.input, outputs=prediction)\n",
    "\n",
    "\n",
    "\n",
    "model4.summary()"
   ]
  },
  {
   "cell_type": "code",
   "execution_count": 28,
   "metadata": {},
   "outputs": [
    {
     "name": "stdout",
     "output_type": "stream",
     "text": [
      "Epoch 1/50\n",
      "42/42 [==============================] - 6s 120ms/step - loss: 0.0900 - accuracy: 0.2061 - val_loss: 0.1011 - val_accuracy: 0.2143\n",
      "Epoch 2/50\n",
      "42/42 [==============================] - 5s 126ms/step - loss: 0.0876 - accuracy: 0.2606 - val_loss: 0.0765 - val_accuracy: 0.2714\n",
      "Epoch 3/50\n",
      "42/42 [==============================] - 5s 117ms/step - loss: 0.0845 - accuracy: 0.2424 - val_loss: 0.0757 - val_accuracy: 0.4000\n",
      "Epoch 4/50\n",
      "42/42 [==============================] - 5s 118ms/step - loss: 0.0758 - accuracy: 0.3515 - val_loss: 0.0755 - val_accuracy: 0.3143\n",
      "Epoch 5/50\n",
      "42/42 [==============================] - 5s 112ms/step - loss: 0.0698 - accuracy: 0.4303 - val_loss: 0.0669 - val_accuracy: 0.4143\n",
      "Epoch 6/50\n",
      "42/42 [==============================] - 5s 113ms/step - loss: 0.0704 - accuracy: 0.4242 - val_loss: 0.0732 - val_accuracy: 0.4000\n",
      "Epoch 7/50\n",
      "42/42 [==============================] - 5s 113ms/step - loss: 0.0680 - accuracy: 0.4364 - val_loss: 0.0634 - val_accuracy: 0.4429\n",
      "Epoch 8/50\n",
      "42/42 [==============================] - 5s 113ms/step - loss: 0.0619 - accuracy: 0.5152 - val_loss: 0.0693 - val_accuracy: 0.4286\n",
      "Epoch 9/50\n",
      "42/42 [==============================] - 5s 129ms/step - loss: 0.0547 - accuracy: 0.5818 - val_loss: 0.0582 - val_accuracy: 0.5571\n",
      "Epoch 10/50\n",
      "42/42 [==============================] - 5s 120ms/step - loss: 0.0572 - accuracy: 0.5576 - val_loss: 0.0682 - val_accuracy: 0.4429\n",
      "Epoch 11/50\n",
      "42/42 [==============================] - 5s 114ms/step - loss: 0.0494 - accuracy: 0.6061 - val_loss: 0.0722 - val_accuracy: 0.4571\n",
      "Epoch 12/50\n",
      "42/42 [==============================] - 5s 113ms/step - loss: 0.0591 - accuracy: 0.5091 - val_loss: 0.0526 - val_accuracy: 0.6000\n",
      "Epoch 13/50\n",
      "42/42 [==============================] - 5s 113ms/step - loss: 0.0555 - accuracy: 0.5091 - val_loss: 0.0522 - val_accuracy: 0.6143\n",
      "Epoch 14/50\n",
      "42/42 [==============================] - 5s 114ms/step - loss: 0.0529 - accuracy: 0.5758 - val_loss: 0.0510 - val_accuracy: 0.6714\n",
      "Epoch 15/50\n",
      "42/42 [==============================] - 5s 113ms/step - loss: 0.0529 - accuracy: 0.5818 - val_loss: 0.0514 - val_accuracy: 0.5857\n",
      "Epoch 16/50\n",
      "42/42 [==============================] - 5s 113ms/step - loss: 0.0506 - accuracy: 0.5818 - val_loss: 0.0481 - val_accuracy: 0.6286\n",
      "Epoch 17/50\n",
      "42/42 [==============================] - 5s 116ms/step - loss: 0.0421 - accuracy: 0.6970 - val_loss: 0.0598 - val_accuracy: 0.5286\n",
      "Epoch 18/50\n",
      "42/42 [==============================] - 5s 113ms/step - loss: 0.0430 - accuracy: 0.6606 - val_loss: 0.0466 - val_accuracy: 0.6429\n",
      "Epoch 19/50\n",
      "42/42 [==============================] - 5s 113ms/step - loss: 0.0477 - accuracy: 0.6606 - val_loss: 0.0526 - val_accuracy: 0.6000\n",
      "Epoch 20/50\n",
      "42/42 [==============================] - 5s 113ms/step - loss: 0.0495 - accuracy: 0.6182 - val_loss: 0.0497 - val_accuracy: 0.6000\n",
      "Epoch 21/50\n",
      "42/42 [==============================] - 5s 113ms/step - loss: 0.0427 - accuracy: 0.6727 - val_loss: 0.0462 - val_accuracy: 0.6571\n",
      "Epoch 22/50\n",
      "42/42 [==============================] - 5s 114ms/step - loss: 0.0430 - accuracy: 0.6909 - val_loss: 0.0476 - val_accuracy: 0.6571\n",
      "Epoch 23/50\n",
      "42/42 [==============================] - 5s 117ms/step - loss: 0.0429 - accuracy: 0.6424 - val_loss: 0.0489 - val_accuracy: 0.6286\n",
      "Epoch 24/50\n",
      "42/42 [==============================] - 5s 116ms/step - loss: 0.0398 - accuracy: 0.7212 - val_loss: 0.0444 - val_accuracy: 0.6714\n",
      "Epoch 25/50\n",
      "42/42 [==============================] - 5s 114ms/step - loss: 0.0371 - accuracy: 0.7636 - val_loss: 0.0537 - val_accuracy: 0.6143\n",
      "Epoch 26/50\n",
      "42/42 [==============================] - 5s 114ms/step - loss: 0.0387 - accuracy: 0.7394 - val_loss: 0.0458 - val_accuracy: 0.6857\n",
      "Epoch 27/50\n",
      "42/42 [==============================] - 5s 115ms/step - loss: 0.0374 - accuracy: 0.7152 - val_loss: 0.0593 - val_accuracy: 0.5286\n",
      "Epoch 28/50\n",
      "42/42 [==============================] - 5s 114ms/step - loss: 0.0390 - accuracy: 0.7273 - val_loss: 0.0470 - val_accuracy: 0.5714\n",
      "Epoch 29/50\n",
      "42/42 [==============================] - 5s 114ms/step - loss: 0.0365 - accuracy: 0.6788 - val_loss: 0.0500 - val_accuracy: 0.6429\n",
      "Epoch 30/50\n",
      "42/42 [==============================] - 5s 115ms/step - loss: 0.0389 - accuracy: 0.7030 - val_loss: 0.0450 - val_accuracy: 0.6714\n",
      "Epoch 31/50\n",
      "42/42 [==============================] - 5s 115ms/step - loss: 0.0333 - accuracy: 0.7636 - val_loss: 0.0621 - val_accuracy: 0.5000\n",
      "Epoch 32/50\n",
      "42/42 [==============================] - 5s 116ms/step - loss: 0.0382 - accuracy: 0.7212 - val_loss: 0.0436 - val_accuracy: 0.6857\n",
      "Epoch 33/50\n",
      "42/42 [==============================] - 5s 114ms/step - loss: 0.0380 - accuracy: 0.7333 - val_loss: 0.0486 - val_accuracy: 0.5714\n",
      "Epoch 34/50\n",
      "42/42 [==============================] - 5s 116ms/step - loss: 0.0327 - accuracy: 0.7939 - val_loss: 0.0438 - val_accuracy: 0.6429\n",
      "Epoch 35/50\n",
      "42/42 [==============================] - 5s 114ms/step - loss: 0.0301 - accuracy: 0.8000 - val_loss: 0.0520 - val_accuracy: 0.6143\n",
      "Epoch 36/50\n",
      "42/42 [==============================] - 5s 115ms/step - loss: 0.0332 - accuracy: 0.7636 - val_loss: 0.0410 - val_accuracy: 0.7143\n",
      "Epoch 37/50\n",
      "42/42 [==============================] - 5s 117ms/step - loss: 0.0328 - accuracy: 0.7576 - val_loss: 0.0445 - val_accuracy: 0.6429\n",
      "Epoch 38/50\n",
      "42/42 [==============================] - 5s 118ms/step - loss: 0.0280 - accuracy: 0.7879 - val_loss: 0.0399 - val_accuracy: 0.7286\n",
      "Epoch 39/50\n",
      "42/42 [==============================] - 5s 122ms/step - loss: 0.0308 - accuracy: 0.7697 - val_loss: 0.0444 - val_accuracy: 0.6571\n",
      "Epoch 40/50\n",
      "42/42 [==============================] - 5s 122ms/step - loss: 0.0270 - accuracy: 0.7939 - val_loss: 0.0464 - val_accuracy: 0.6286\n",
      "Epoch 41/50\n",
      "42/42 [==============================] - 6s 131ms/step - loss: 0.0291 - accuracy: 0.8242 - val_loss: 0.0462 - val_accuracy: 0.6714\n",
      "Epoch 42/50\n",
      "42/42 [==============================] - 5s 130ms/step - loss: 0.0287 - accuracy: 0.8182 - val_loss: 0.0396 - val_accuracy: 0.7286\n",
      "Epoch 43/50\n",
      "42/42 [==============================] - 5s 127ms/step - loss: 0.0264 - accuracy: 0.8364 - val_loss: 0.0400 - val_accuracy: 0.6714\n",
      "Epoch 44/50\n",
      "42/42 [==============================] - 5s 117ms/step - loss: 0.0288 - accuracy: 0.7758 - val_loss: 0.0384 - val_accuracy: 0.7286\n",
      "Epoch 45/50\n",
      "42/42 [==============================] - 5s 118ms/step - loss: 0.0280 - accuracy: 0.8000 - val_loss: 0.0486 - val_accuracy: 0.6571\n",
      "Epoch 46/50\n",
      "42/42 [==============================] - 5s 123ms/step - loss: 0.0279 - accuracy: 0.8000 - val_loss: 0.0518 - val_accuracy: 0.6143\n",
      "Epoch 47/50\n",
      "42/42 [==============================] - 5s 117ms/step - loss: 0.0334 - accuracy: 0.7879 - val_loss: 0.0377 - val_accuracy: 0.7429\n",
      "Epoch 48/50\n",
      "42/42 [==============================] - 5s 114ms/step - loss: 0.0332 - accuracy: 0.7879 - val_loss: 0.0415 - val_accuracy: 0.7000\n",
      "Epoch 49/50\n",
      "42/42 [==============================] - 5s 112ms/step - loss: 0.0265 - accuracy: 0.7939 - val_loss: 0.0343 - val_accuracy: 0.7571\n",
      "Epoch 50/50\n",
      "42/42 [==============================] - 5s 112ms/step - loss: 0.0268 - accuracy: 0.8545 - val_loss: 0.0381 - val_accuracy: 0.7000\n"
     ]
    }
   ],
   "source": [
    "#Compile the model \n",
    "model4.compile(loss='mean_squared_logarithmic_error', optimizer='SGD', metrics=['accuracy']) \n",
    "history4 = model4.fit(train_set, validation_data=val_set, epochs=50, batch_size=4)"
   ]
  },
  {
   "cell_type": "code",
   "execution_count": 29,
   "metadata": {},
   "outputs": [
    {
     "data": {
      "image/png": "[encoded data removed]",
      "text/plain": [
       "<Figure size 432x288 with 1 Axes>"
      ]
     },
     "metadata": {
      "needs_background": "light"
     },
     "output_type": "display_data"
    }
   ],
   "source": [
    "# Loss\n",
    "def plot_loss(history4):\n",
    "    train_loss = history4.history['loss']\n",
    "    test_loss = history4.history['val_loss']\n",
    "    x = list(range(1, len(test_loss) + 1))\n",
    "    plt.plot(x, test_loss, color='red', label='Val loss')\n",
    "    plt.plot(x, train_loss, label='Train loss')\n",
    "    plt.xlabel('Epoch')\n",
    "    plt.ylabel('Loss')\n",
    "    plt.title('Loss over Epochs')\n",
    "    plt.legend()\n",
    "plot_loss(history4)\n",
    "plt.savefig('Loss_mlse_SGD_Model_04.jpg') "
   ]
  },
  {
   "cell_type": "code",
   "execution_count": 30,
   "metadata": {},
   "outputs": [
    {
     "data": {
      "image/png": "[encoded data removed]",
      "text/plain": [
       "<Figure size 432x288 with 1 Axes>"
      ]
     },
     "metadata": {
      "needs_background": "light"
     },
     "output_type": "display_data"
    }
   ],
   "source": [
    "# Accuracies\n",
    "def plot_accuracy(history4):\n",
    "    train_acc = history4.history['accuracy']\n",
    "    test_acc = history4.history['val_accuracy']\n",
    "    x = list(range(1, len(test_acc) + 1))\n",
    "    plt.plot(x, test_acc, color='red', label='Val accuracy')\n",
    "    plt.plot(x, train_acc, label='Train accuracy')  \n",
    "    plt.xlabel('Epoch')\n",
    "    plt.ylabel('Accuracy')\n",
    "    plt.title('Accuracy over Epochs')  \n",
    "    plt.legend(loc='lower right')\n",
    "\n",
    "plot_accuracy(history4)\n",
    "plt.savefig('Acc_mlse_SGD_Model_04.jpg') "
   ]
  },
  {
   "cell_type": "code",
   "execution_count": 31,
   "metadata": {},
   "outputs": [],
   "source": [
    "model4.save('pokemon_model_04.h5')"
   ]
  },
  {
   "cell_type": "markdown",
   "metadata": {},
   "source": [
    "### Here I used pokemon_split/test/pikachu/00000187.jpg for testing."
   ]
  },
  {
   "cell_type": "code",
   "execution_count": 47,
   "metadata": {},
   "outputs": [
    {
     "name": "stdout",
     "output_type": "stream",
     "text": [
      "Who's that Pokemon!? ['Pikachu']\n",
      "It's in category [3]\n"
     ]
    }
   ],
   "source": [
    "from keras.models import load_model\n",
    "import cv2\n",
    "import numpy as np\n",
    "model4 = load_model('pokemon_model_04.h5')\n",
    "\n",
    "class_names4=['Bulbasaur', 'Charmander', 'Mewtwo', 'Pikachu', 'Squirtle']\n",
    "\n",
    "model4.compile(loss='mean_squared_logarithmic_error',\n",
    "              optimizer='SGD',\n",
    "              metrics=['accuracy'])\n",
    "\n",
    "img_test4 = cv2.imread('pokemon_split/test/pikachu/00000187.jpg')\n",
    "img_test4 = cv2.resize(img_test4,(224,224))\n",
    "img_test4 = np.reshape(img_test4,[1,224,224,3])\n",
    "\n",
    "classes4 = np.argmax(model4.predict(img_test4), axis = -1)\n",
    "names4 = [class_names4[i] for i in classes4]\n",
    "\n",
    "print (\"Who's that Pokemon!?\", names4)\n",
    "print (\"It's in category\", classes4)"
   ]
  },
  {
   "cell_type": "markdown",
   "metadata": {},
   "source": [
    "### Here I used pokemon_split/test/pikachu/00000187.jpg for testing."
   ]
  },
  {
   "cell_type": "code",
   "execution_count": 33,
   "metadata": {},
   "outputs": [
    {
     "name": "stdout",
     "output_type": "stream",
     "text": [
      "Model: \"model_4\"\n",
      "_________________________________________________________________\n",
      " Layer (type)                Output Shape              Param #   \n",
      "=================================================================\n",
      " input_5 (InputLayer)        [(None, 224, 224, 3)]     0         \n",
      "                                                                 \n",
      " block1_conv1 (Conv2D)       (None, 224, 224, 64)      1792      \n",
      "                                                                 \n",
      " block1_conv2 (Conv2D)       (None, 224, 224, 64)      36928     \n",
      "                                                                 \n",
      " block1_pool (MaxPooling2D)  (None, 112, 112, 64)      0         \n",
      "                                                                 \n",
      " block2_conv1 (Conv2D)       (None, 112, 112, 128)     73856     \n",
      "                                                                 \n",
      " block2_conv2 (Conv2D)       (None, 112, 112, 128)     147584    \n",
      "                                                                 \n",
      " block2_pool (MaxPooling2D)  (None, 56, 56, 128)       0         \n",
      "                                                                 \n",
      " block3_conv1 (Conv2D)       (None, 56, 56, 256)       295168    \n",
      "                                                                 \n",
      " block3_conv2 (Conv2D)       (None, 56, 56, 256)       590080    \n",
      "                                                                 \n",
      " block3_conv3 (Conv2D)       (None, 56, 56, 256)       590080    \n",
      "                                                                 \n",
      " block3_pool (MaxPooling2D)  (None, 28, 28, 256)       0         \n",
      "                                                                 \n",
      " block4_conv1 (Conv2D)       (None, 28, 28, 512)       1180160   \n",
      "                                                                 \n",
      " block4_conv2 (Conv2D)       (None, 28, 28, 512)       2359808   \n",
      "                                                                 \n",
      " block4_conv3 (Conv2D)       (None, 28, 28, 512)       2359808   \n",
      "                                                                 \n",
      " block4_pool (MaxPooling2D)  (None, 14, 14, 512)       0         \n",
      "                                                                 \n",
      " block5_conv1 (Conv2D)       (None, 14, 14, 512)       2359808   \n",
      "                                                                 \n",
      " block5_conv2 (Conv2D)       (None, 14, 14, 512)       2359808   \n",
      "                                                                 \n",
      " block5_conv3 (Conv2D)       (None, 14, 14, 512)       2359808   \n",
      "                                                                 \n",
      " block5_pool (MaxPooling2D)  (None, 7, 7, 512)         0         \n",
      "                                                                 \n",
      " flatten_4 (Flatten)         (None, 25088)             0         \n",
      "                                                                 \n",
      " dense_4 (Dense)             (None, 256)               6422784   \n",
      "                                                                 \n",
      " dense_5 (Dense)             (None, 128)               32896     \n",
      "                                                                 \n",
      " dense_6 (Dense)             (None, 64)                8256      \n",
      "                                                                 \n",
      " dense_7 (Dense)             (None, 5)                 325       \n",
      "                                                                 \n",
      "=================================================================\n",
      "Total params: 21,178,949\n",
      "Trainable params: 21,178,949\n",
      "Non-trainable params: 0\n",
      "_________________________________________________________________\n"
     ]
    }
   ],
   "source": [
    "from keras.applications.vgg16 import VGG16\n",
    "import keras\n",
    "\n",
    "img_height, img_width = 224,224\n",
    "conv_base4 = VGG16(input_shape = (img_width, img_height, 3), weights='imagenet', include_top=False) #Training with Imagenet weights\n",
    "\n",
    "\n",
    "# layer.trainable is set to True to unfreeze the based model for fine-tuning\n",
    "for layer in conv_base4.layers:\n",
    "\n",
    "  layer.trainable = True \n",
    "\n",
    "\n",
    "\n",
    "x = Flatten()(conv_base4.output) #Output obtained on vgg16 is now flattened.\n",
    "\n",
    "x = keras.layers.Dense(256, activation='relu')(x) # We have 5 classes, and so, the prediction is being done on len(folders) - 5 classes\n",
    "\n",
    "x = keras.layers.Dense(128, activation='relu')(x)\n",
    "\n",
    "x = keras.layers.Dense(64, activation='relu')(x)\n",
    "\n",
    "prediction = Dense(5, activation='softmax')(x) # We have 5 classes\n",
    "\n",
    "\n",
    "\n",
    "#Creating model object\n",
    "\n",
    "model4 = Model(inputs=conv_base4.input, outputs=prediction)\n",
    "\n",
    "\n",
    "\n",
    "model4.summary()"
   ]
  },
  {
   "cell_type": "code",
   "execution_count": 34,
   "metadata": {},
   "outputs": [
    {
     "name": "stdout",
     "output_type": "stream",
     "text": [
      "Layer 0: input_5 (True)\n",
      "Layer 1: block1_conv1 (True)\n",
      "Layer 2: block1_conv2 (True)\n",
      "Layer 3: block1_pool (True)\n",
      "Layer 4: block2_conv1 (True)\n",
      "Layer 5: block2_conv2 (True)\n",
      "Layer 6: block2_pool (True)\n",
      "Layer 7: block3_conv1 (True)\n",
      "Layer 8: block3_conv2 (True)\n",
      "Layer 9: block3_conv3 (True)\n",
      "Layer 10: block3_pool (True)\n",
      "Layer 11: block4_conv1 (True)\n",
      "Layer 12: block4_conv2 (True)\n",
      "Layer 13: block4_conv3 (True)\n",
      "Layer 14: block4_pool (True)\n",
      "Layer 15: block5_conv1 (True)\n",
      "Layer 16: block5_conv2 (True)\n",
      "Layer 17: block5_conv3 (True)\n",
      "Layer 18: block5_pool (True)\n"
     ]
    }
   ],
   "source": [
    "# To check if the layer is unfreezed for fine tuning.\n",
    "\n",
    "for i, layer in enumerate(conv_base4.layers):\n",
    "    print('Layer {}: {} ({})'.format(i, layer.name, layer.trainable))"
   ]
  },
  {
   "cell_type": "code",
   "execution_count": 35,
   "metadata": {},
   "outputs": [
    {
     "name": "stdout",
     "output_type": "stream",
     "text": [
      "Epoch 1/50\n",
      "42/42 [==============================] - 6s 124ms/step - loss: 0.0799 - accuracy: 0.2303 - val_loss: 0.0764 - val_accuracy: 0.3143\n",
      "Epoch 2/50\n",
      "42/42 [==============================] - 5s 112ms/step - loss: 0.0777 - accuracy: 0.2667 - val_loss: 0.0751 - val_accuracy: 0.3714\n",
      "Epoch 3/50\n",
      "42/42 [==============================] - 5s 115ms/step - loss: 0.0772 - accuracy: 0.2970 - val_loss: 0.0739 - val_accuracy: 0.3571\n",
      "Epoch 4/50\n",
      "42/42 [==============================] - 5s 114ms/step - loss: 0.0739 - accuracy: 0.3515 - val_loss: 0.0691 - val_accuracy: 0.5571\n",
      "Epoch 5/50\n",
      "42/42 [==============================] - 5s 115ms/step - loss: 0.0701 - accuracy: 0.4303 - val_loss: 0.0630 - val_accuracy: 0.4857\n",
      "Epoch 6/50\n",
      "42/42 [==============================] - 5s 114ms/step - loss: 0.0614 - accuracy: 0.5636 - val_loss: 0.0590 - val_accuracy: 0.5286\n",
      "Epoch 7/50\n",
      "42/42 [==============================] - 5s 121ms/step - loss: 0.0535 - accuracy: 0.6000 - val_loss: 0.0516 - val_accuracy: 0.6571\n",
      "Epoch 8/50\n",
      "42/42 [==============================] - 5s 119ms/step - loss: 0.0458 - accuracy: 0.6727 - val_loss: 0.0490 - val_accuracy: 0.5857\n",
      "Epoch 9/50\n",
      "42/42 [==============================] - 5s 119ms/step - loss: 0.0390 - accuracy: 0.7030 - val_loss: 0.0572 - val_accuracy: 0.5286\n",
      "Epoch 10/50\n",
      "42/42 [==============================] - 5s 114ms/step - loss: 0.0368 - accuracy: 0.7576 - val_loss: 0.0304 - val_accuracy: 0.7571\n",
      "Epoch 11/50\n",
      "42/42 [==============================] - 5s 113ms/step - loss: 0.0297 - accuracy: 0.8061 - val_loss: 0.0278 - val_accuracy: 0.7714\n",
      "Epoch 12/50\n",
      "42/42 [==============================] - 5s 114ms/step - loss: 0.0330 - accuracy: 0.7939 - val_loss: 0.0446 - val_accuracy: 0.6714\n",
      "Epoch 13/50\n",
      "42/42 [==============================] - 5s 117ms/step - loss: 0.0274 - accuracy: 0.8061 - val_loss: 0.0248 - val_accuracy: 0.8143\n",
      "Epoch 14/50\n",
      "42/42 [==============================] - 5s 114ms/step - loss: 0.0273 - accuracy: 0.8121 - val_loss: 0.0316 - val_accuracy: 0.8286\n",
      "Epoch 15/50\n",
      "42/42 [==============================] - 5s 115ms/step - loss: 0.0219 - accuracy: 0.8485 - val_loss: 0.0330 - val_accuracy: 0.7714\n",
      "Epoch 16/50\n",
      "42/42 [==============================] - 5s 112ms/step - loss: 0.0172 - accuracy: 0.8970 - val_loss: 0.0263 - val_accuracy: 0.8571\n",
      "Epoch 17/50\n",
      "42/42 [==============================] - 5s 119ms/step - loss: 0.0198 - accuracy: 0.8606 - val_loss: 0.0203 - val_accuracy: 0.8286\n",
      "Epoch 18/50\n",
      "42/42 [==============================] - 5s 118ms/step - loss: 0.0148 - accuracy: 0.8909 - val_loss: 0.0202 - val_accuracy: 0.8286\n",
      "Epoch 19/50\n",
      "42/42 [==============================] - 5s 118ms/step - loss: 0.0097 - accuracy: 0.9455 - val_loss: 0.0363 - val_accuracy: 0.7714\n",
      "Epoch 20/50\n",
      "42/42 [==============================] - 5s 121ms/step - loss: 0.0180 - accuracy: 0.8727 - val_loss: 0.0207 - val_accuracy: 0.8429\n",
      "Epoch 21/50\n",
      "42/42 [==============================] - 5s 121ms/step - loss: 0.0070 - accuracy: 0.9636 - val_loss: 0.0171 - val_accuracy: 0.8714\n",
      "Epoch 22/50\n",
      "42/42 [==============================] - 5s 113ms/step - loss: 0.0106 - accuracy: 0.9394 - val_loss: 0.0358 - val_accuracy: 0.7714\n",
      "Epoch 23/50\n",
      "42/42 [==============================] - 6s 136ms/step - loss: 0.0092 - accuracy: 0.9394 - val_loss: 0.0125 - val_accuracy: 0.9286\n",
      "Epoch 24/50\n",
      "42/42 [==============================] - 5s 119ms/step - loss: 0.0067 - accuracy: 0.9576 - val_loss: 0.0397 - val_accuracy: 0.7857\n",
      "Epoch 25/50\n",
      "42/42 [==============================] - 5s 119ms/step - loss: 0.0073 - accuracy: 0.9515 - val_loss: 0.0154 - val_accuracy: 0.8857\n",
      "Epoch 26/50\n",
      "42/42 [==============================] - 5s 116ms/step - loss: 0.0074 - accuracy: 0.9394 - val_loss: 0.0166 - val_accuracy: 0.8857\n",
      "Epoch 27/50\n",
      "42/42 [==============================] - 5s 114ms/step - loss: 0.0073 - accuracy: 0.9515 - val_loss: 0.0200 - val_accuracy: 0.8429\n",
      "Epoch 28/50\n",
      "42/42 [==============================] - 5s 116ms/step - loss: 0.0072 - accuracy: 0.9576 - val_loss: 0.0126 - val_accuracy: 0.9429\n",
      "Epoch 29/50\n",
      "42/42 [==============================] - 5s 117ms/step - loss: 0.0063 - accuracy: 0.9636 - val_loss: 0.0184 - val_accuracy: 0.8714\n",
      "Epoch 30/50\n",
      "42/42 [==============================] - 5s 120ms/step - loss: 0.0021 - accuracy: 0.9939 - val_loss: 0.0191 - val_accuracy: 0.8714\n",
      "Epoch 31/50\n",
      "42/42 [==============================] - 5s 116ms/step - loss: 0.0057 - accuracy: 0.9576 - val_loss: 0.0190 - val_accuracy: 0.8714\n",
      "Epoch 32/50\n",
      "42/42 [==============================] - 5s 118ms/step - loss: 0.0082 - accuracy: 0.9455 - val_loss: 0.0167 - val_accuracy: 0.8857\n",
      "Epoch 33/50\n",
      "42/42 [==============================] - 6s 134ms/step - loss: 0.0025 - accuracy: 0.9879 - val_loss: 0.0429 - val_accuracy: 0.6857\n",
      "Epoch 34/50\n",
      "42/42 [==============================] - 5s 116ms/step - loss: 0.0038 - accuracy: 0.9758 - val_loss: 0.0089 - val_accuracy: 0.9429\n",
      "Epoch 35/50\n",
      "42/42 [==============================] - 5s 120ms/step - loss: 0.0044 - accuracy: 0.9758 - val_loss: 0.0169 - val_accuracy: 0.8714\n",
      "Epoch 36/50\n",
      "42/42 [==============================] - 6s 131ms/step - loss: 0.0066 - accuracy: 0.9576 - val_loss: 0.0177 - val_accuracy: 0.8571\n",
      "Epoch 37/50\n",
      "42/42 [==============================] - 5s 117ms/step - loss: 0.0025 - accuracy: 0.9879 - val_loss: 0.0139 - val_accuracy: 0.9000\n",
      "Epoch 38/50\n",
      "42/42 [==============================] - 5s 114ms/step - loss: 0.0065 - accuracy: 0.9576 - val_loss: 0.0084 - val_accuracy: 0.9571\n",
      "Epoch 39/50\n",
      "42/42 [==============================] - 5s 117ms/step - loss: 0.0023 - accuracy: 0.9879 - val_loss: 0.0078 - val_accuracy: 0.9571\n",
      "Epoch 40/50\n",
      "42/42 [==============================] - 5s 115ms/step - loss: 0.0022 - accuracy: 0.9939 - val_loss: 0.0105 - val_accuracy: 0.9143\n",
      "Epoch 41/50\n",
      "42/42 [==============================] - 5s 114ms/step - loss: 0.0033 - accuracy: 0.9818 - val_loss: 0.0084 - val_accuracy: 0.9429\n",
      "Epoch 42/50\n",
      "42/42 [==============================] - 5s 114ms/step - loss: 0.0032 - accuracy: 0.9758 - val_loss: 0.0641 - val_accuracy: 0.6286\n",
      "Epoch 43/50\n",
      "42/42 [==============================] - 5s 115ms/step - loss: 0.0053 - accuracy: 0.9697 - val_loss: 0.0161 - val_accuracy: 0.8857\n",
      "Epoch 44/50\n",
      "42/42 [==============================] - 5s 115ms/step - loss: 0.0080 - accuracy: 0.9455 - val_loss: 0.0111 - val_accuracy: 0.9286\n",
      "Epoch 45/50\n",
      "42/42 [==============================] - 5s 115ms/step - loss: 0.0040 - accuracy: 0.9697 - val_loss: 0.0260 - val_accuracy: 0.8286\n",
      "Epoch 46/50\n",
      "42/42 [==============================] - 5s 114ms/step - loss: 0.0028 - accuracy: 0.9818 - val_loss: 0.0108 - val_accuracy: 0.9286\n",
      "Epoch 47/50\n",
      "42/42 [==============================] - 5s 116ms/step - loss: 0.0024 - accuracy: 0.9879 - val_loss: 0.0280 - val_accuracy: 0.8143\n",
      "Epoch 48/50\n",
      "42/42 [==============================] - 6s 140ms/step - loss: 0.0053 - accuracy: 0.9636 - val_loss: 0.0089 - val_accuracy: 0.9571\n",
      "Epoch 49/50\n",
      "42/42 [==============================] - 5s 117ms/step - loss: 0.0025 - accuracy: 0.9879 - val_loss: 0.0240 - val_accuracy: 0.8429\n",
      "Epoch 50/50\n",
      "42/42 [==============================] - 5s 115ms/step - loss: 0.0133 - accuracy: 0.9273 - val_loss: 0.0175 - val_accuracy: 0.8714\n"
     ]
    }
   ],
   "source": [
    "#Compile the model \n",
    "model4.compile(loss='mean_squared_logarithmic_error', optimizer='SGD', metrics=['accuracy']) \n",
    "history5 = model4.fit(train_set, validation_data=val_set, epochs=50, batch_size=4)"
   ]
  },
  {
   "cell_type": "code",
   "execution_count": 36,
   "metadata": {},
   "outputs": [
    {
     "data": {
      "image/png": "[encoded data removed]",
      "text/plain": [
       "<Figure size 432x288 with 1 Axes>"
      ]
     },
     "metadata": {
      "needs_background": "light"
     },
     "output_type": "display_data"
    }
   ],
   "source": [
    "# Loss\n",
    "def plot_loss(history5):\n",
    "    train_loss = history5.history['loss']\n",
    "    test_loss = history5.history['val_loss']\n",
    "    x = list(range(1, len(test_loss) + 1))\n",
    "    plt.plot(x, test_loss, color='red', label='Val loss')\n",
    "    plt.plot(x, train_loss, label='Train loss')\n",
    "    plt.xlabel('Epoch')\n",
    "    plt.ylabel('Loss')\n",
    "    plt.title('Loss over Epochs')\n",
    "    plt.legend()\n",
    "plot_loss(history5)\n",
    "plt.savefig('Loss_mlse_SGD_Model_04_Finetuned.jpg') "
   ]
  },
  {
   "cell_type": "code",
   "execution_count": 37,
   "metadata": {},
   "outputs": [
    {
     "data": {
      "image/png": "[encoded data removed]",
      "text/plain": [
       "<Figure size 432x288 with 1 Axes>"
      ]
     },
     "metadata": {
      "needs_background": "light"
     },
     "output_type": "display_data"
    }
   ],
   "source": [
    "# Accuracies\n",
    "def plot_accuracy(history5):\n",
    "    train_acc = history5.history['accuracy']\n",
    "    test_acc = history5.history['val_accuracy']\n",
    "    x = list(range(1, len(test_acc) + 1))\n",
    "    plt.plot(x, test_acc, color='red', label='Val accuracy')\n",
    "    plt.plot(x, train_acc, label='Train accuracy')  \n",
    "    plt.xlabel('Epoch')\n",
    "    plt.ylabel('Accuracy')\n",
    "    plt.title('Accuracy over Epochs')  \n",
    "    plt.legend(loc='lower right')\n",
    "\n",
    "plot_accuracy(history5)\n",
    "plt.savefig('Acc_mlse_SGD_Model_04_Finetuned.jpg') "
   ]
  },
  {
   "cell_type": "code",
   "execution_count": 38,
   "metadata": {},
   "outputs": [],
   "source": [
    "model4.save('pokemon_model_04_Finetuned.h5')"
   ]
  },
  {
   "cell_type": "code",
   "execution_count": 46,
   "metadata": {},
   "outputs": [
    {
     "name": "stdout",
     "output_type": "stream",
     "text": [
      "Who's that Pokemon!? ['Bulbasaur']\n",
      "It's in category [0]\n"
     ]
    }
   ],
   "source": [
    "from keras.models import load_model\n",
    "import cv2\n",
    "import numpy as np\n",
    "model5 = load_model('pokemon_model_04_Finetuned.h5')\n",
    "\n",
    "class_names5=['Bulbasaur', 'Charmander', 'Mewtwo', 'Pikachu', 'Squirtle']\n",
    "\n",
    "model5.compile(loss='mean_squared_logarithmic_error',\n",
    "              optimizer='SGD',\n",
    "              metrics=['accuracy'])\n",
    "\n",
    "img_test5 = cv2.imread('pokemon_split/test/bulbasaur/00000070.png')\n",
    "img_test5 = cv2.resize(img_test5,(224,224))\n",
    "img_test5 = np.reshape(img_test5,[1,224,224,3])\n",
    "\n",
    "classes5 = np.argmax(model5.predict(img_test5), axis = -1)\n",
    "names5 = [class_names5[i] for i in classes5]\n",
    "\n",
    "print (\"Who's that Pokemon!?\", names5)\n",
    "print (\"It's in category\", classes5)"
   ]
  },
  {
   "cell_type": "code",
   "execution_count": 40,
   "metadata": {},
   "outputs": [],
   "source": [
    "# layer.trainable is set back to freeze.\n",
    "for layer in conv_base4.layers:\n",
    "\n",
    "  layer.trainable = False"
   ]
  },
  {
   "cell_type": "code",
   "execution_count": 41,
   "metadata": {},
   "outputs": [
    {
     "name": "stdout",
     "output_type": "stream",
     "text": [
      "Layer 0: input_5 (False)\n",
      "Layer 1: block1_conv1 (False)\n",
      "Layer 2: block1_conv2 (False)\n",
      "Layer 3: block1_pool (False)\n",
      "Layer 4: block2_conv1 (False)\n",
      "Layer 5: block2_conv2 (False)\n",
      "Layer 6: block2_pool (False)\n",
      "Layer 7: block3_conv1 (False)\n",
      "Layer 8: block3_conv2 (False)\n",
      "Layer 9: block3_conv3 (False)\n",
      "Layer 10: block3_pool (False)\n",
      "Layer 11: block4_conv1 (False)\n",
      "Layer 12: block4_conv2 (False)\n",
      "Layer 13: block4_conv3 (False)\n",
      "Layer 14: block4_pool (False)\n",
      "Layer 15: block5_conv1 (False)\n",
      "Layer 16: block5_conv2 (False)\n",
      "Layer 17: block5_conv3 (False)\n",
      "Layer 18: block5_pool (False)\n"
     ]
    }
   ],
   "source": [
    "# To check if the layer is unfreezed for fine tuning.\n",
    "\n",
    "for i, layer in enumerate(conv_base4.layers):\n",
    "    print('Layer {}: {} ({})'.format(i, layer.name, layer.trainable))"
   ]
  },
  {
   "cell_type": "markdown",
   "metadata": {},
   "source": [
    "## In conclusion, Model 4_Finetuned may have a decent of loss: 0.0133 - accuracy: 0.9273 - val_loss: 0.0175 - val_accuracy: 0.8714\n",
    "## BUT it doesn't mean the model works well when it comes to evaluation as it predicted Falsely.\n",
    "## Could have been better with larger Datasets."
   ]
  }
 ],
 "metadata": {
  "interpreter": {
   "hash": "cd4664fa7a5aabf383dc63d4c6be3ce7c8ab1f8bb78ee54a649d50cfff299c3c"
  },
  "kernelspec": {
   "display_name": "AIITP_Python10",
   "language": "python",
   "name": "python3"
  },
  "language_info": {
   "codemirror_mode": {
    "name": "ipython",
    "version": 3
   },
   "file_extension": ".py",
   "mimetype": "text/x-python",
   "name": "python",
   "nbconvert_exporter": "python",
   "pygments_lexer": "ipython3",
   "version": "3.8.13"
  },
  "orig_nbformat": 4
 },
 "nbformat": 4,
 "nbformat_minor": 2
}
